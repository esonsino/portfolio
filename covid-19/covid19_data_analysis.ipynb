{
  "cells": [
    {
      "cell_type": "markdown",
      "metadata": {},
      "source": [
        "# Welcome to Covid19 Data Analysis Notebook\n",
        "------------------------------------------"
      ],
      "id": "2d6c7743"
    },
    {
      "cell_type": "markdown",
      "metadata": {},
      "source": [
        "### Let's Import the modules "
      ],
      "id": "ffc381ff"
    },
    {
      "cell_type": "code",
      "execution_count": null,
      "metadata": {},
      "outputs": [],
      "source": [
        "import pandas as pd \n",
        "import numpy as np \n",
        "import seaborn as sns\n",
        "import matplotlib.pyplot as plt \n",
        "print('Modules are imported.')"
      ],
      "id": "6e177474"
    },
    {
      "cell_type": "markdown",
      "metadata": {},
      "source": [
        "## Task 2 "
      ],
      "id": "242acefb"
    },
    {
      "cell_type": "markdown",
      "metadata": {},
      "source": [
        "### Task 2.1: importing covid19 dataset\n",
        "importing \"Covid19_Confirmed_dataset.csv\" from \"./Dataset\" folder. \n"
      ],
      "id": "95aefaca"
    },
    {
      "cell_type": "code",
      "execution_count": null,
      "metadata": {},
      "outputs": [],
      "source": [],
      "id": "337f25a3"
    },
    {
      "cell_type": "markdown",
      "metadata": {},
      "source": [
        "#### Let's check the shape of the dataframe"
      ],
      "id": "bfcb6a16"
    },
    {
      "cell_type": "code",
      "execution_count": null,
      "metadata": {},
      "outputs": [],
      "source": [],
      "id": "24f6a022"
    },
    {
      "cell_type": "markdown",
      "metadata": {},
      "source": [
        "### Task 2.2: Delete the useless columns"
      ],
      "id": "44a0e571"
    },
    {
      "cell_type": "code",
      "execution_count": null,
      "metadata": {},
      "outputs": [],
      "source": [],
      "id": "aa9f58a9"
    },
    {
      "cell_type": "code",
      "execution_count": null,
      "metadata": {},
      "outputs": [],
      "source": [],
      "id": "f71236d7"
    },
    {
      "cell_type": "markdown",
      "metadata": {},
      "source": [
        "### Task 2.3: Aggregating the rows by the country"
      ],
      "id": "589c8680"
    },
    {
      "cell_type": "code",
      "execution_count": null,
      "metadata": {},
      "outputs": [],
      "source": [],
      "id": "fce09504"
    },
    {
      "cell_type": "code",
      "execution_count": null,
      "metadata": {},
      "outputs": [],
      "source": [],
      "id": "f6383029"
    },
    {
      "cell_type": "code",
      "execution_count": null,
      "metadata": {},
      "outputs": [],
      "source": [],
      "id": "4d15984d"
    },
    {
      "cell_type": "markdown",
      "metadata": {},
      "source": [
        "### Task 2.4: Visualizing data related to a country for example China\n",
        "visualization always helps for better understanding of our data."
      ],
      "id": "d6ae80ac"
    },
    {
      "cell_type": "code",
      "execution_count": null,
      "metadata": {},
      "outputs": [],
      "source": [],
      "id": "1ec702be"
    },
    {
      "cell_type": "markdown",
      "metadata": {},
      "source": [
        "### Task3: Calculating a good measure \n",
        "we need to find a good measure reperestend as a number, describing the spread of the virus in a country. "
      ],
      "id": "2993cfd8"
    },
    {
      "cell_type": "code",
      "execution_count": null,
      "metadata": {},
      "outputs": [],
      "source": [
        "corona_dataset_aggregated.loc['China'].plot()"
      ],
      "id": "91e86883"
    },
    {
      "cell_type": "code",
      "execution_count": null,
      "metadata": {},
      "outputs": [],
      "source": [],
      "id": "87d6cae7"
    },
    {
      "cell_type": "markdown",
      "metadata": {},
      "source": [
        "### task 3.1: caculating the first derivative of the curve"
      ],
      "id": "9678248f"
    },
    {
      "cell_type": "code",
      "execution_count": null,
      "metadata": {},
      "outputs": [],
      "source": [],
      "id": "0f896234"
    },
    {
      "cell_type": "markdown",
      "metadata": {},
      "source": [
        "### task 3.2: find maxmimum infection rate for China"
      ],
      "id": "cbb79356"
    },
    {
      "cell_type": "code",
      "execution_count": null,
      "metadata": {},
      "outputs": [],
      "source": [],
      "id": "e17980a6"
    },
    {
      "cell_type": "code",
      "execution_count": null,
      "metadata": {},
      "outputs": [],
      "source": [],
      "id": "62465082"
    },
    {
      "cell_type": "code",
      "execution_count": null,
      "metadata": {},
      "outputs": [],
      "source": [],
      "id": "9ccb7364"
    },
    {
      "cell_type": "markdown",
      "metadata": {},
      "source": [
        "### Task 3.3: find maximum infection rate for all of the countries. "
      ],
      "id": "f8790926"
    },
    {
      "cell_type": "code",
      "execution_count": null,
      "metadata": {},
      "outputs": [],
      "source": [],
      "id": "b1a61332"
    },
    {
      "cell_type": "code",
      "execution_count": null,
      "metadata": {},
      "outputs": [],
      "source": [],
      "id": "63873ce0"
    },
    {
      "cell_type": "markdown",
      "metadata": {},
      "source": [
        "### Task 3.4: create a new dataframe with only needed column "
      ],
      "id": "5d6eeeb4"
    },
    {
      "cell_type": "code",
      "execution_count": null,
      "metadata": {},
      "outputs": [],
      "source": [],
      "id": "00e9e988"
    },
    {
      "cell_type": "code",
      "execution_count": null,
      "metadata": {},
      "outputs": [],
      "source": [],
      "id": "50ec5c3d"
    },
    {
      "cell_type": "markdown",
      "metadata": {},
      "source": [
        "### Task4: \n",
        "- Importing the WorldHappinessReport.csv dataset\n",
        "- selecting needed columns for our analysis \n",
        "- join the datasets \n",
        "- calculate the correlations as the result of our analysis"
      ],
      "id": "106fef3a"
    },
    {
      "cell_type": "markdown",
      "metadata": {},
      "source": [
        "### Task 4.1 : importing the dataset"
      ],
      "id": "02a0c208"
    },
    {
      "cell_type": "code",
      "execution_count": null,
      "metadata": {},
      "outputs": [],
      "source": [],
      "id": "2361c038"
    },
    {
      "cell_type": "code",
      "execution_count": null,
      "metadata": {},
      "outputs": [],
      "source": [],
      "id": "c1f2e5bd"
    },
    {
      "cell_type": "markdown",
      "metadata": {},
      "source": [
        "### Task 4.2: let's drop the useless columns "
      ],
      "id": "9cf5b514"
    },
    {
      "cell_type": "code",
      "execution_count": null,
      "metadata": {},
      "outputs": [],
      "source": [],
      "id": "bba460b6"
    },
    {
      "cell_type": "code",
      "execution_count": null,
      "metadata": {},
      "outputs": [],
      "source": [],
      "id": "9cbfd2f0"
    },
    {
      "cell_type": "markdown",
      "metadata": {},
      "source": [
        "### Task 4.3: changing the indices of the dataframe"
      ],
      "id": "f19abb3e"
    },
    {
      "cell_type": "code",
      "execution_count": null,
      "metadata": {},
      "outputs": [],
      "source": [],
      "id": "c0cfaa3b"
    },
    {
      "cell_type": "markdown",
      "metadata": {},
      "source": [
        "### Task4.4: now let's join two dataset we have prepared  "
      ],
      "id": "c4af3f8c"
    },
    {
      "cell_type": "markdown",
      "metadata": {},
      "source": [
        "#### Corona Dataset :"
      ],
      "id": "b6878434"
    },
    {
      "cell_type": "code",
      "execution_count": null,
      "metadata": {},
      "outputs": [],
      "source": [],
      "id": "e769e279"
    },
    {
      "cell_type": "markdown",
      "metadata": {},
      "source": [
        "#### wolrd happiness report Dataset :"
      ],
      "id": "31479b49"
    },
    {
      "cell_type": "code",
      "execution_count": null,
      "metadata": {},
      "outputs": [],
      "source": [],
      "id": "7a9bc584"
    },
    {
      "cell_type": "code",
      "execution_count": null,
      "metadata": {},
      "outputs": [],
      "source": [],
      "id": "183d874e"
    },
    {
      "cell_type": "markdown",
      "metadata": {},
      "source": [
        "### Task 4.5: correlation matrix "
      ],
      "id": "dbb77054"
    },
    {
      "cell_type": "code",
      "execution_count": null,
      "metadata": {},
      "outputs": [],
      "source": [],
      "id": "63578481"
    },
    {
      "cell_type": "markdown",
      "metadata": {},
      "source": [
        "### Task 5: Visualization of the results\n",
        "our Analysis is not finished unless we visualize the results in terms figures and graphs so that everyone can understand what you get out of our analysis"
      ],
      "id": "66252d5e"
    },
    {
      "cell_type": "code",
      "execution_count": null,
      "metadata": {},
      "outputs": [],
      "source": [],
      "id": "faef9a9a"
    },
    {
      "cell_type": "markdown",
      "metadata": {},
      "source": [
        "### Task 5.1: Plotting GDP vs maximum Infection rate"
      ],
      "id": "a6e35ac5"
    },
    {
      "cell_type": "code",
      "execution_count": null,
      "metadata": {},
      "outputs": [],
      "source": [],
      "id": "7f872016"
    },
    {
      "cell_type": "code",
      "execution_count": null,
      "metadata": {},
      "outputs": [],
      "source": [],
      "id": "02049bf8"
    },
    {
      "cell_type": "markdown",
      "metadata": {},
      "source": [
        "### Task 5.2: Plotting Social support vs maximum Infection rate"
      ],
      "id": "c3544086"
    },
    {
      "cell_type": "code",
      "execution_count": null,
      "metadata": {},
      "outputs": [],
      "source": [],
      "id": "a354df71"
    },
    {
      "cell_type": "code",
      "execution_count": null,
      "metadata": {},
      "outputs": [],
      "source": [],
      "id": "ed781115"
    },
    {
      "cell_type": "markdown",
      "metadata": {},
      "source": [
        "### Task 5.3: Plotting Healthy life expectancy vs maximum Infection rate"
      ],
      "id": "acda28ed"
    },
    {
      "cell_type": "code",
      "execution_count": null,
      "metadata": {},
      "outputs": [],
      "source": [],
      "id": "f56933ba"
    },
    {
      "cell_type": "code",
      "execution_count": null,
      "metadata": {},
      "outputs": [],
      "source": [],
      "id": "79389350"
    },
    {
      "cell_type": "markdown",
      "metadata": {},
      "source": [
        "### Task 5.4: Plotting Freedom to make life choices vs maximum Infection rate"
      ],
      "id": "3ba39b1c"
    },
    {
      "cell_type": "code",
      "execution_count": null,
      "metadata": {},
      "outputs": [],
      "source": [],
      "id": "db220a53"
    },
    {
      "cell_type": "code",
      "execution_count": null,
      "metadata": {},
      "outputs": [],
      "source": [],
      "id": "bd6d5465"
    }
  ],
  "metadata": {
    "kernelspec": {
      "display_name": "Python 3",
      "language": "python",
      "name": "python3"
    },
    "language_info": {
      "codemirror_mode": {
        "name": "ipython",
        "version": 3
      },
      "file_extension": ".py",
      "mimetype": "text/x-python",
      "name": "python",
      "nbconvert_exporter": "python",
      "pygments_lexer": "ipython3",
      "version": "3.8.2"
    }
  },
  "nbformat": 4,
  "nbformat_minor": 5
}