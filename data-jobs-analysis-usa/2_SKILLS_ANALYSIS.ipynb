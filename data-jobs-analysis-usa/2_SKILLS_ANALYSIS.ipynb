{
  "nbformat": 4,
  "nbformat_minor": 5,
  "metadata": {
    "kernel_info": {
      "name": "python3"
    },
    "kernelspec": {
      "display_name": "Python 3.9",
      "identifier": "legacy",
      "language": "python",
      "language_version": "3.9",
      "name": "python3"
    },
    "selected_hardware_size": "small"
  },
  "cells": [
    {
      "id": "baf3d06d",
      "cell_type": "markdown",
      "source": "# WHAT ARE THE MOST OPTIMAL SKILLS TO LEARN AS A DATA PERSON \n- Most Required Skills to Learn as a Data Analyst\n- Most Required Skills to Learn as a Data Scientist\n- Most Required Skills to Learn as a Data Engineer\n- Most Optimal Skills to Learn for Data Jobs Combined",
      "metadata": {
        "noteable": {
          "cell_type": "markdown"
        }
      }
    },
    {
      "id": "238524c3-b2e7-462a-a384-9eab6bcf1e93",
      "cell_type": "code",
      "metadata": {
        "noteable": {
          "cell_type": "python",
          "output_collection_id": "e185b315-b2f5-4dda-b6b3-694d7a393097"
        },
        "ExecuteTime": {
          "end_time": "2023-12-12T15:23:47.257377+00:00",
          "start_time": "2023-12-12T15:23:46.632023+00:00"
        },
        "datalink": {
          "91772023-ffbd-40f9-a2aa-1034e857ab44": {
            "applied_filters": [],
            "dataframe_info": {
              "default_index_used": true,
              "orig_num_cols": 13,
              "orig_num_rows": 27372,
              "orig_size_bytes": 3065664,
              "truncated_num_cols": 13,
              "truncated_num_rows": 27372,
              "truncated_size_bytes": 3065664,
              "truncated_string_columns": []
            },
            "display_id": "91772023-ffbd-40f9-a2aa-1034e857ab44",
            "dx_settings": {
              "ALLOW_NOTEABLE_ATTRS": true,
              "COLUMN_SAMPLING_METHOD": "outer",
              "DB_LOCATION": ":memory:",
              "DEV_MODE": false,
              "DISPLAY_MAX_COLUMNS": 100,
              "DISPLAY_MAX_ROWS": 50000,
              "DISPLAY_MODE": "simple",
              "ENABLE_ASSIGNMENT": true,
              "ENABLE_DATALINK": true,
              "FLATTEN_COLUMN_VALUES": true,
              "FLATTEN_INDEX_VALUES": false,
              "GENERATE_DEX_METADATA": false,
              "HTML_TABLE_SCHEMA": false,
              "LOG_LEVEL": 30,
              "MAX_RENDER_SIZE_BYTES": 104857600,
              "MAX_STRING_LENGTH": 250,
              "NUM_PAST_SAMPLES_TRACKED": 3,
              "RANDOM_STATE": 12648430,
              "RESET_INDEX_VALUES": false,
              "ROW_SAMPLING_METHOD": "random",
              "SAMPLING_FACTOR": 0.1,
              "SAMPLING_METHOD": "random",
              "STRINGIFY_COLUMN_VALUES": true,
              "STRINGIFY_INDEX_VALUES": false
            },
            "sample_history": [],
            "sampling_time": "2023-12-11T15:54:05.099383",
            "user_variable_name": "df",
            "variable_name": "df"
          },
          "5cd04c17-b56d-4e98-851b-3fe85a783ada": {
            "applied_filters": [],
            "dataframe_info": {
              "default_index_used": true,
              "orig_num_cols": 13,
              "orig_num_rows": 27372,
              "orig_size_bytes": 3065664,
              "truncated_num_cols": 13,
              "truncated_num_rows": 27372,
              "truncated_size_bytes": 3065664,
              "truncated_string_columns": []
            },
            "display_id": "5cd04c17-b56d-4e98-851b-3fe85a783ada",
            "dx_settings": {
              "ALLOW_NOTEABLE_ATTRS": true,
              "COLUMN_SAMPLING_METHOD": "outer",
              "DB_LOCATION": ":memory:",
              "DEV_MODE": false,
              "DISPLAY_MAX_COLUMNS": 100,
              "DISPLAY_MAX_ROWS": 50000,
              "DISPLAY_MODE": "simple",
              "ENABLE_ASSIGNMENT": true,
              "ENABLE_DATALINK": true,
              "FLATTEN_COLUMN_VALUES": true,
              "FLATTEN_INDEX_VALUES": false,
              "GENERATE_DEX_METADATA": false,
              "HTML_TABLE_SCHEMA": false,
              "LOG_LEVEL": 30,
              "MAX_RENDER_SIZE_BYTES": 104857600,
              "MAX_STRING_LENGTH": 250,
              "NUM_PAST_SAMPLES_TRACKED": 3,
              "RANDOM_STATE": 12648430,
              "RESET_INDEX_VALUES": false,
              "ROW_SAMPLING_METHOD": "random",
              "SAMPLING_FACTOR": 0.1,
              "SAMPLING_METHOD": "random",
              "STRINGIFY_COLUMN_VALUES": true,
              "STRINGIFY_INDEX_VALUES": false
            },
            "sample_history": [],
            "sampling_time": "2023-12-11T16:03:59.941939",
            "user_variable_name": "df",
            "variable_name": "df"
          }
        },
        "dx": {
          "fieldMetadata": {},
          "simpleTable": false,
          "updated": 1702310542302,
          "views": []
        },
        "scrolled": false
      },
      "execution_count": null,
      "source": "import pandas as pd\nimport matplotlib.pyplot as plt\nimport seaborn as sns\ndf = pd.read_csv('0_cleaned_data.csv')",
      "outputs": []
    },
    {
      "id": "1d45fcd2-8c37-4077-90f2-bdaa33e2d9aa",
      "cell_type": "code",
      "metadata": {
        "noteable": {
          "cell_type": "code",
          "output_collection_id": "1d53b251-2db4-42fd-b703-158c9770c792"
        },
        "ExecuteTime": {
          "end_time": "2023-12-12T15:23:50.047106+00:00",
          "start_time": "2023-12-12T15:23:49.892298+00:00"
        }
      },
      "execution_count": null,
      "source": "# Renaming 'description_tokens' column to 'skills'\ndf.rename(columns={'description_tokens': 'skills'}, inplace=True)",
      "outputs": []
    },
    {
      "id": "1abf4cf6-fabd-4533-8910-d5a6ec7b699f",
      "cell_type": "markdown",
      "source": "## Most Required Skills to Learn as a Data Analyst\nUtilize frequency analysis on job postings to identify and rank the top technical and analytical skills essential for a Data Analyst role, such as SQL, Excel, and data visualization tools.",
      "metadata": {
        "noteable": {
          "cell_type": "markdown"
        }
      }
    },
    {
      "id": "e23cefe7-5ca1-4bd8-ad8e-82414d2dfa5d",
      "cell_type": "code",
      "metadata": {
        "jupyter": {
          "outputs_hidden": false,
          "source_hidden": false
        },
        "noteable": {
          "cell_type": "code",
          "output_collection_id": "0274a4d2-2976-4b1e-925f-f41a299d4433"
        },
        "ExecuteTime": {
          "end_time": "2023-12-12T15:36:20.180377+00:00",
          "start_time": "2023-12-12T15:36:19.726861+00:00"
        }
      },
      "execution_count": null,
      "source": "df_analyst = df[df['job_title'] == 'Data Analyst']\ntotal_data_analyst_positions = len(df_analyst)\n\n# Converting string representation of list to actual list\n# and then flattening the list of lists for Data Analysts\nanalyst_skills = [skill for sublist in df_analyst['skills'].dropna() for skill in ast.literal_eval(sublist)]\n\n# Counting the frequency of each skill for Data Analysts\nanalyst_skill_counts = Counter(analyst_skills)\n\n# Getting the top 10 most common skills for Data Analysts\ntop_analyst_skills = analyst_skill_counts.most_common(10)\n\n# Calculating percentages instead of counts\ntop_analyst_skills_percentages = [(skill, (count / total_data_analyst_positions) * 100) for skill, count in top_analyst_skills]\n\n# Extracting skills and their percentages\nskills_analyst, percentages_analyst = zip(*top_analyst_skills_percentages)\n\nplt.figure(figsize=(14, 8))\nbarplot = sns.barplot(x=list(percentages_analyst), y=list(skills_analyst), orient='h', palette=['#ff6f69']*10)\nplt.title('Most Required Skills for Data Analyst Roles')\nplt.xlabel('Percentage')\n\n# Adding the text labels on the bars\nfor index, value in enumerate(percentages_analyst):\n    plt.text(value, index, f'{value:.2f}%')\n\nplt.show()\n",
      "outputs": []
    },
    {
      "id": "178cad70-37c7-45f4-897b-09ce3a24b81f",
      "cell_type": "markdown",
      "source": "## Most Required Skills to Learn as a Data Scientist\nAnalyze the data to determine the most frequently demanded skills for Data Scientists, focusing on areas like machine learning, statistical analysis, and programming languages like Python and R.",
      "metadata": {
        "noteable": {
          "cell_type": "markdown"
        }
      }
    },
    {
      "id": "7e0858cd-89f7-4355-a25a-d9b4b6ad4a0e",
      "cell_type": "code",
      "metadata": {
        "noteable": {
          "cell_type": "code",
          "output_collection_id": "0b64174a-b897-427e-80b4-902ee5232ce4"
        },
        "ExecuteTime": {
          "end_time": "2023-12-12T10:07:54.394495+00:00",
          "start_time": "2023-12-12T10:07:53.806671+00:00"
        },
        "jupyter": {
          "source_hidden": false
        }
      },
      "execution_count": null,
      "source": "df_scientist = df[df['job_title'] == 'Data Scientist']\ntotal_data_scientist_positions = len(df_scientist)\n\n# Converting string representation of list to actual list\n# and then flattening the list of lists for Data Scientists\nscientist_skills = [skill for sublist in df_scientist['skills'].dropna() for skill in ast.literal_eval(sublist)]\n\n# Counting the frequency of each skill for Data Scientists\nscientist_skill_counts = Counter(scientist_skills)\n\n# Getting the top 10 most common skills for Data Scientists\ntop_scientist_skills = scientist_skill_counts.most_common(10)\n\n# Calculating percentages instead of counts\ntop_scientist_skills_percentages = [(skill, (count / total_data_scientist_positions) * 100) for skill, count in top_scientist_skills]\n\n# Extracting skills and their percentages\nskills_scientist, percentages_scientist = zip(*top_scientist_skills_percentages)\n\nplt.figure(figsize=(14, 8))\nsns.barplot(x=list(percentages_scientist), y=list(skills_scientist), orient='h', palette=['#005b96']*6)\nplt.title('Most Required Skills for Data Scientist Roles')\nplt.xlabel('Percentage')\n\n# Adding the text labels on the bars\nfor index, value in enumerate(percentages_scientist):\n    plt.text(value, index, f'{value:.2f}%')\n\nplt.show()",
      "outputs": []
    },
    {
      "id": "58ed96e5-2d3c-45ff-b314-a931b1048a9f",
      "cell_type": "markdown",
      "source": "## Most Required Skills to Learn as a Data Engineer\nData analysis to identify the key skills needed for Data Engineers, such as expertise in database management, ETL processes, and big data technologies Spark.",
      "metadata": {
        "noteable": {
          "cell_type": "markdown"
        }
      }
    },
    {
      "id": "dd1c5c60-982d-442c-8119-90250b6b01d0",
      "cell_type": "code",
      "metadata": {
        "jupyter": {
          "outputs_hidden": false,
          "source_hidden": false
        },
        "noteable": {
          "cell_type": "code",
          "output_collection_id": "99d6a2a9-90f0-43ce-b70e-5c3579278cb5"
        },
        "ExecuteTime": {
          "end_time": "2023-12-12T15:38:56.574321+00:00",
          "start_time": "2023-12-12T15:38:56.196950+00:00"
        }
      },
      "execution_count": null,
      "source": "df_engineer = df[df['job_title'] == 'Data Engineer']\ntotal_data_engineer_positions = len(df_engineer)\n\n# Converting string representation of list to actual list\n# and then flattening the list of lists for Data Engineers\nengineer_skills = [skill for sublist in df_engineer['skills'].dropna() for skill in ast.literal_eval(sublist)]\n\n# Counting the frequency of each skill for Data Engineers\nengineer_skill_counts = Counter(engineer_skills)\n\n# Getting the top 10 most common skills for Data Engineers\ntop_engineer_skills = engineer_skill_counts.most_common(10)\n\n# Calculating percentages instead of counts\ntop_engineer_skills_percentages = [(skill, (count / total_data_engineer_positions) * 100) for skill, count in top_engineer_skills]\n\n# Extracting skills and their percentages\nskills_engineer, percentages_engineer = zip(*top_engineer_skills_percentages)\n\nplt.figure(figsize=(14, 8))\nsns.barplot(x=list(percentages_engineer), y=list(skills_engineer), orient='h', palette=['#ffcc5c']*6)\nplt.title('Most Required Skills for Data Engineer Roles')\nplt.xlabel('Percentage')\n\n# Adding the text labels on the bars\nfor index, value in enumerate(percentages_engineer):\n    plt.text(value, index, f'{value:.2f}%')\n\nplt.show()",
      "outputs": []
    },
    {
      "id": "9b1d0092-0062-4af9-949a-2762b7ef0b4d",
      "cell_type": "markdown",
      "source": "## Most Optimal Skills to Learn for Data Jobs\nPerform a comparative analysis of skill requirements across diverse data-centric roles to isolate valuable skills.",
      "metadata": {
        "noteable": {
          "cell_type": "markdown"
        }
      }
    },
    {
      "id": "515a7fca-e381-4b50-8312-b6c8e6f46199",
      "cell_type": "code",
      "metadata": {
        "jupyter": {
          "outputs_hidden": true,
          "source_hidden": false
        },
        "noteable": {
          "cell_type": "code",
          "output_collection_id": "6888b4e4-ba6c-4731-a871-2c6fae827e86"
        },
        "ExecuteTime": {
          "end_time": "2023-12-12T15:25:03.367603+00:00",
          "start_time": "2023-12-12T15:25:03.100207+00:00"
        },
        "datalink": {
          "eac07375-c9a3-4159-8f0b-82d820390f97": {
            "applied_filters": [],
            "dataframe_info": {
              "default_index_used": true,
              "orig_num_cols": 4,
              "orig_num_rows": 10,
              "orig_size_bytes": 400,
              "truncated_num_cols": 4,
              "truncated_num_rows": 10,
              "truncated_size_bytes": 400,
              "truncated_string_columns": []
            },
            "display_id": "eac07375-c9a3-4159-8f0b-82d820390f97",
            "dx_settings": {
              "ALLOW_NOTEABLE_ATTRS": true,
              "COLUMN_SAMPLING_METHOD": "outer",
              "DB_LOCATION": ":memory:",
              "DEV_MODE": false,
              "DISPLAY_MAX_COLUMNS": 100,
              "DISPLAY_MAX_ROWS": 50000,
              "DISPLAY_MODE": "simple",
              "ENABLE_ASSIGNMENT": true,
              "ENABLE_DATALINK": true,
              "FLATTEN_COLUMN_VALUES": true,
              "FLATTEN_INDEX_VALUES": false,
              "GENERATE_DEX_METADATA": false,
              "HTML_TABLE_SCHEMA": false,
              "LOG_LEVEL": 30,
              "MAX_RENDER_SIZE_BYTES": 104857600,
              "MAX_STRING_LENGTH": 250,
              "NUM_PAST_SAMPLES_TRACKED": 3,
              "RANDOM_STATE": 12648430,
              "RESET_INDEX_VALUES": false,
              "ROW_SAMPLING_METHOD": "random",
              "SAMPLING_FACTOR": 0.1,
              "SAMPLING_METHOD": "random",
              "STRINGIFY_COLUMN_VALUES": true,
              "STRINGIFY_INDEX_VALUES": false
            },
            "sample_history": [],
            "sampling_time": "2023-12-12T10:11:43.905891",
            "user_variable_name": "df_skill_pct",
            "variable_name": "df_skill_pct"
          },
          "bc326a8e-5786-4b0d-91be-9db4264539b5": {
            "applied_filters": [],
            "dataframe_info": {
              "default_index_used": true,
              "orig_num_cols": 4,
              "orig_num_rows": 10,
              "orig_size_bytes": 400,
              "truncated_num_cols": 4,
              "truncated_num_rows": 10,
              "truncated_size_bytes": 400,
              "truncated_string_columns": []
            },
            "display_id": "bc326a8e-5786-4b0d-91be-9db4264539b5",
            "dx_settings": {
              "ALLOW_NOTEABLE_ATTRS": true,
              "COLUMN_SAMPLING_METHOD": "outer",
              "DB_LOCATION": ":memory:",
              "DEV_MODE": false,
              "DISPLAY_MAX_COLUMNS": 100,
              "DISPLAY_MAX_ROWS": 50000,
              "DISPLAY_MODE": "simple",
              "ENABLE_ASSIGNMENT": true,
              "ENABLE_DATALINK": true,
              "FLATTEN_COLUMN_VALUES": true,
              "FLATTEN_INDEX_VALUES": false,
              "GENERATE_DEX_METADATA": false,
              "HTML_TABLE_SCHEMA": false,
              "LOG_LEVEL": 30,
              "MAX_RENDER_SIZE_BYTES": 104857600,
              "MAX_STRING_LENGTH": 250,
              "NUM_PAST_SAMPLES_TRACKED": 3,
              "RANDOM_STATE": 12648430,
              "RESET_INDEX_VALUES": false,
              "ROW_SAMPLING_METHOD": "random",
              "SAMPLING_FACTOR": 0.1,
              "SAMPLING_METHOD": "random",
              "STRINGIFY_COLUMN_VALUES": true,
              "STRINGIFY_INDEX_VALUES": false
            },
            "sample_history": [],
            "sampling_time": "2023-12-12T10:17:34.967145",
            "user_variable_name": "df_skill_pct",
            "variable_name": "df_skill_pct"
          },
          "ce21886c-0546-496b-9925-dd27bb0f72f7": {
            "applied_filters": [],
            "dataframe_info": {
              "default_index_used": true,
              "orig_num_cols": 4,
              "orig_num_rows": 10,
              "orig_size_bytes": 400,
              "truncated_num_cols": 4,
              "truncated_num_rows": 10,
              "truncated_size_bytes": 400,
              "truncated_string_columns": []
            },
            "display_id": "ce21886c-0546-496b-9925-dd27bb0f72f7",
            "dx_settings": {
              "ALLOW_NOTEABLE_ATTRS": true,
              "COLUMN_SAMPLING_METHOD": "outer",
              "DB_LOCATION": ":memory:",
              "DEV_MODE": false,
              "DISPLAY_MAX_COLUMNS": 100,
              "DISPLAY_MAX_ROWS": 50000,
              "DISPLAY_MODE": "simple",
              "ENABLE_ASSIGNMENT": true,
              "ENABLE_DATALINK": true,
              "FLATTEN_COLUMN_VALUES": true,
              "FLATTEN_INDEX_VALUES": false,
              "GENERATE_DEX_METADATA": false,
              "HTML_TABLE_SCHEMA": false,
              "LOG_LEVEL": 30,
              "MAX_RENDER_SIZE_BYTES": 104857600,
              "MAX_STRING_LENGTH": 250,
              "NUM_PAST_SAMPLES_TRACKED": 3,
              "RANDOM_STATE": 12648430,
              "RESET_INDEX_VALUES": false,
              "ROW_SAMPLING_METHOD": "random",
              "SAMPLING_FACTOR": 0.1,
              "SAMPLING_METHOD": "random",
              "STRINGIFY_COLUMN_VALUES": true,
              "STRINGIFY_INDEX_VALUES": false
            },
            "sample_history": [],
            "sampling_time": "2023-12-12T10:18:06.614607",
            "user_variable_name": "df_skill_pct",
            "variable_name": "df_skill_pct"
          },
          "41eb660a-ed71-4b60-b3e8-540233903c87": {
            "applied_filters": [],
            "dataframe_info": {
              "default_index_used": true,
              "orig_num_cols": 4,
              "orig_num_rows": 10,
              "orig_size_bytes": 400,
              "truncated_num_cols": 4,
              "truncated_num_rows": 10,
              "truncated_size_bytes": 400,
              "truncated_string_columns": []
            },
            "display_id": "41eb660a-ed71-4b60-b3e8-540233903c87",
            "dx_settings": {
              "ALLOW_NOTEABLE_ATTRS": true,
              "COLUMN_SAMPLING_METHOD": "outer",
              "DB_LOCATION": ":memory:",
              "DEV_MODE": false,
              "DISPLAY_MAX_COLUMNS": 100,
              "DISPLAY_MAX_ROWS": 50000,
              "DISPLAY_MODE": "simple",
              "ENABLE_ASSIGNMENT": true,
              "ENABLE_DATALINK": true,
              "FLATTEN_COLUMN_VALUES": true,
              "FLATTEN_INDEX_VALUES": false,
              "GENERATE_DEX_METADATA": false,
              "HTML_TABLE_SCHEMA": false,
              "LOG_LEVEL": 30,
              "MAX_RENDER_SIZE_BYTES": 104857600,
              "MAX_STRING_LENGTH": 250,
              "NUM_PAST_SAMPLES_TRACKED": 3,
              "RANDOM_STATE": 12648430,
              "RESET_INDEX_VALUES": false,
              "ROW_SAMPLING_METHOD": "random",
              "SAMPLING_FACTOR": 0.1,
              "SAMPLING_METHOD": "random",
              "STRINGIFY_COLUMN_VALUES": true,
              "STRINGIFY_INDEX_VALUES": false
            },
            "sample_history": [],
            "sampling_time": "2023-12-12T15:25:03.205362",
            "user_variable_name": "df2",
            "variable_name": "df2"
          }
        }
      },
      "execution_count": null,
      "source": "## THE SKILL PERCENTAGE DATA WAS METICULOUSLY RECORDED IN AN EXCEL FILE BEFORE BEING EXPORTED AS A CSV FILE NAMED 'skill_percentages_csv'. RIGOROUS CHECKS WERE CONDUCTED TO ENSURE ACCURACY AND RELIABILITY OF THE DATA ##\ndf2 = pd.read_csv('skill_percentages.csv')\ndf2",
      "outputs": []
    },
    {
      "id": "7bbb7f91-520c-4dc4-8e32-ce8a6753a478",
      "cell_type": "code",
      "metadata": {
        "noteable": {
          "cell_type": "code",
          "output_collection_id": "c61c1405-2645-4877-a01d-93c0dca9aa97"
        },
        "ExecuteTime": {
          "end_time": "2023-12-12T15:32:03.623010+00:00",
          "start_time": "2023-12-12T15:32:03.097772+00:00"
        }
      },
      "execution_count": null,
      "source": "# Plotting the skill percentages for 3 main data jobs\ndf2_cleaned = df2.dropna() # Cleaning and preparing the data from df2 for plotting\n\n# Converting percentage strings to floats\nfor col in ['Data Analyst', 'Data Scientist', 'Data Engineer']:\n    df2_cleaned[col] = df2_cleaned[col].str.rstrip('%').astype('float')\n\n# Melting the dataframe to long format for easier plotting\nlong_df2 = df2_cleaned.melt(id_vars=['Skills'], value_vars=['Data Analyst', 'Data Scientist', 'Data Engineer'],\n                           var_name='Job Title', value_name='Percentage')\n\nplt.figure(figsize=(14, 8))\nsns.barplot(x='Percentage', y='Skills', hue='Job Title', data=long_df2, orient='h', palette=['#ff6f69', '#005b96', '#ffcc5c'])\n\n#'#011f4b', '#005b96', '#b3cde0'\n\nplt.title('Most Popular Skills by Job Title')\nplt.xlabel('Percentage')\nplt.legend(title='Job Title')\n\nplt.show()",
      "outputs": []
    },
    {
      "id": "f0c66927-bb20-4797-8acf-708ee9db719a",
      "cell_type": "markdown",
      "source": "## Top 10 Skills for Data Careers\nThe most on demand skills for all data-driven jobs together. ",
      "metadata": {
        "noteable": {
          "cell_type": "markdown"
        }
      }
    },
    {
      "id": "b2979cc0-8285-46f2-aa14-d1b1b5a2cc94",
      "cell_type": "code",
      "metadata": {
        "noteable": {
          "cell_type": "code",
          "output_collection_id": "60fb98c1-d117-42b5-b855-049c3a1f3672"
        },
        "ExecuteTime": {
          "end_time": "2023-12-12T15:35:06.762330+00:00",
          "start_time": "2023-12-12T15:35:06.315245+00:00"
        },
        "jupyter": {
          "source_hidden": false
        },
        "scrolled": false
      },
      "execution_count": null,
      "source": "# Extracting and Plotting Most Frequent Skills by Specific Job Titles\nselected_titles = ['Data Analyst', 'Data Scientist', 'Data Engineer']\ndf_selected = df[df['job_title'].isin(selected_titles)]\n\nfrom collections import Counter\nimport ast\n\n# Function to count skills\ndef count_skills(data):\n    skills_list = []\n    for item in data['skills']:\n        # Convert string representation of list to actual list\n        item_list = ast.literal_eval(item)\n        skills_list.extend(item_list)\n    return Counter(skills_list)\n\n# Counting skills for selected job titles\nskills_count = count_skills(df_selected)\n\n# Sorting and selecting top skills\ntop_skills = dict(skills_count.most_common(10))\n\nplt.figure(figsize=(12, 8))\nsns.barplot(x=list(top_skills.values()), y=list(top_skills.keys()), orient='h', palette='Blues_r')\nplt.title('Top 10 Skills for Data Analysts, Data Scientists, and Data Engineers')\nplt.xlabel('Number of Job Postings')\nplt.show()",
      "outputs": []
    }
  ]
}