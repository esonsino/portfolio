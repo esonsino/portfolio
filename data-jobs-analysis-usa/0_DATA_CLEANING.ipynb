{
  "nbformat": 4,
  "nbformat_minor": 5,
  "metadata": {
    "kernel_info": {
      "name": "python3"
    },
    "kernelspec": {
      "display_name": "Python 3.9",
      "identifier": "legacy",
      "language": "python",
      "language_version": "3.9",
      "name": "python3"
    },
    "selected_hardware_size": "small"
  },
  "cells": [
    {
      "id": "d7c12611",
      "cell_type": "markdown",
      "source": "# DATA CLEANING\n- Table Overview\n- Data Integrity Check \n- Removing the Unwanted Spaces in the 'location' Column\n- Fixing the 'via' Column\n- Dropping Unnecesarry Columns\n- Standardizing Job Titles\n",
      "metadata": {
        "noteable": {
          "cell_type": "markdown"
        }
      }
    },
    {
      "id": "256453d4-133c-404b-a341-aaeff2b357b8",
      "cell_type": "code",
      "metadata": {
        "noteable": {
          "cell_type": "python",
          "output_collection_id": "ec3ab779-73d1-466c-bb85-f10a366d2e65"
        },
        "ExecuteTime": {
          "end_time": "2023-12-11T20:19:19.946247+00:00",
          "start_time": "2023-12-11T20:19:19.703673+00:00"
        }
      },
      "execution_count": null,
      "source": "import pandas as pd\ndf = pd.read_csv('gsearch_jobs01.csv')",
      "outputs": []
    },
    {
      "id": "ff296b96-8478-47d3-bd8d-95ab4caff535",
      "cell_type": "code",
      "metadata": {
        "jupyter": {
          "outputs_hidden": false,
          "source_hidden": false
        },
        "noteable": {
          "cell_type": "code",
          "output_collection_id": "c55ece6b-1cf7-4db3-afd1-228c4c9c4347"
        },
        "ExecuteTime": {
          "end_time": "2023-12-11T20:19:20.274762+00:00",
          "start_time": "2023-12-11T20:19:19.954114+00:00"
        },
        "datalink": {
          "05d4ca4f-606c-4995-9ded-8d871753fc4e": {
            "applied_filters": [],
            "dataframe_info": {
              "default_index_used": true,
              "orig_num_cols": 19,
              "orig_num_rows": 37433,
              "orig_size_bytes": 5989280,
              "truncated_num_cols": 19,
              "truncated_num_rows": 37433,
              "truncated_size_bytes": 5989280,
              "truncated_string_columns": []
            },
            "display_id": "05d4ca4f-606c-4995-9ded-8d871753fc4e",
            "dx_settings": {
              "ALLOW_NOTEABLE_ATTRS": true,
              "COLUMN_SAMPLING_METHOD": "outer",
              "DB_LOCATION": ":memory:",
              "DEV_MODE": false,
              "DISPLAY_MAX_COLUMNS": 100,
              "DISPLAY_MAX_ROWS": 50000,
              "DISPLAY_MODE": "simple",
              "ENABLE_ASSIGNMENT": true,
              "ENABLE_DATALINK": true,
              "FLATTEN_COLUMN_VALUES": true,
              "FLATTEN_INDEX_VALUES": false,
              "GENERATE_DEX_METADATA": false,
              "HTML_TABLE_SCHEMA": false,
              "LOG_LEVEL": 30,
              "MAX_RENDER_SIZE_BYTES": 104857600,
              "MAX_STRING_LENGTH": 250,
              "NUM_PAST_SAMPLES_TRACKED": 3,
              "RANDOM_STATE": 12648430,
              "RESET_INDEX_VALUES": false,
              "ROW_SAMPLING_METHOD": "random",
              "SAMPLING_FACTOR": 0.1,
              "SAMPLING_METHOD": "random",
              "STRINGIFY_COLUMN_VALUES": true,
              "STRINGIFY_INDEX_VALUES": false
            },
            "sample_history": [],
            "sampling_time": "2023-12-11T17:04:22.154684",
            "user_variable_name": "df",
            "variable_name": "df"
          },
          "ce75d860-ee8f-4126-b148-82e138a90448": {
            "applied_filters": [],
            "dataframe_info": {
              "default_index_used": true,
              "orig_num_cols": 19,
              "orig_num_rows": 5,
              "orig_size_bytes": 800,
              "truncated_num_cols": 19,
              "truncated_num_rows": 5,
              "truncated_size_bytes": 800,
              "truncated_string_columns": []
            },
            "display_id": "ce75d860-ee8f-4126-b148-82e138a90448",
            "dx_settings": {
              "ALLOW_NOTEABLE_ATTRS": true,
              "COLUMN_SAMPLING_METHOD": "outer",
              "DB_LOCATION": ":memory:",
              "DEV_MODE": false,
              "DISPLAY_MAX_COLUMNS": 100,
              "DISPLAY_MAX_ROWS": 50000,
              "DISPLAY_MODE": "simple",
              "ENABLE_ASSIGNMENT": true,
              "ENABLE_DATALINK": true,
              "FLATTEN_COLUMN_VALUES": true,
              "FLATTEN_INDEX_VALUES": false,
              "GENERATE_DEX_METADATA": false,
              "HTML_TABLE_SCHEMA": false,
              "LOG_LEVEL": 30,
              "MAX_RENDER_SIZE_BYTES": 104857600,
              "MAX_STRING_LENGTH": 250,
              "NUM_PAST_SAMPLES_TRACKED": 3,
              "RANDOM_STATE": 12648430,
              "RESET_INDEX_VALUES": false,
              "ROW_SAMPLING_METHOD": "random",
              "SAMPLING_FACTOR": 0.1,
              "SAMPLING_METHOD": "random",
              "STRINGIFY_COLUMN_VALUES": true,
              "STRINGIFY_INDEX_VALUES": false
            },
            "sample_history": [],
            "sampling_time": "2023-12-11T17:06:19.732052",
            "user_variable_name": null,
            "variable_name": "unk_dataframe_3f7a7c63e8eb49e9b7eecaaf89073c5f"
          },
          "6856d6bd-64c4-42a0-bbff-2df1fb54bf91": {
            "applied_filters": [],
            "dataframe_info": {
              "default_index_used": true,
              "orig_num_cols": 19,
              "orig_num_rows": 5,
              "orig_size_bytes": 800,
              "truncated_num_cols": 19,
              "truncated_num_rows": 5,
              "truncated_size_bytes": 800,
              "truncated_string_columns": []
            },
            "display_id": "6856d6bd-64c4-42a0-bbff-2df1fb54bf91",
            "dx_settings": {
              "ALLOW_NOTEABLE_ATTRS": true,
              "COLUMN_SAMPLING_METHOD": "outer",
              "DB_LOCATION": ":memory:",
              "DEV_MODE": false,
              "DISPLAY_MAX_COLUMNS": 100,
              "DISPLAY_MAX_ROWS": 50000,
              "DISPLAY_MODE": "simple",
              "ENABLE_ASSIGNMENT": true,
              "ENABLE_DATALINK": true,
              "FLATTEN_COLUMN_VALUES": true,
              "FLATTEN_INDEX_VALUES": false,
              "GENERATE_DEX_METADATA": false,
              "HTML_TABLE_SCHEMA": false,
              "LOG_LEVEL": 30,
              "MAX_RENDER_SIZE_BYTES": 104857600,
              "MAX_STRING_LENGTH": 250,
              "NUM_PAST_SAMPLES_TRACKED": 3,
              "RANDOM_STATE": 12648430,
              "RESET_INDEX_VALUES": false,
              "ROW_SAMPLING_METHOD": "random",
              "SAMPLING_FACTOR": 0.1,
              "SAMPLING_METHOD": "random",
              "STRINGIFY_COLUMN_VALUES": true,
              "STRINGIFY_INDEX_VALUES": false
            },
            "sample_history": [],
            "sampling_time": "2023-12-11T17:44:04.873115",
            "user_variable_name": null,
            "variable_name": "unk_dataframe_43e1768df14c4fbaad5d22784c330c3f"
          },
          "f3270299-db84-4f25-9a8e-a146fd52ae67": {
            "applied_filters": [],
            "dataframe_info": {
              "default_index_used": true,
              "orig_num_cols": 19,
              "orig_num_rows": 5,
              "orig_size_bytes": 800,
              "truncated_num_cols": 19,
              "truncated_num_rows": 5,
              "truncated_size_bytes": 800,
              "truncated_string_columns": []
            },
            "display_id": "f3270299-db84-4f25-9a8e-a146fd52ae67",
            "dx_settings": {
              "ALLOW_NOTEABLE_ATTRS": true,
              "COLUMN_SAMPLING_METHOD": "outer",
              "DB_LOCATION": ":memory:",
              "DEV_MODE": false,
              "DISPLAY_MAX_COLUMNS": 100,
              "DISPLAY_MAX_ROWS": 50000,
              "DISPLAY_MODE": "simple",
              "ENABLE_ASSIGNMENT": true,
              "ENABLE_DATALINK": true,
              "FLATTEN_COLUMN_VALUES": true,
              "FLATTEN_INDEX_VALUES": false,
              "GENERATE_DEX_METADATA": false,
              "HTML_TABLE_SCHEMA": false,
              "LOG_LEVEL": 30,
              "MAX_RENDER_SIZE_BYTES": 104857600,
              "MAX_STRING_LENGTH": 250,
              "NUM_PAST_SAMPLES_TRACKED": 3,
              "RANDOM_STATE": 12648430,
              "RESET_INDEX_VALUES": false,
              "ROW_SAMPLING_METHOD": "random",
              "SAMPLING_FACTOR": 0.1,
              "SAMPLING_METHOD": "random",
              "STRINGIFY_COLUMN_VALUES": true,
              "STRINGIFY_INDEX_VALUES": false
            },
            "sample_history": [],
            "sampling_time": "2023-12-11T19:50:12.248774",
            "user_variable_name": null,
            "variable_name": "unk_dataframe_91e1eecac1f24638ae52f1d899c19ab2"
          },
          "9ea61f17-bafe-4228-b162-654d4720c8e4": {
            "applied_filters": [],
            "dataframe_info": {
              "default_index_used": true,
              "orig_num_cols": 19,
              "orig_num_rows": 5,
              "orig_size_bytes": 800,
              "truncated_num_cols": 19,
              "truncated_num_rows": 5,
              "truncated_size_bytes": 800,
              "truncated_string_columns": []
            },
            "display_id": "9ea61f17-bafe-4228-b162-654d4720c8e4",
            "dx_settings": {
              "ALLOW_NOTEABLE_ATTRS": true,
              "COLUMN_SAMPLING_METHOD": "outer",
              "DB_LOCATION": ":memory:",
              "DEV_MODE": false,
              "DISPLAY_MAX_COLUMNS": 100,
              "DISPLAY_MAX_ROWS": 50000,
              "DISPLAY_MODE": "simple",
              "ENABLE_ASSIGNMENT": true,
              "ENABLE_DATALINK": true,
              "FLATTEN_COLUMN_VALUES": true,
              "FLATTEN_INDEX_VALUES": false,
              "GENERATE_DEX_METADATA": false,
              "HTML_TABLE_SCHEMA": false,
              "LOG_LEVEL": 30,
              "MAX_RENDER_SIZE_BYTES": 104857600,
              "MAX_STRING_LENGTH": 250,
              "NUM_PAST_SAMPLES_TRACKED": 3,
              "RANDOM_STATE": 12648430,
              "RESET_INDEX_VALUES": false,
              "ROW_SAMPLING_METHOD": "random",
              "SAMPLING_FACTOR": 0.1,
              "SAMPLING_METHOD": "random",
              "STRINGIFY_COLUMN_VALUES": true,
              "STRINGIFY_INDEX_VALUES": false
            },
            "sample_history": [],
            "sampling_time": "2023-12-11T19:54:36.881030",
            "user_variable_name": null,
            "variable_name": "unk_dataframe_f62676291d9e461d8f2072e648dde8b8"
          },
          "799c4518-7ccd-4a01-9a03-c62e873a0a46": {
            "applied_filters": [],
            "dataframe_info": {
              "default_index_used": true,
              "orig_num_cols": 19,
              "orig_num_rows": 5,
              "orig_size_bytes": 800,
              "truncated_num_cols": 19,
              "truncated_num_rows": 5,
              "truncated_size_bytes": 800,
              "truncated_string_columns": []
            },
            "display_id": "799c4518-7ccd-4a01-9a03-c62e873a0a46",
            "dx_settings": {
              "ALLOW_NOTEABLE_ATTRS": true,
              "COLUMN_SAMPLING_METHOD": "outer",
              "DB_LOCATION": ":memory:",
              "DEV_MODE": false,
              "DISPLAY_MAX_COLUMNS": 100,
              "DISPLAY_MAX_ROWS": 50000,
              "DISPLAY_MODE": "simple",
              "ENABLE_ASSIGNMENT": true,
              "ENABLE_DATALINK": true,
              "FLATTEN_COLUMN_VALUES": true,
              "FLATTEN_INDEX_VALUES": false,
              "GENERATE_DEX_METADATA": false,
              "HTML_TABLE_SCHEMA": false,
              "LOG_LEVEL": 30,
              "MAX_RENDER_SIZE_BYTES": 104857600,
              "MAX_STRING_LENGTH": 250,
              "NUM_PAST_SAMPLES_TRACKED": 3,
              "RANDOM_STATE": 12648430,
              "RESET_INDEX_VALUES": false,
              "ROW_SAMPLING_METHOD": "random",
              "SAMPLING_FACTOR": 0.1,
              "SAMPLING_METHOD": "random",
              "STRINGIFY_COLUMN_VALUES": true,
              "STRINGIFY_INDEX_VALUES": false
            },
            "sample_history": [],
            "sampling_time": "2023-12-11T20:19:20.106012",
            "user_variable_name": null,
            "variable_name": "unk_dataframe_e4c53a199ebd48d8a3d15f56e8feab02"
          }
        },
        "dx": {
          "dashboard": {
            "multiViews": []
          },
          "fieldMetadata": {},
          "simpleTable": false,
          "updated": 1702314402107,
          "views": [
            {
              "annotationRules": [],
              "chart": {},
              "chartMode": "grid",
              "confoRules": [],
              "decoration": {
                "footer": "",
                "subtitle": "",
                "title": "Table"
              },
              "facets": [],
              "filterSettings": {
                "SHOW_FILTER_PANEL": true,
                "filters": []
              },
              "id": "first-view",
              "isDefault": true,
              "type": "public",
              "userID": ""
            },
            {
              "annotationRules": [],
              "chart": {
                "tableSparklines": false
              },
              "chartMode": "grid",
              "confoRules": [],
              "decoration": {
                "footer": "",
                "subtitle": "",
                "title": "Table"
              },
              "facets": [],
              "filterSettings": {
                "SHOW_FILTER_PANEL": true,
                "filters": []
              },
              "id": "first-view",
              "isDefault": true,
              "isTransitory": true,
              "type": "public",
              "userID": ""
            }
          ]
        }
      },
      "execution_count": null,
      "source": "df.head()",
      "outputs": []
    },
    {
      "id": "108cf571-ce05-4d1b-89d2-7ef7d3ac640d",
      "cell_type": "markdown",
      "source": "## Table Overview\nConduct a comprehensive review of the dataset to gain an initial understanding of its structure, content, and format.",
      "metadata": {
        "noteable": {
          "cell_type": "markdown"
        }
      }
    },
    {
      "id": "e6dffc9a-3f5e-459a-9da7-12cbce5fe3ab",
      "cell_type": "code",
      "metadata": {
        "jupyter": {
          "outputs_hidden": false,
          "source_hidden": false
        },
        "noteable": {
          "cell_type": "code",
          "output_collection_id": "fb03d833-d083-4d1c-8830-f84c3361f163"
        },
        "ExecuteTime": {
          "end_time": "2023-12-11T20:19:20.521749+00:00",
          "start_time": "2023-12-11T20:19:20.324686+00:00"
        }
      },
      "execution_count": null,
      "source": "df.info()",
      "outputs": []
    },
    {
      "id": "3de3d4e2-de39-4d68-a65e-457d3559420d",
      "cell_type": "markdown",
      "source": "## Data Integrity Check\nPerform an analysis to identify and quantify missing values and duplicate records, assessing the overall quality and reliability of the data.",
      "metadata": {
        "noteable": {
          "cell_type": "markdown"
        }
      }
    },
    {
      "id": "c8cc5d24-1a0f-4bdd-822d-eed7d2e5abb2",
      "cell_type": "code",
      "metadata": {
        "noteable": {
          "cell_type": "code",
          "output_collection_id": "ae8f852d-c580-42e1-be0c-2b8fca8dfb98"
        },
        "ExecuteTime": {
          "end_time": "2023-12-11T20:19:22.017720+00:00",
          "start_time": "2023-12-11T20:19:21.832049+00:00"
        }
      },
      "execution_count": null,
      "source": "duplicates = df.duplicated()\nprint(f\"Number of duplicate rows: {duplicates.sum()}\")",
      "outputs": []
    },
    {
      "id": "df70257c-9201-440c-a5af-8743726c143c",
      "cell_type": "markdown",
      "source": "## Remove Unwanted Spaces from the 'location' Column\nEliminate unwanted spaces in the 'location' column, for a better analysis.",
      "metadata": {
        "noteable": {
          "cell_type": "markdown"
        }
      }
    },
    {
      "id": "a1fb5667-f292-4b6e-a7fb-e21ee67a77ae",
      "cell_type": "code",
      "metadata": {
        "noteable": {
          "cell_type": "code",
          "output_collection_id": "4c75393e-1dc0-4752-96c6-e28b7e8662fc"
        },
        "ExecuteTime": {
          "end_time": "2023-12-11T20:19:22.775194+00:00",
          "start_time": "2023-12-11T20:19:22.025090+00:00"
        }
      },
      "execution_count": null,
      "source": "# Bar plot of top 10 locations\nimport matplotlib.pyplot as plt\n\nlocation_counts = df['location'].value_counts().head(10)\n\nplt.figure(figsize=(10,6))\nlocation_counts.plot(kind='barh', color='#005b96')\nplt.gca().invert_yaxis()\nplt.title('Top 10 Locations for Data Jobs')\nplt.xlabel('Number of Jobs')\nplt.ylabel('Location')\nplt.show()",
      "outputs": []
    },
    {
      "id": "614afab6-b94c-4b79-b141-1c1917c6e23b",
      "cell_type": "code",
      "metadata": {
        "noteable": {
          "cell_type": "python",
          "output_collection_id": "429ddccb-a76c-4d10-b901-4abd36c653a2"
        },
        "ExecuteTime": {
          "end_time": "2023-12-11T20:19:23.326784+00:00",
          "start_time": "2023-12-11T20:19:23.162207+00:00"
        }
      },
      "execution_count": null,
      "source": "# Remove leading and trailing spaces from the 'location' column\ndf['location'] = df['location'].str.strip()",
      "outputs": []
    },
    {
      "id": "e3519dd1-46f1-4e20-9ee5-f3ce0d9bba51",
      "cell_type": "code",
      "metadata": {
        "jupyter": {
          "outputs_hidden": false,
          "source_hidden": false
        },
        "noteable": {
          "cell_type": "code",
          "output_collection_id": "a86116f0-75fa-44ad-a282-e897b942aa0b"
        },
        "ExecuteTime": {
          "end_time": "2023-12-11T20:19:23.839474+00:00",
          "start_time": "2023-12-11T20:19:23.331971+00:00"
        }
      },
      "execution_count": null,
      "source": "# Bar plot of top 10 locations - fixed\nlocation_counts = df['location'].value_counts().head(10)\n\nplt.figure(figsize=(10,6))\nlocation_counts.plot(kind='barh', color='#005b96')\nplt.gca().invert_yaxis()\nplt.title('Top 10 Locations for Data Jobs')\nplt.xlabel('Number of Jobs')\nplt.ylabel('Location')\nplt.show()",
      "outputs": []
    },
    {
      "id": "a842d97f-fa94-4dd6-af7c-3e9916ba94f8",
      "cell_type": "markdown",
      "source": "## Fix the 'via' Column by Removing 'via' from Values and Rename the Column\nRefine the 'via' column by addressing any inconsistencies and removing unnecessary 'via' words. ",
      "metadata": {
        "noteable": {
          "cell_type": "markdown"
        }
      }
    },
    {
      "id": "f42905c0-8670-465b-8d27-921abb88cd6d",
      "cell_type": "code",
      "metadata": {
        "jupyter": {
          "outputs_hidden": false,
          "source_hidden": false
        },
        "noteable": {
          "cell_type": "code",
          "output_collection_id": "7e7fe082-1e00-4d16-89b2-191534159457"
        },
        "ExecuteTime": {
          "end_time": "2023-12-11T20:19:24.344367+00:00",
          "start_time": "2023-12-11T20:19:23.991201+00:00"
        }
      },
      "execution_count": null,
      "source": "# Bar plot of the top 10 job platforms\nimport matplotlib.pyplot as plt\n\nvia_counts = df['via'].value_counts().head(10)\n\nplt.figure(figsize=(10, 6))\nvia_counts.plot(kind='barh', color='#005b96')\nplt.title('Top 10 Sources in \\'via\\' Column')\nplt.xlabel('Frequency')\nplt.ylabel('Source')\nplt.gca().invert_yaxis()  \nplt.show()",
      "outputs": []
    },
    {
      "id": "dfd245d0-52b4-4113-bb22-1450f04ad592",
      "cell_type": "code",
      "metadata": {
        "noteable": {
          "cell_type": "python",
          "output_collection_id": "76d3e9c3-7efd-4225-a0fe-98b756d0dc75"
        },
        "ExecuteTime": {
          "end_time": "2023-12-11T20:19:24.715592+00:00",
          "start_time": "2023-12-11T20:19:24.534938+00:00"
        }
      },
      "execution_count": null,
      "source": "# Remove 'via' from the 'via' column and rename it to 'job_platform'\ndf['job_platform'] = df['via'].str.replace('via ', '')\n\n# Drop the original 'via' column\ndf.drop('via', axis=1, inplace=True)",
      "outputs": []
    },
    {
      "id": "3c637694-5333-4086-a17b-17b869fa825b",
      "cell_type": "code",
      "metadata": {
        "noteable": {
          "cell_type": "python",
          "output_collection_id": "b9e2d578-2791-4e81-9ea2-0533bbccef50"
        },
        "ExecuteTime": {
          "end_time": "2023-12-11T20:19:24.878270+00:00",
          "start_time": "2023-12-11T20:19:24.723696+00:00"
        }
      },
      "execution_count": null,
      "source": "# Rename the 'title' column to 'job_title'\ndf.rename(columns={'title': 'job_title'}, inplace=True)",
      "outputs": []
    },
    {
      "id": "eb447053-3d0a-4c88-a633-d1b6abbfdc63",
      "cell_type": "code",
      "metadata": {
        "jupyter": {
          "outputs_hidden": false,
          "source_hidden": false
        },
        "noteable": {
          "cell_type": "code",
          "output_collection_id": "1ae4fee0-afbb-4ab5-be7f-48fd1a1067e0"
        },
        "ExecuteTime": {
          "end_time": "2023-12-11T20:19:25.247687+00:00",
          "start_time": "2023-12-11T20:19:24.883724+00:00"
        }
      },
      "execution_count": null,
      "source": "# Bar plot of the top 10 job platforms - fixed\nimport matplotlib.pyplot as plt\n\nvia_counts = df['job_platform'].value_counts().head(10)\n\nplt.figure(figsize=(10, 6))\nvia_counts.plot(kind='barh', color='#005b96')\nplt.title('Top 10 Job Platforms')\nplt.xlabel('Frequency')\nplt.ylabel('Job Platforms')\nplt.gca().invert_yaxis() \nplt.show()",
      "outputs": []
    },
    {
      "id": "4c60caf2-2d5f-4939-b710-7dd28d6844a5",
      "cell_type": "markdown",
      "source": "## Remove Unnecessary Columns\nIdentify and remove columns that do not contribute valuable information or insight, streamlining the dataset for more efficient analysis.\n",
      "metadata": {
        "noteable": {
          "cell_type": "markdown"
        }
      }
    },
    {
      "id": "d651e4cf-28f9-4ef8-9c6e-f0e4b3e6b0c2",
      "cell_type": "code",
      "metadata": {
        "noteable": {
          "cell_type": "python",
          "output_collection_id": "5db63fc0-9b74-49f8-90cf-9d262e24a4b2"
        },
        "ExecuteTime": {
          "end_time": "2023-12-11T20:19:25.565175+00:00",
          "start_time": "2023-12-11T20:19:25.405440+00:00"
        }
      },
      "execution_count": null,
      "source": "df.drop(columns=['Unnamed: 0', 'date_time', 'search_location', 'salary_pay', 'salary_rate', 'salary_hourly'], inplace=True)",
      "outputs": []
    },
    {
      "id": "7670f4c0-595a-4e48-b3da-042ec4629767",
      "cell_type": "markdown",
      "source": "## Job Title Standardization\nDevelop and apply a system to normalize job titles, ensuring uniformity and facilitating more effective categorization and comparison across the dataset.",
      "metadata": {
        "noteable": {
          "cell_type": "markdown"
        }
      }
    },
    {
      "id": "2ae6e01f-d535-4b6b-bbdc-cfc2eb98fddd",
      "cell_type": "code",
      "metadata": {
        "jupyter": {
          "outputs_hidden": false,
          "source_hidden": false
        },
        "noteable": {
          "cell_type": "code",
          "output_collection_id": "6c4f436c-b4e3-4096-bb5e-4cb9ddf69d84"
        },
        "ExecuteTime": {
          "end_time": "2023-12-11T20:19:25.909698+00:00",
          "start_time": "2023-12-11T20:19:25.570639+00:00"
        },
        "datalink": {
          "dbe4c7bb-848c-436c-b8dd-7a5ea6b61c1e": {
            "applied_filters": [],
            "dataframe_info": {
              "default_index_used": false,
              "orig_num_cols": 1,
              "orig_num_rows": 14167,
              "orig_size_bytes": 226672,
              "truncated_num_cols": 1,
              "truncated_num_rows": 14167,
              "truncated_size_bytes": 226672,
              "truncated_string_columns": []
            },
            "display_id": "dbe4c7bb-848c-436c-b8dd-7a5ea6b61c1e",
            "dx_settings": {
              "ALLOW_NOTEABLE_ATTRS": true,
              "COLUMN_SAMPLING_METHOD": "outer",
              "DB_LOCATION": ":memory:",
              "DEV_MODE": false,
              "DISPLAY_MAX_COLUMNS": 100,
              "DISPLAY_MAX_ROWS": 50000,
              "DISPLAY_MODE": "simple",
              "ENABLE_ASSIGNMENT": true,
              "ENABLE_DATALINK": true,
              "FLATTEN_COLUMN_VALUES": true,
              "FLATTEN_INDEX_VALUES": false,
              "GENERATE_DEX_METADATA": false,
              "HTML_TABLE_SCHEMA": false,
              "LOG_LEVEL": 30,
              "MAX_RENDER_SIZE_BYTES": 104857600,
              "MAX_STRING_LENGTH": 250,
              "NUM_PAST_SAMPLES_TRACKED": 3,
              "RANDOM_STATE": 12648430,
              "RESET_INDEX_VALUES": false,
              "ROW_SAMPLING_METHOD": "random",
              "SAMPLING_FACTOR": 0.1,
              "SAMPLING_METHOD": "random",
              "STRINGIFY_COLUMN_VALUES": true,
              "STRINGIFY_INDEX_VALUES": false
            },
            "sample_history": [],
            "sampling_time": "2023-12-11T17:23:18.622677",
            "user_variable_name": null,
            "variable_name": "unk_dataframe_e7963855c82044c29f5aad56bff51a86"
          },
          "6cf75be2-0ff8-4f65-994c-a09f0eabc2dc": {
            "applied_filters": [],
            "dataframe_info": {
              "default_index_used": false,
              "orig_num_cols": 1,
              "orig_num_rows": 14167,
              "orig_size_bytes": 226672,
              "truncated_num_cols": 1,
              "truncated_num_rows": 14167,
              "truncated_size_bytes": 226672,
              "truncated_string_columns": []
            },
            "display_id": "6cf75be2-0ff8-4f65-994c-a09f0eabc2dc",
            "dx_settings": {
              "ALLOW_NOTEABLE_ATTRS": true,
              "COLUMN_SAMPLING_METHOD": "outer",
              "DB_LOCATION": ":memory:",
              "DEV_MODE": false,
              "DISPLAY_MAX_COLUMNS": 100,
              "DISPLAY_MAX_ROWS": 50000,
              "DISPLAY_MODE": "simple",
              "ENABLE_ASSIGNMENT": true,
              "ENABLE_DATALINK": true,
              "FLATTEN_COLUMN_VALUES": true,
              "FLATTEN_INDEX_VALUES": false,
              "GENERATE_DEX_METADATA": false,
              "HTML_TABLE_SCHEMA": false,
              "LOG_LEVEL": 30,
              "MAX_RENDER_SIZE_BYTES": 104857600,
              "MAX_STRING_LENGTH": 250,
              "NUM_PAST_SAMPLES_TRACKED": 3,
              "RANDOM_STATE": 12648430,
              "RESET_INDEX_VALUES": false,
              "ROW_SAMPLING_METHOD": "random",
              "SAMPLING_FACTOR": 0.1,
              "SAMPLING_METHOD": "random",
              "STRINGIFY_COLUMN_VALUES": true,
              "STRINGIFY_INDEX_VALUES": false
            },
            "sample_history": [],
            "sampling_time": "2023-12-11T17:45:03.833802",
            "user_variable_name": null,
            "variable_name": "unk_dataframe_7c10a4adff384557925eabe487706efa"
          },
          "32bda5f7-f333-43c5-9af5-12e24f7308ab": {
            "applied_filters": [],
            "dataframe_info": {
              "default_index_used": false,
              "orig_num_cols": 1,
              "orig_num_rows": 14167,
              "orig_size_bytes": 226672,
              "truncated_num_cols": 1,
              "truncated_num_rows": 14167,
              "truncated_size_bytes": 226672,
              "truncated_string_columns": []
            },
            "display_id": "32bda5f7-f333-43c5-9af5-12e24f7308ab",
            "dx_settings": {
              "ALLOW_NOTEABLE_ATTRS": true,
              "COLUMN_SAMPLING_METHOD": "outer",
              "DB_LOCATION": ":memory:",
              "DEV_MODE": false,
              "DISPLAY_MAX_COLUMNS": 100,
              "DISPLAY_MAX_ROWS": 50000,
              "DISPLAY_MODE": "simple",
              "ENABLE_ASSIGNMENT": true,
              "ENABLE_DATALINK": true,
              "FLATTEN_COLUMN_VALUES": true,
              "FLATTEN_INDEX_VALUES": false,
              "GENERATE_DEX_METADATA": false,
              "HTML_TABLE_SCHEMA": false,
              "LOG_LEVEL": 30,
              "MAX_RENDER_SIZE_BYTES": 104857600,
              "MAX_STRING_LENGTH": 250,
              "NUM_PAST_SAMPLES_TRACKED": 3,
              "RANDOM_STATE": 12648430,
              "RESET_INDEX_VALUES": false,
              "ROW_SAMPLING_METHOD": "random",
              "SAMPLING_FACTOR": 0.1,
              "SAMPLING_METHOD": "random",
              "STRINGIFY_COLUMN_VALUES": true,
              "STRINGIFY_INDEX_VALUES": false
            },
            "sample_history": [],
            "sampling_time": "2023-12-11T19:50:16.782217",
            "user_variable_name": null,
            "variable_name": "unk_dataframe_45bb6e5dbf824c96ba8696ff4fec6ae7"
          },
          "8b6939b6-fab1-42bf-8415-f357450bb640": {
            "applied_filters": [],
            "dataframe_info": {
              "default_index_used": false,
              "orig_num_cols": 1,
              "orig_num_rows": 14167,
              "orig_size_bytes": 226672,
              "truncated_num_cols": 1,
              "truncated_num_rows": 14167,
              "truncated_size_bytes": 226672,
              "truncated_string_columns": []
            },
            "display_id": "8b6939b6-fab1-42bf-8415-f357450bb640",
            "dx_settings": {
              "ALLOW_NOTEABLE_ATTRS": true,
              "COLUMN_SAMPLING_METHOD": "outer",
              "DB_LOCATION": ":memory:",
              "DEV_MODE": false,
              "DISPLAY_MAX_COLUMNS": 100,
              "DISPLAY_MAX_ROWS": 50000,
              "DISPLAY_MODE": "simple",
              "ENABLE_ASSIGNMENT": true,
              "ENABLE_DATALINK": true,
              "FLATTEN_COLUMN_VALUES": true,
              "FLATTEN_INDEX_VALUES": false,
              "GENERATE_DEX_METADATA": false,
              "HTML_TABLE_SCHEMA": false,
              "LOG_LEVEL": 30,
              "MAX_RENDER_SIZE_BYTES": 104857600,
              "MAX_STRING_LENGTH": 250,
              "NUM_PAST_SAMPLES_TRACKED": 3,
              "RANDOM_STATE": 12648430,
              "RESET_INDEX_VALUES": false,
              "ROW_SAMPLING_METHOD": "random",
              "SAMPLING_FACTOR": 0.1,
              "SAMPLING_METHOD": "random",
              "STRINGIFY_COLUMN_VALUES": true,
              "STRINGIFY_INDEX_VALUES": false
            },
            "sample_history": [],
            "sampling_time": "2023-12-11T19:54:41.568915",
            "user_variable_name": null,
            "variable_name": "unk_dataframe_470a89fd3e8a4ecda8d18f32e09dbe90"
          },
          "7f4d365a-f4d1-41b7-9ba8-a3045f213365": {
            "applied_filters": [],
            "dataframe_info": {
              "default_index_used": false,
              "orig_num_cols": 1,
              "orig_num_rows": 14167,
              "orig_size_bytes": 226672,
              "truncated_num_cols": 1,
              "truncated_num_rows": 14167,
              "truncated_size_bytes": 226672,
              "truncated_string_columns": []
            },
            "display_id": "7f4d365a-f4d1-41b7-9ba8-a3045f213365",
            "dx_settings": {
              "ALLOW_NOTEABLE_ATTRS": true,
              "COLUMN_SAMPLING_METHOD": "outer",
              "DB_LOCATION": ":memory:",
              "DEV_MODE": false,
              "DISPLAY_MAX_COLUMNS": 100,
              "DISPLAY_MAX_ROWS": 50000,
              "DISPLAY_MODE": "simple",
              "ENABLE_ASSIGNMENT": true,
              "ENABLE_DATALINK": true,
              "FLATTEN_COLUMN_VALUES": true,
              "FLATTEN_INDEX_VALUES": false,
              "GENERATE_DEX_METADATA": false,
              "HTML_TABLE_SCHEMA": false,
              "LOG_LEVEL": 30,
              "MAX_RENDER_SIZE_BYTES": 104857600,
              "MAX_STRING_LENGTH": 250,
              "NUM_PAST_SAMPLES_TRACKED": 3,
              "RANDOM_STATE": 12648430,
              "RESET_INDEX_VALUES": false,
              "ROW_SAMPLING_METHOD": "random",
              "SAMPLING_FACTOR": 0.1,
              "SAMPLING_METHOD": "random",
              "STRINGIFY_COLUMN_VALUES": true,
              "STRINGIFY_INDEX_VALUES": false
            },
            "sample_history": [],
            "sampling_time": "2023-12-11T20:19:25.730918",
            "user_variable_name": null,
            "variable_name": "unk_dataframe_77e1eee4a948406e95e94a442d6a8a5d"
          }
        },
        "dx": {
          "dashboard": {
            "multiViews": []
          },
          "fieldMetadata": {
            "index": {
              "columnPosition": 1,
              "width": 281
            },
            "job_titles": {
              "columnPosition": 2
            }
          },
          "updated": 1702322792543,
          "views": [
            {
              "annotationRules": [],
              "chart": {},
              "chartMode": "grid",
              "confoRules": [],
              "decoration": {
                "footer": "",
                "subtitle": "",
                "title": "Table"
              },
              "facets": [],
              "filterSettings": {
                "SHOW_FILTER_PANEL": true,
                "filters": []
              },
              "id": "first-view",
              "isDefault": true,
              "type": "public",
              "userID": ""
            },
            {
              "annotationRules": [],
              "chart": {
                "tableSparklines": false
              },
              "chartMode": "grid",
              "confoRules": [],
              "decoration": {
                "footer": "",
                "subtitle": "",
                "title": "Table"
              },
              "facets": [],
              "filterSettings": {
                "SHOW_FILTER_PANEL": true,
                "filters": []
              },
              "id": "first-view",
              "isDefault": true,
              "isTransitory": true,
              "type": "public",
              "userID": ""
            }
          ]
        }
      },
      "execution_count": null,
      "source": "# Check the unique job titles\ndf['job_title'].value_counts()",
      "outputs": []
    },
    {
      "id": "0af2fcd4-c640-4b01-b3cb-24630d8c1dc6",
      "cell_type": "code",
      "metadata": {
        "noteable": {
          "cell_type": "code",
          "output_collection_id": "56b15482-fd83-4c39-be3b-35c8f05c69ad"
        },
        "ExecuteTime": {
          "end_time": "2023-12-11T20:19:26.667776+00:00",
          "start_time": "2023-12-11T20:19:26.497383+00:00"
        }
      },
      "execution_count": null,
      "source": "# Rename 'Data Analyst' variations\nda_titles_to_rename = ['Data Analyst II', 'Data Analyst III', 'Marketing Data Analyst', 'Financial Data Analyst', 'Data analyst', 'Data Analyst I', 'Healthcare Data Analyst', 'Data Analyst IV', 'Data Analyst III (Healthcare Analytics)', 'Analyst II, Data Analytics', 'Data Analyst - Contract to Hire', 'Data Analyst IV (Healthcare Analytics)', 'Medical Data Analyst', 'Product Data Analyst', 'Clinical Data Analyst', 'Data Analyst (Remote)', 'Data Analyst - Remote', 'Data Analyst - Now Hiring', 'Remote Data Analyst', 'Full Time Data Analyst', 'Data Analyst II (Healthcare Analytics/UM/Appeals)', 'Sales Data Analyst']\ndf['job_title'] = df['job_title'].apply(lambda x: 'Data Analyst' if x in da_titles_to_rename else x)",
      "outputs": []
    },
    {
      "id": "4d0a17e9-b1d2-4ab6-b35d-83d8f53386e9",
      "cell_type": "code",
      "metadata": {
        "jupyter": {
          "outputs_hidden": false,
          "source_hidden": false
        },
        "noteable": {
          "cell_type": "code",
          "output_collection_id": "8c924ab5-e524-4f12-a9e5-fe7961c73de2"
        },
        "ExecuteTime": {
          "end_time": "2023-12-11T20:19:26.835358+00:00",
          "start_time": "2023-12-11T20:19:26.672694+00:00"
        }
      },
      "execution_count": null,
      "source": "# Rename 'Data Engineer' variations\ndf['job_title'] = df['job_title'].apply(lambda x: 'Data Engineer' if 'engineer' in x.lower() and not any(word in x.lower() for word in ['lead', 'senior', 'principal', 'cloud', 'machine']) else x)",
      "outputs": []
    },
    {
      "id": "18ad7ffa-b85e-4214-bd94-11a98250a7bf",
      "cell_type": "code",
      "metadata": {
        "jupyter": {
          "outputs_hidden": false,
          "source_hidden": false
        },
        "noteable": {
          "cell_type": "code",
          "output_collection_id": "73513563-1e1d-46ad-871d-2d072b0c5f79"
        },
        "ExecuteTime": {
          "end_time": "2023-12-11T20:19:27.008856+00:00",
          "start_time": "2023-12-11T20:19:26.841266+00:00"
        }
      },
      "execution_count": null,
      "source": "# Rename 'Data Scientist' variations\ndf['job_title'] = df['job_title'].apply(lambda x: 'Data Scientist' if 'scientist' in x.lower() and not any(word in x.lower() for word in ['lead', 'senior', 'principal']) else x)",
      "outputs": []
    },
    {
      "id": "0e84c307-3095-4bc5-80fc-9cfecdab205c",
      "cell_type": "code",
      "metadata": {
        "jupyter": {
          "outputs_hidden": false,
          "source_hidden": false
        },
        "noteable": {
          "cell_type": "code",
          "output_collection_id": "6134133a-919f-4f9a-bbb3-f5384b41c7b8"
        },
        "ExecuteTime": {
          "end_time": "2023-12-11T20:19:27.181925+00:00",
          "start_time": "2023-12-11T20:19:27.014533+00:00"
        }
      },
      "execution_count": null,
      "source": "# Rename Business Analyst variations\ndf['job_title'] = df['job_title'].apply(lambda x: 'Business Analyst' if 'business' in x.lower() and not any(word in x.lower() for word in ['lead', 'senior', 'principal']) else x)",
      "outputs": []
    },
    {
      "id": "76c52bae-b8e2-4e10-82eb-60e19a8d7c54",
      "cell_type": "code",
      "metadata": {
        "jupyter": {
          "outputs_hidden": false,
          "source_hidden": false
        },
        "noteable": {
          "cell_type": "code",
          "output_collection_id": "819d4509-d851-44ad-83c7-d631ebb03afb"
        },
        "ExecuteTime": {
          "end_time": "2023-12-11T20:19:27.352022+00:00",
          "start_time": "2023-12-11T20:19:27.186940+00:00"
        }
      },
      "execution_count": null,
      "source": "# Renaming job titles to 'Senior Data Analyst'\ndf['job_title'] = df['job_title'].apply(lambda x: 'Senior Data Analyst' if 'sr' in x.lower() and not any(word in x.lower() for word in ['scientist', 'engineer', 'business']) else x)",
      "outputs": []
    },
    {
      "id": "057a4dfc-2fd1-4f30-a4da-e2a0a53efae4",
      "cell_type": "code",
      "metadata": {
        "jupyter": {
          "outputs_hidden": false,
          "source_hidden": false
        },
        "noteable": {
          "cell_type": "code",
          "output_collection_id": "e9769813-0723-4b03-b4a3-5a3662d77995"
        },
        "ExecuteTime": {
          "end_time": "2023-12-11T20:19:27.591369+00:00",
          "start_time": "2023-12-11T20:19:27.429713+00:00"
        }
      },
      "execution_count": null,
      "source": "# Renaming job titles to 'Lead Data Analyst'\ndf['job_title'] = df['job_title'].apply(lambda x: 'Lead Data Analyst' if 'Lead' in x.lower() and not any(word in x.lower() for word in ['scientist', 'engineer', 'business']) else x)",
      "outputs": []
    },
    {
      "id": "2459f351-254e-4020-84b0-1293776261b2",
      "cell_type": "code",
      "metadata": {
        "jupyter": {
          "outputs_hidden": false,
          "source_hidden": false
        },
        "noteable": {
          "cell_type": "code",
          "output_collection_id": "e2898761-5aa5-4299-8f88-431e61268845"
        },
        "ExecuteTime": {
          "end_time": "2023-12-11T20:19:27.757395+00:00",
          "start_time": "2023-12-11T20:19:27.596913+00:00"
        }
      },
      "execution_count": null,
      "source": "# Rename 'Senior Data Scientist' variations\ndf['job_title'] = df['job_title'].apply(lambda x: 'Senior Data Scientist' if 'Senior' in x.lower() and not any(word in x.lower() for word in ['engineer', 'business', 'scientist']) else x)",
      "outputs": []
    },
    {
      "id": "2bb73e09-2978-4456-a301-db3ecb489bdf",
      "cell_type": "code",
      "metadata": {
        "jupyter": {
          "outputs_hidden": false,
          "source_hidden": false
        },
        "noteable": {
          "cell_type": "code",
          "output_collection_id": "db088281-0db6-4ff6-90a5-457ffc71b441"
        },
        "ExecuteTime": {
          "end_time": "2023-12-11T20:19:27.929598+00:00",
          "start_time": "2023-12-11T20:19:27.765475+00:00"
        }
      },
      "execution_count": null,
      "source": "# Rename 'Lead Data Scientist' variations\ndf['job_title'] = df['job_title'].apply(lambda x: 'Lead Data Scientist' if 'Lead' in x.lower() and not any(word in x.lower() for word in ['engineer', 'business', 'scientist']) else x)",
      "outputs": []
    },
    {
      "id": "65edfcad-45fd-4311-811e-db082219832e",
      "cell_type": "code",
      "metadata": {
        "jupyter": {
          "outputs_hidden": false,
          "source_hidden": false
        },
        "noteable": {
          "cell_type": "code",
          "output_collection_id": "87da5f5e-a742-4ddc-a622-03bff73dffe3"
        },
        "ExecuteTime": {
          "end_time": "2023-12-11T20:19:28.101410+00:00",
          "start_time": "2023-12-11T20:19:27.936005+00:00"
        }
      },
      "execution_count": null,
      "source": "# Rename 'Senior Business Analyst' variations\ndf['job_title'] = df['job_title'].apply(lambda x: 'Senior Business Analyst' if 'senior' in x.lower() and not any(word in x.lower() for word in ['scientist', 'engineer', 'junior', 'jr', 'data']) else x)",
      "outputs": []
    },
    {
      "id": "2679885c-a715-41ac-91c0-444f48d8ce06",
      "cell_type": "code",
      "metadata": {
        "noteable": {
          "cell_type": "code",
          "output_collection_id": "da67f025-e680-4906-b48f-f558bea7170d"
        },
        "ExecuteTime": {
          "end_time": "2023-12-11T20:19:28.266070+00:00",
          "start_time": "2023-12-11T20:19:28.107265+00:00"
        }
      },
      "execution_count": null,
      "source": "# Rename 'Senior Business Analyst' variations - 2\nsenior_titles_to_rename = ['Senior Data Analyst, Business Optimization', 'Senior Business Data Analyst', 'Senior Business Systems Data Analyst', 'Senior Data Analyst, Business Intelligence', 'Senior Data Analyst Business Optimization Intelligence']\ndf['job_title'] = df['job_title'].apply(lambda x: 'Senior Business Analyst' if x in senior_titles_to_rename else x)",
      "outputs": []
    },
    {
      "id": "3f975e88-62ee-4185-8c82-5f37cf7f5b98",
      "cell_type": "code",
      "metadata": {
        "noteable": {
          "cell_type": "code",
          "output_collection_id": "21ff9223-2d25-4fd4-ab1b-112791264a90"
        },
        "ExecuteTime": {
          "end_time": "2023-12-11T20:19:28.431221+00:00",
          "start_time": "2023-12-11T20:19:28.271857+00:00"
        }
      },
      "execution_count": null,
      "source": "# Rename 'Junior Business Analyst' variations\njunior_titles_to_rename = ['Jr. Data Analyst', 'Jr Data Analyst', 'Data Analyst (Junior)']\ndf['job_title'] = df['job_title'].apply(lambda x: 'Junior Data Analyst' if x in junior_titles_to_rename else x)",
      "outputs": []
    },
    {
      "id": "f6ccf930-eb8b-4fcc-a544-d5cc388451d6",
      "cell_type": "code",
      "metadata": {
        "noteable": {
          "cell_type": "code",
          "output_collection_id": "74a52f76-0926-4d80-bca0-73d9a8e223d5"
        },
        "ExecuteTime": {
          "end_time": "2023-12-11T20:19:28.598943+00:00",
          "start_time": "2023-12-11T20:19:28.438150+00:00"
        }
      },
      "execution_count": null,
      "source": "principal_titles_to_rename = ['(USA) Principal Data Analyst - Investigative Risk and Operational...', 'Principal Data Analyst (IROCC)', 'Principal Data Analyst - Investigative Risk and Operational...', 'Principal IT Data Analyst II']\ndf['job_title'] = df['job_title'].apply(lambda x: 'Principal Data Analyst' if x in principal_titles_to_rename else x)",
      "outputs": []
    },
    {
      "id": "e7839cfc-4c71-4011-afb1-ea084f7dbab3",
      "cell_type": "code",
      "metadata": {
        "jupyter": {
          "outputs_hidden": false,
          "source_hidden": false
        },
        "noteable": {
          "cell_type": "code",
          "output_collection_id": "efd45efb-58e9-4a36-9006-0ee74c6eac78"
        },
        "ExecuteTime": {
          "end_time": "2023-12-11T20:19:28.951917+00:00",
          "start_time": "2023-12-11T20:19:28.604589+00:00"
        },
        "datalink": {
          "4736fe57-4c81-4f79-b213-dd8960aec284": {
            "applied_filters": [],
            "dataframe_info": {
              "default_index_used": false,
              "orig_num_cols": 1,
              "orig_num_rows": 10520,
              "orig_size_bytes": 168320,
              "truncated_num_cols": 1,
              "truncated_num_rows": 10520,
              "truncated_size_bytes": 168320,
              "truncated_string_columns": []
            },
            "display_id": "4736fe57-4c81-4f79-b213-dd8960aec284",
            "dx_settings": {
              "ALLOW_NOTEABLE_ATTRS": true,
              "COLUMN_SAMPLING_METHOD": "outer",
              "DB_LOCATION": ":memory:",
              "DEV_MODE": false,
              "DISPLAY_MAX_COLUMNS": 100,
              "DISPLAY_MAX_ROWS": 50000,
              "DISPLAY_MODE": "simple",
              "ENABLE_ASSIGNMENT": true,
              "ENABLE_DATALINK": true,
              "FLATTEN_COLUMN_VALUES": true,
              "FLATTEN_INDEX_VALUES": false,
              "GENERATE_DEX_METADATA": false,
              "HTML_TABLE_SCHEMA": false,
              "LOG_LEVEL": 30,
              "MAX_RENDER_SIZE_BYTES": 104857600,
              "MAX_STRING_LENGTH": 250,
              "NUM_PAST_SAMPLES_TRACKED": 3,
              "RANDOM_STATE": 12648430,
              "RESET_INDEX_VALUES": false,
              "ROW_SAMPLING_METHOD": "random",
              "SAMPLING_FACTOR": 0.1,
              "SAMPLING_METHOD": "random",
              "STRINGIFY_COLUMN_VALUES": true,
              "STRINGIFY_INDEX_VALUES": false
            },
            "sample_history": [],
            "sampling_time": "2023-12-11T19:47:23.516961",
            "user_variable_name": null,
            "variable_name": "unk_dataframe_bb839cbb11284fd78fb0be9290af194d"
          },
          "b5a744ec-9cd7-47af-be9f-f402d7089977": {
            "applied_filters": [],
            "dataframe_info": {
              "default_index_used": false,
              "orig_num_cols": 1,
              "orig_num_rows": 10,
              "orig_size_bytes": 160,
              "truncated_num_cols": 1,
              "truncated_num_rows": 10,
              "truncated_size_bytes": 160,
              "truncated_string_columns": []
            },
            "display_id": "b5a744ec-9cd7-47af-be9f-f402d7089977",
            "dx_settings": {
              "ALLOW_NOTEABLE_ATTRS": true,
              "COLUMN_SAMPLING_METHOD": "outer",
              "DB_LOCATION": ":memory:",
              "DEV_MODE": false,
              "DISPLAY_MAX_COLUMNS": 100,
              "DISPLAY_MAX_ROWS": 50000,
              "DISPLAY_MODE": "simple",
              "ENABLE_ASSIGNMENT": true,
              "ENABLE_DATALINK": true,
              "FLATTEN_COLUMN_VALUES": true,
              "FLATTEN_INDEX_VALUES": false,
              "GENERATE_DEX_METADATA": false,
              "HTML_TABLE_SCHEMA": false,
              "LOG_LEVEL": 30,
              "MAX_RENDER_SIZE_BYTES": 104857600,
              "MAX_STRING_LENGTH": 250,
              "NUM_PAST_SAMPLES_TRACKED": 3,
              "RANDOM_STATE": 12648430,
              "RESET_INDEX_VALUES": false,
              "ROW_SAMPLING_METHOD": "random",
              "SAMPLING_FACTOR": 0.1,
              "SAMPLING_METHOD": "random",
              "STRINGIFY_COLUMN_VALUES": true,
              "STRINGIFY_INDEX_VALUES": false
            },
            "sample_history": [],
            "sampling_time": "2023-12-11T19:47:37.026411",
            "user_variable_name": null,
            "variable_name": "unk_dataframe_81caabd0038a474a9db03e5bdf7cc70d"
          },
          "71b2c201-6b13-4239-8275-0761c17b2678": {
            "applied_filters": [],
            "dataframe_info": {
              "default_index_used": false,
              "orig_num_cols": 1,
              "orig_num_rows": 10,
              "orig_size_bytes": 160,
              "truncated_num_cols": 1,
              "truncated_num_rows": 10,
              "truncated_size_bytes": 160,
              "truncated_string_columns": []
            },
            "display_id": "71b2c201-6b13-4239-8275-0761c17b2678",
            "dx_settings": {
              "ALLOW_NOTEABLE_ATTRS": true,
              "COLUMN_SAMPLING_METHOD": "outer",
              "DB_LOCATION": ":memory:",
              "DEV_MODE": false,
              "DISPLAY_MAX_COLUMNS": 100,
              "DISPLAY_MAX_ROWS": 50000,
              "DISPLAY_MODE": "simple",
              "ENABLE_ASSIGNMENT": true,
              "ENABLE_DATALINK": true,
              "FLATTEN_COLUMN_VALUES": true,
              "FLATTEN_INDEX_VALUES": false,
              "GENERATE_DEX_METADATA": false,
              "HTML_TABLE_SCHEMA": false,
              "LOG_LEVEL": 30,
              "MAX_RENDER_SIZE_BYTES": 104857600,
              "MAX_STRING_LENGTH": 250,
              "NUM_PAST_SAMPLES_TRACKED": 3,
              "RANDOM_STATE": 12648430,
              "RESET_INDEX_VALUES": false,
              "ROW_SAMPLING_METHOD": "random",
              "SAMPLING_FACTOR": 0.1,
              "SAMPLING_METHOD": "random",
              "STRINGIFY_COLUMN_VALUES": true,
              "STRINGIFY_INDEX_VALUES": false
            },
            "sample_history": [],
            "sampling_time": "2023-12-11T19:50:19.669639",
            "user_variable_name": null,
            "variable_name": "unk_dataframe_9541810fa74f4cbdbb3ffe7b5b1b20bc"
          },
          "1a56fd9e-0220-49cf-b2fe-7664498106a4": {
            "applied_filters": [],
            "dataframe_info": {
              "default_index_used": false,
              "orig_num_cols": 1,
              "orig_num_rows": 11504,
              "orig_size_bytes": 184064,
              "truncated_num_cols": 1,
              "truncated_num_rows": 11504,
              "truncated_size_bytes": 184064,
              "truncated_string_columns": []
            },
            "display_id": "1a56fd9e-0220-49cf-b2fe-7664498106a4",
            "dx_settings": {
              "ALLOW_NOTEABLE_ATTRS": true,
              "COLUMN_SAMPLING_METHOD": "outer",
              "DB_LOCATION": ":memory:",
              "DEV_MODE": false,
              "DISPLAY_MAX_COLUMNS": 100,
              "DISPLAY_MAX_ROWS": 50000,
              "DISPLAY_MODE": "simple",
              "ENABLE_ASSIGNMENT": true,
              "ENABLE_DATALINK": true,
              "FLATTEN_COLUMN_VALUES": true,
              "FLATTEN_INDEX_VALUES": false,
              "GENERATE_DEX_METADATA": false,
              "HTML_TABLE_SCHEMA": false,
              "LOG_LEVEL": 30,
              "MAX_RENDER_SIZE_BYTES": 104857600,
              "MAX_STRING_LENGTH": 250,
              "NUM_PAST_SAMPLES_TRACKED": 3,
              "RANDOM_STATE": 12648430,
              "RESET_INDEX_VALUES": false,
              "ROW_SAMPLING_METHOD": "random",
              "SAMPLING_FACTOR": 0.1,
              "SAMPLING_METHOD": "random",
              "STRINGIFY_COLUMN_VALUES": true,
              "STRINGIFY_INDEX_VALUES": false
            },
            "sample_history": [],
            "sampling_time": "2023-12-11T19:54:10.278093",
            "user_variable_name": null,
            "variable_name": "unk_dataframe_06b89f4bacb5469a9f1983db6f5a7894"
          },
          "97302fa3-f1c1-40ef-af2d-f5ba77c1ce5c": {
            "applied_filters": [],
            "dataframe_info": {
              "default_index_used": false,
              "orig_num_cols": 1,
              "orig_num_rows": 11563,
              "orig_size_bytes": 185008,
              "truncated_num_cols": 1,
              "truncated_num_rows": 11563,
              "truncated_size_bytes": 185008,
              "truncated_string_columns": []
            },
            "display_id": "97302fa3-f1c1-40ef-af2d-f5ba77c1ce5c",
            "dx_settings": {
              "ALLOW_NOTEABLE_ATTRS": true,
              "COLUMN_SAMPLING_METHOD": "outer",
              "DB_LOCATION": ":memory:",
              "DEV_MODE": false,
              "DISPLAY_MAX_COLUMNS": 100,
              "DISPLAY_MAX_ROWS": 50000,
              "DISPLAY_MODE": "simple",
              "ENABLE_ASSIGNMENT": true,
              "ENABLE_DATALINK": true,
              "FLATTEN_COLUMN_VALUES": true,
              "FLATTEN_INDEX_VALUES": false,
              "GENERATE_DEX_METADATA": false,
              "HTML_TABLE_SCHEMA": false,
              "LOG_LEVEL": 30,
              "MAX_RENDER_SIZE_BYTES": 104857600,
              "MAX_STRING_LENGTH": 250,
              "NUM_PAST_SAMPLES_TRACKED": 3,
              "RANDOM_STATE": 12648430,
              "RESET_INDEX_VALUES": false,
              "ROW_SAMPLING_METHOD": "random",
              "SAMPLING_FACTOR": 0.1,
              "SAMPLING_METHOD": "random",
              "STRINGIFY_COLUMN_VALUES": true,
              "STRINGIFY_INDEX_VALUES": false
            },
            "sample_history": [],
            "sampling_time": "2023-12-11T19:54:45.332027",
            "user_variable_name": null,
            "variable_name": "unk_dataframe_2c54afae4ccd4ad1b6967a8f742c467d"
          },
          "779f238e-75fa-4f76-8e4f-50265acbca0c": {
            "applied_filters": [],
            "dataframe_info": {
              "default_index_used": false,
              "orig_num_cols": 1,
              "orig_num_rows": 11560,
              "orig_size_bytes": 184960,
              "truncated_num_cols": 1,
              "truncated_num_rows": 11560,
              "truncated_size_bytes": 184960,
              "truncated_string_columns": []
            },
            "display_id": "779f238e-75fa-4f76-8e4f-50265acbca0c",
            "dx_settings": {
              "ALLOW_NOTEABLE_ATTRS": true,
              "COLUMN_SAMPLING_METHOD": "outer",
              "DB_LOCATION": ":memory:",
              "DEV_MODE": false,
              "DISPLAY_MAX_COLUMNS": 100,
              "DISPLAY_MAX_ROWS": 50000,
              "DISPLAY_MODE": "simple",
              "ENABLE_ASSIGNMENT": true,
              "ENABLE_DATALINK": true,
              "FLATTEN_COLUMN_VALUES": true,
              "FLATTEN_INDEX_VALUES": false,
              "GENERATE_DEX_METADATA": false,
              "HTML_TABLE_SCHEMA": false,
              "LOG_LEVEL": 30,
              "MAX_RENDER_SIZE_BYTES": 104857600,
              "MAX_STRING_LENGTH": 250,
              "NUM_PAST_SAMPLES_TRACKED": 3,
              "RANDOM_STATE": 12648430,
              "RESET_INDEX_VALUES": false,
              "ROW_SAMPLING_METHOD": "random",
              "SAMPLING_FACTOR": 0.1,
              "SAMPLING_METHOD": "random",
              "STRINGIFY_COLUMN_VALUES": true,
              "STRINGIFY_INDEX_VALUES": false
            },
            "sample_history": [],
            "sampling_time": "2023-12-11T19:57:23.967501",
            "user_variable_name": null,
            "variable_name": "unk_dataframe_e748f00887164fcf861db2a7945790ec"
          },
          "62752351-1434-417a-b1ab-c89b3fe76b3f": {
            "applied_filters": [],
            "dataframe_info": {
              "default_index_used": false,
              "orig_num_cols": 1,
              "orig_num_rows": 11560,
              "orig_size_bytes": 184960,
              "truncated_num_cols": 1,
              "truncated_num_rows": 11560,
              "truncated_size_bytes": 184960,
              "truncated_string_columns": []
            },
            "display_id": "62752351-1434-417a-b1ab-c89b3fe76b3f",
            "dx_settings": {
              "ALLOW_NOTEABLE_ATTRS": true,
              "COLUMN_SAMPLING_METHOD": "outer",
              "DB_LOCATION": ":memory:",
              "DEV_MODE": false,
              "DISPLAY_MAX_COLUMNS": 100,
              "DISPLAY_MAX_ROWS": 50000,
              "DISPLAY_MODE": "simple",
              "ENABLE_ASSIGNMENT": true,
              "ENABLE_DATALINK": true,
              "FLATTEN_COLUMN_VALUES": true,
              "FLATTEN_INDEX_VALUES": false,
              "GENERATE_DEX_METADATA": false,
              "HTML_TABLE_SCHEMA": false,
              "LOG_LEVEL": 30,
              "MAX_RENDER_SIZE_BYTES": 104857600,
              "MAX_STRING_LENGTH": 250,
              "NUM_PAST_SAMPLES_TRACKED": 3,
              "RANDOM_STATE": 12648430,
              "RESET_INDEX_VALUES": false,
              "ROW_SAMPLING_METHOD": "random",
              "SAMPLING_FACTOR": 0.1,
              "SAMPLING_METHOD": "random",
              "STRINGIFY_COLUMN_VALUES": true,
              "STRINGIFY_INDEX_VALUES": false
            },
            "sample_history": [],
            "sampling_time": "2023-12-11T20:01:12.090526",
            "user_variable_name": null,
            "variable_name": "unk_dataframe_5bcefa0541c742f787c2e94b8ef6a338"
          },
          "12b55896-ff28-40d9-89b6-8eb1246c75c6": {
            "applied_filters": [],
            "dataframe_info": {
              "default_index_used": false,
              "orig_num_cols": 1,
              "orig_num_rows": 11556,
              "orig_size_bytes": 184896,
              "truncated_num_cols": 1,
              "truncated_num_rows": 11556,
              "truncated_size_bytes": 184896,
              "truncated_string_columns": []
            },
            "display_id": "12b55896-ff28-40d9-89b6-8eb1246c75c6",
            "dx_settings": {
              "ALLOW_NOTEABLE_ATTRS": true,
              "COLUMN_SAMPLING_METHOD": "outer",
              "DB_LOCATION": ":memory:",
              "DEV_MODE": false,
              "DISPLAY_MAX_COLUMNS": 100,
              "DISPLAY_MAX_ROWS": 50000,
              "DISPLAY_MODE": "simple",
              "ENABLE_ASSIGNMENT": true,
              "ENABLE_DATALINK": true,
              "FLATTEN_COLUMN_VALUES": true,
              "FLATTEN_INDEX_VALUES": false,
              "GENERATE_DEX_METADATA": false,
              "HTML_TABLE_SCHEMA": false,
              "LOG_LEVEL": 30,
              "MAX_RENDER_SIZE_BYTES": 104857600,
              "MAX_STRING_LENGTH": 250,
              "NUM_PAST_SAMPLES_TRACKED": 3,
              "RANDOM_STATE": 12648430,
              "RESET_INDEX_VALUES": false,
              "ROW_SAMPLING_METHOD": "random",
              "SAMPLING_FACTOR": 0.1,
              "SAMPLING_METHOD": "random",
              "STRINGIFY_COLUMN_VALUES": true,
              "STRINGIFY_INDEX_VALUES": false
            },
            "sample_history": [],
            "sampling_time": "2023-12-11T20:01:21.197774",
            "user_variable_name": null,
            "variable_name": "unk_dataframe_620dec173b864b9fb2a0a88eb57ac476"
          },
          "e395ffe8-5c91-4248-8f47-99d2472b6fa8": {
            "applied_filters": [],
            "dataframe_info": {
              "default_index_used": false,
              "orig_num_cols": 1,
              "orig_num_rows": 11556,
              "orig_size_bytes": 184896,
              "truncated_num_cols": 1,
              "truncated_num_rows": 11556,
              "truncated_size_bytes": 184896,
              "truncated_string_columns": []
            },
            "display_id": "e395ffe8-5c91-4248-8f47-99d2472b6fa8",
            "dx_settings": {
              "ALLOW_NOTEABLE_ATTRS": true,
              "COLUMN_SAMPLING_METHOD": "outer",
              "DB_LOCATION": ":memory:",
              "DEV_MODE": false,
              "DISPLAY_MAX_COLUMNS": 100,
              "DISPLAY_MAX_ROWS": 50000,
              "DISPLAY_MODE": "simple",
              "ENABLE_ASSIGNMENT": true,
              "ENABLE_DATALINK": true,
              "FLATTEN_COLUMN_VALUES": true,
              "FLATTEN_INDEX_VALUES": false,
              "GENERATE_DEX_METADATA": false,
              "HTML_TABLE_SCHEMA": false,
              "LOG_LEVEL": 30,
              "MAX_RENDER_SIZE_BYTES": 104857600,
              "MAX_STRING_LENGTH": 250,
              "NUM_PAST_SAMPLES_TRACKED": 3,
              "RANDOM_STATE": 12648430,
              "RESET_INDEX_VALUES": false,
              "ROW_SAMPLING_METHOD": "random",
              "SAMPLING_FACTOR": 0.1,
              "SAMPLING_METHOD": "random",
              "STRINGIFY_COLUMN_VALUES": true,
              "STRINGIFY_INDEX_VALUES": false
            },
            "sample_history": [],
            "sampling_time": "2023-12-11T20:19:28.779867",
            "user_variable_name": null,
            "variable_name": "unk_dataframe_902f766ef05a4955ab41abcb8e0162b3"
          }
        },
        "dx": {
          "dashboard": {
            "multiViews": []
          },
          "fieldMetadata": {
            "index": {
              "columnPosition": 1,
              "width": 190
            },
            "job_title": {
              "columnPosition": 2
            }
          },
          "updated": 1702324893216,
          "views": [
            {
              "annotationRules": [],
              "chart": {},
              "chartMode": "grid",
              "confoRules": [],
              "decoration": {
                "footer": "",
                "subtitle": "",
                "title": "Table"
              },
              "facets": [],
              "filterSettings": {
                "SHOW_FILTER_PANEL": true,
                "filters": []
              },
              "id": "first-view",
              "isDefault": true,
              "type": "public",
              "userID": ""
            },
            {
              "annotationRules": [],
              "chart": {},
              "chartMode": "grid",
              "confoRules": [],
              "decoration": {
                "footer": "",
                "subtitle": "",
                "title": "Table"
              },
              "facets": [],
              "filterSettings": {
                "SHOW_FILTER_PANEL": true,
                "filters": []
              },
              "id": "first-view",
              "isDefault": true,
              "isTransitory": true,
              "type": "public",
              "userID": ""
            }
          ]
        }
      },
      "execution_count": null,
      "source": "df['job_title'].value_counts()",
      "outputs": []
    },
    {
      "id": "709d393b-eb5c-4adc-a4dd-dcea9a44a159",
      "cell_type": "code",
      "metadata": {
        "jupyter": {
          "outputs_hidden": false,
          "source_hidden": false
        },
        "noteable": {
          "cell_type": "code"
        }
      },
      "execution_count": null,
      "source": "df.to_csv('0_cleaned_data_csv')",
      "outputs": []
    }
  ]
}