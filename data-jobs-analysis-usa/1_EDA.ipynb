{
  "nbformat": 4,
  "nbformat_minor": 5,
  "metadata": {
    "kernel_info": {
      "name": "python3"
    },
    "kernelspec": {
      "display_name": "Python 3.9",
      "identifier": "legacy",
      "language": "python",
      "language_version": "3.9",
      "name": "python3"
    },
    "selected_hardware_size": "small"
  },
  "cells": [
    {
      "id": "baf3d06d",
      "cell_type": "markdown",
      "source": "# Exploratory Data Analysis (EDA) \n- Descriptive Statistics\n- Top Data Related Job Titles in Demand\n- Leading Job Platforms for Data Careers\n- Essential Skills for Data Jobs\n- Comparing Salaries Across Data Roles",
      "metadata": {
        "noteable": {
          "cell_type": "markdown"
        }
      }
    },
    {
      "id": "238524c3-b2e7-462a-a384-9eab6bcf1e93",
      "cell_type": "code",
      "metadata": {
        "noteable": {
          "cell_type": "python",
          "output_collection_id": "b94f9898-7037-4abc-9abd-0045435dec0b"
        },
        "ExecuteTime": {
          "end_time": "2023-12-12T17:42:58.383149+00:00",
          "start_time": "2023-12-12T17:42:58.173568+00:00"
        },
        "datalink": {
          "91772023-ffbd-40f9-a2aa-1034e857ab44": {
            "applied_filters": [],
            "dataframe_info": {
              "default_index_used": true,
              "orig_num_cols": 13,
              "orig_num_rows": 27372,
              "orig_size_bytes": 3065664,
              "truncated_num_cols": 13,
              "truncated_num_rows": 27372,
              "truncated_size_bytes": 3065664,
              "truncated_string_columns": []
            },
            "display_id": "91772023-ffbd-40f9-a2aa-1034e857ab44",
            "dx_settings": {
              "ALLOW_NOTEABLE_ATTRS": true,
              "COLUMN_SAMPLING_METHOD": "outer",
              "DB_LOCATION": ":memory:",
              "DEV_MODE": false,
              "DISPLAY_MAX_COLUMNS": 100,
              "DISPLAY_MAX_ROWS": 50000,
              "DISPLAY_MODE": "simple",
              "ENABLE_ASSIGNMENT": true,
              "ENABLE_DATALINK": true,
              "FLATTEN_COLUMN_VALUES": true,
              "FLATTEN_INDEX_VALUES": false,
              "GENERATE_DEX_METADATA": false,
              "HTML_TABLE_SCHEMA": false,
              "LOG_LEVEL": 30,
              "MAX_RENDER_SIZE_BYTES": 104857600,
              "MAX_STRING_LENGTH": 250,
              "NUM_PAST_SAMPLES_TRACKED": 3,
              "RANDOM_STATE": 12648430,
              "RESET_INDEX_VALUES": false,
              "ROW_SAMPLING_METHOD": "random",
              "SAMPLING_FACTOR": 0.1,
              "SAMPLING_METHOD": "random",
              "STRINGIFY_COLUMN_VALUES": true,
              "STRINGIFY_INDEX_VALUES": false
            },
            "sample_history": [],
            "sampling_time": "2023-12-11T15:54:05.099383",
            "user_variable_name": "df",
            "variable_name": "df"
          },
          "5cd04c17-b56d-4e98-851b-3fe85a783ada": {
            "applied_filters": [],
            "dataframe_info": {
              "default_index_used": true,
              "orig_num_cols": 13,
              "orig_num_rows": 27372,
              "orig_size_bytes": 3065664,
              "truncated_num_cols": 13,
              "truncated_num_rows": 27372,
              "truncated_size_bytes": 3065664,
              "truncated_string_columns": []
            },
            "display_id": "5cd04c17-b56d-4e98-851b-3fe85a783ada",
            "dx_settings": {
              "ALLOW_NOTEABLE_ATTRS": true,
              "COLUMN_SAMPLING_METHOD": "outer",
              "DB_LOCATION": ":memory:",
              "DEV_MODE": false,
              "DISPLAY_MAX_COLUMNS": 100,
              "DISPLAY_MAX_ROWS": 50000,
              "DISPLAY_MODE": "simple",
              "ENABLE_ASSIGNMENT": true,
              "ENABLE_DATALINK": true,
              "FLATTEN_COLUMN_VALUES": true,
              "FLATTEN_INDEX_VALUES": false,
              "GENERATE_DEX_METADATA": false,
              "HTML_TABLE_SCHEMA": false,
              "LOG_LEVEL": 30,
              "MAX_RENDER_SIZE_BYTES": 104857600,
              "MAX_STRING_LENGTH": 250,
              "NUM_PAST_SAMPLES_TRACKED": 3,
              "RANDOM_STATE": 12648430,
              "RESET_INDEX_VALUES": false,
              "ROW_SAMPLING_METHOD": "random",
              "SAMPLING_FACTOR": 0.1,
              "SAMPLING_METHOD": "random",
              "STRINGIFY_COLUMN_VALUES": true,
              "STRINGIFY_INDEX_VALUES": false
            },
            "sample_history": [],
            "sampling_time": "2023-12-11T16:03:59.941939",
            "user_variable_name": "df",
            "variable_name": "df"
          }
        },
        "dx": {
          "fieldMetadata": {},
          "simpleTable": false,
          "updated": 1702310542302,
          "views": []
        },
        "scrolled": false
      },
      "execution_count": null,
      "source": "import pandas as pd\ndf = pd.read_csv('0_cleaned_data.csv') # this is the cleaned version",
      "outputs": []
    },
    {
      "id": "68817392-c075-4a8f-afc7-f9e45e7d82b5",
      "cell_type": "code",
      "metadata": {
        "noteable": {
          "cell_type": "python",
          "output_collection_id": "d9c481b4-816b-4e88-8e94-a77c9cc41262"
        },
        "ExecuteTime": {
          "end_time": "2023-12-11T20:50:20.955756+00:00",
          "start_time": "2023-12-11T20:50:19.321792+00:00"
        },
        "datalink": {
          "a8f300d9-e2b3-4f31-9c2f-515b567ddc86": {
            "applied_filters": [],
            "dataframe_info": {
              "default_index_used": true,
              "orig_num_cols": 14,
              "orig_num_rows": 37433,
              "orig_size_bytes": 4491960,
              "truncated_num_cols": 14,
              "truncated_num_rows": 37433,
              "truncated_size_bytes": 4491960,
              "truncated_string_columns": []
            },
            "display_id": "a8f300d9-e2b3-4f31-9c2f-515b567ddc86",
            "dx_settings": {
              "ALLOW_NOTEABLE_ATTRS": true,
              "COLUMN_SAMPLING_METHOD": "outer",
              "DB_LOCATION": ":memory:",
              "DEV_MODE": false,
              "DISPLAY_MAX_COLUMNS": 100,
              "DISPLAY_MAX_ROWS": 50000,
              "DISPLAY_MODE": "simple",
              "ENABLE_ASSIGNMENT": true,
              "ENABLE_DATALINK": true,
              "FLATTEN_COLUMN_VALUES": true,
              "FLATTEN_INDEX_VALUES": false,
              "GENERATE_DEX_METADATA": false,
              "HTML_TABLE_SCHEMA": false,
              "LOG_LEVEL": 30,
              "MAX_RENDER_SIZE_BYTES": 104857600,
              "MAX_STRING_LENGTH": 250,
              "NUM_PAST_SAMPLES_TRACKED": 3,
              "RANDOM_STATE": 12648430,
              "RESET_INDEX_VALUES": false,
              "ROW_SAMPLING_METHOD": "random",
              "SAMPLING_FACTOR": 0.1,
              "SAMPLING_METHOD": "random",
              "STRINGIFY_COLUMN_VALUES": true,
              "STRINGIFY_INDEX_VALUES": false
            },
            "sample_history": [],
            "sampling_time": "2023-12-11T20:17:34.721087",
            "user_variable_name": "df",
            "variable_name": "df"
          },
          "142f2e17-d862-4888-a137-f9b3805431af": {
            "applied_filters": [],
            "dataframe_info": {
              "default_index_used": true,
              "orig_num_cols": 14,
              "orig_num_rows": 37433,
              "orig_size_bytes": 4491960,
              "truncated_num_cols": 14,
              "truncated_num_rows": 37433,
              "truncated_size_bytes": 4491960,
              "truncated_string_columns": []
            },
            "display_id": "142f2e17-d862-4888-a137-f9b3805431af",
            "dx_settings": {
              "ALLOW_NOTEABLE_ATTRS": true,
              "COLUMN_SAMPLING_METHOD": "outer",
              "DB_LOCATION": ":memory:",
              "DEV_MODE": false,
              "DISPLAY_MAX_COLUMNS": 100,
              "DISPLAY_MAX_ROWS": 50000,
              "DISPLAY_MODE": "simple",
              "ENABLE_ASSIGNMENT": true,
              "ENABLE_DATALINK": true,
              "FLATTEN_COLUMN_VALUES": true,
              "FLATTEN_INDEX_VALUES": false,
              "GENERATE_DEX_METADATA": false,
              "HTML_TABLE_SCHEMA": false,
              "LOG_LEVEL": 30,
              "MAX_RENDER_SIZE_BYTES": 104857600,
              "MAX_STRING_LENGTH": 250,
              "NUM_PAST_SAMPLES_TRACKED": 3,
              "RANDOM_STATE": 12648430,
              "RESET_INDEX_VALUES": false,
              "ROW_SAMPLING_METHOD": "random",
              "SAMPLING_FACTOR": 0.1,
              "SAMPLING_METHOD": "random",
              "STRINGIFY_COLUMN_VALUES": true,
              "STRINGIFY_INDEX_VALUES": false
            },
            "sample_history": [],
            "sampling_time": "2023-12-11T20:50:20.535637",
            "user_variable_name": "df",
            "variable_name": "df"
          }
        },
        "dx": {
          "dashboard": {
            "multiViews": []
          },
          "fieldMetadata": {},
          "simpleTable": true,
          "updated": 1702331913679,
          "views": [
            {
              "annotationRules": [],
              "chart": {},
              "chartMode": "grid",
              "confoRules": [],
              "decoration": {
                "footer": "",
                "subtitle": "",
                "title": "Table"
              },
              "facets": [],
              "filterSettings": {
                "SHOW_FILTER_PANEL": true,
                "filters": []
              },
              "id": "first-view",
              "isDefault": true,
              "type": "public",
              "userID": ""
            },
            {
              "annotationRules": [],
              "chart": {
                "tableSparklines": false
              },
              "chartMode": "grid",
              "confoRules": [],
              "decoration": {
                "footer": "",
                "subtitle": "",
                "title": "Table"
              },
              "facets": [],
              "filterSettings": {
                "SHOW_FILTER_PANEL": true,
                "filters": []
              },
              "id": "first-view",
              "isDefault": true,
              "isTransitory": true,
              "type": "public",
              "userID": ""
            }
          ]
        }
      },
      "execution_count": null,
      "source": "df",
      "outputs": []
    },
    {
      "id": "16747d2f-8712-4453-be2e-def56fef7014",
      "cell_type": "markdown",
      "source": "## Descriptive Statistics\nGenerate basic statistical summaries like mean, median, standard deviation and range to understand the fundamental tendencies and dispersion in the dataset.",
      "metadata": {
        "noteable": {
          "cell_type": "markdown"
        }
      }
    },
    {
      "id": "ba3224e8-99db-4e0d-8165-d47a096e1950",
      "cell_type": "code",
      "metadata": {
        "noteable": {
          "cell_type": "python",
          "output_collection_id": "32971830-cfd3-4c84-ad37-303827b39d0f"
        },
        "ExecuteTime": {
          "end_time": "2023-12-11T20:54:26.641572+00:00",
          "start_time": "2023-12-11T20:54:26.256390+00:00"
        },
        "datalink": {
          "0024669f-a5af-402f-bbc9-7be110410a0c": {
            "applied_filters": [],
            "dataframe_info": {
              "default_index_used": false,
              "orig_num_cols": 6,
              "orig_num_rows": 8,
              "orig_size_bytes": 448,
              "truncated_num_cols": 6,
              "truncated_num_rows": 8,
              "truncated_size_bytes": 448,
              "truncated_string_columns": []
            },
            "display_id": "0024669f-a5af-402f-bbc9-7be110410a0c",
            "dx_settings": {
              "ALLOW_NOTEABLE_ATTRS": true,
              "COLUMN_SAMPLING_METHOD": "outer",
              "DB_LOCATION": ":memory:",
              "DEV_MODE": false,
              "DISPLAY_MAX_COLUMNS": 100,
              "DISPLAY_MAX_ROWS": 50000,
              "DISPLAY_MODE": "simple",
              "ENABLE_ASSIGNMENT": true,
              "ENABLE_DATALINK": true,
              "FLATTEN_COLUMN_VALUES": true,
              "FLATTEN_INDEX_VALUES": false,
              "GENERATE_DEX_METADATA": false,
              "HTML_TABLE_SCHEMA": false,
              "LOG_LEVEL": 30,
              "MAX_RENDER_SIZE_BYTES": 104857600,
              "MAX_STRING_LENGTH": 250,
              "NUM_PAST_SAMPLES_TRACKED": 3,
              "RANDOM_STATE": 12648430,
              "RESET_INDEX_VALUES": false,
              "ROW_SAMPLING_METHOD": "random",
              "SAMPLING_FACTOR": 0.1,
              "SAMPLING_METHOD": "random",
              "STRINGIFY_COLUMN_VALUES": true,
              "STRINGIFY_INDEX_VALUES": false
            },
            "sample_history": [],
            "sampling_time": "2023-12-11T20:54:14.562705",
            "user_variable_name": null,
            "variable_name": "unk_dataframe_f9d9c186756b41be937fff8cc01eb361"
          },
          "9f15b176-9555-4ebd-b98d-6e67d764120d": {
            "applied_filters": [],
            "dataframe_info": {
              "default_index_used": false,
              "orig_num_cols": 6,
              "orig_num_rows": 8,
              "orig_size_bytes": 448,
              "truncated_num_cols": 6,
              "truncated_num_rows": 8,
              "truncated_size_bytes": 448,
              "truncated_string_columns": []
            },
            "display_id": "9f15b176-9555-4ebd-b98d-6e67d764120d",
            "dx_settings": {
              "ALLOW_NOTEABLE_ATTRS": true,
              "COLUMN_SAMPLING_METHOD": "outer",
              "DB_LOCATION": ":memory:",
              "DEV_MODE": false,
              "DISPLAY_MAX_COLUMNS": 100,
              "DISPLAY_MAX_ROWS": 50000,
              "DISPLAY_MODE": "simple",
              "ENABLE_ASSIGNMENT": true,
              "ENABLE_DATALINK": true,
              "FLATTEN_COLUMN_VALUES": true,
              "FLATTEN_INDEX_VALUES": false,
              "GENERATE_DEX_METADATA": false,
              "HTML_TABLE_SCHEMA": false,
              "LOG_LEVEL": 30,
              "MAX_RENDER_SIZE_BYTES": 104857600,
              "MAX_STRING_LENGTH": 250,
              "NUM_PAST_SAMPLES_TRACKED": 3,
              "RANDOM_STATE": 12648430,
              "RESET_INDEX_VALUES": false,
              "ROW_SAMPLING_METHOD": "random",
              "SAMPLING_FACTOR": 0.1,
              "SAMPLING_METHOD": "random",
              "STRINGIFY_COLUMN_VALUES": true,
              "STRINGIFY_INDEX_VALUES": false
            },
            "sample_history": [],
            "sampling_time": "2023-12-11T20:54:26.482738",
            "user_variable_name": null,
            "variable_name": "unk_dataframe_64b93ab88a3b4b1bb878421c76228301"
          }
        },
        "dx": {
          "fieldMetadata": {},
          "simpleTable": true,
          "updated": 1702328056885,
          "views": []
        },
        "scrolled": true
      },
      "execution_count": null,
      "source": " df.describe().round(2)",
      "outputs": []
    },
    {
      "id": "8fc88442-4071-441b-8ed1-4a6121c7e823",
      "cell_type": "markdown",
      "source": "## Top Data Related Job Titles in Demand: What are the Most Mopular Job Titles?\nIdentify the most frequently advertised job titles in the data field to determine which positions are currently most sought-after by employers.",
      "metadata": {
        "noteable": {
          "cell_type": "markdown"
        }
      }
    },
    {
      "id": "685d010d-046e-4c48-babf-e51a2e51efb4",
      "cell_type": "code",
      "metadata": {
        "noteable": {
          "cell_type": "python",
          "output_collection_id": "9ae4bfe1-c8b1-43d8-a5f4-b0c8eba5eb63"
        },
        "ExecuteTime": {
          "end_time": "2023-12-11T20:51:18.372368+00:00",
          "start_time": "2023-12-11T20:51:17.939977+00:00"
        },
        "datalink": {
          "f5dd7384-17f9-48c0-8651-d27c94e03aa1": {
            "applied_filters": [],
            "dataframe_info": {
              "default_index_used": false,
              "orig_num_cols": 1,
              "orig_num_rows": 11556,
              "orig_size_bytes": 184896,
              "truncated_num_cols": 1,
              "truncated_num_rows": 11556,
              "truncated_size_bytes": 184896,
              "truncated_string_columns": []
            },
            "display_id": "f5dd7384-17f9-48c0-8651-d27c94e03aa1",
            "dx_settings": {
              "ALLOW_NOTEABLE_ATTRS": true,
              "COLUMN_SAMPLING_METHOD": "outer",
              "DB_LOCATION": ":memory:",
              "DEV_MODE": false,
              "DISPLAY_MAX_COLUMNS": 100,
              "DISPLAY_MAX_ROWS": 50000,
              "DISPLAY_MODE": "simple",
              "ENABLE_ASSIGNMENT": true,
              "ENABLE_DATALINK": true,
              "FLATTEN_COLUMN_VALUES": true,
              "FLATTEN_INDEX_VALUES": false,
              "GENERATE_DEX_METADATA": false,
              "HTML_TABLE_SCHEMA": false,
              "LOG_LEVEL": 30,
              "MAX_RENDER_SIZE_BYTES": 104857600,
              "MAX_STRING_LENGTH": 250,
              "NUM_PAST_SAMPLES_TRACKED": 3,
              "RANDOM_STATE": 12648430,
              "RESET_INDEX_VALUES": false,
              "ROW_SAMPLING_METHOD": "random",
              "SAMPLING_FACTOR": 0.1,
              "SAMPLING_METHOD": "random",
              "STRINGIFY_COLUMN_VALUES": true,
              "STRINGIFY_INDEX_VALUES": false
            },
            "sample_history": [],
            "sampling_time": "2023-12-11T20:51:10.037251",
            "user_variable_name": null,
            "variable_name": "unk_dataframe_7eddc4f4bbb349aeb723a0f30f6eb10c"
          },
          "0ea30e27-ff5f-4b5c-8614-76001a0faeb0": {
            "applied_filters": [],
            "dataframe_info": {
              "default_index_used": false,
              "orig_num_cols": 1,
              "orig_num_rows": 10,
              "orig_size_bytes": 160,
              "truncated_num_cols": 1,
              "truncated_num_rows": 10,
              "truncated_size_bytes": 160,
              "truncated_string_columns": []
            },
            "display_id": "0ea30e27-ff5f-4b5c-8614-76001a0faeb0",
            "dx_settings": {
              "ALLOW_NOTEABLE_ATTRS": true,
              "COLUMN_SAMPLING_METHOD": "outer",
              "DB_LOCATION": ":memory:",
              "DEV_MODE": false,
              "DISPLAY_MAX_COLUMNS": 100,
              "DISPLAY_MAX_ROWS": 50000,
              "DISPLAY_MODE": "simple",
              "ENABLE_ASSIGNMENT": true,
              "ENABLE_DATALINK": true,
              "FLATTEN_COLUMN_VALUES": true,
              "FLATTEN_INDEX_VALUES": false,
              "GENERATE_DEX_METADATA": false,
              "HTML_TABLE_SCHEMA": false,
              "LOG_LEVEL": 30,
              "MAX_RENDER_SIZE_BYTES": 104857600,
              "MAX_STRING_LENGTH": 250,
              "NUM_PAST_SAMPLES_TRACKED": 3,
              "RANDOM_STATE": 12648430,
              "RESET_INDEX_VALUES": false,
              "ROW_SAMPLING_METHOD": "random",
              "SAMPLING_FACTOR": 0.1,
              "SAMPLING_METHOD": "random",
              "STRINGIFY_COLUMN_VALUES": true,
              "STRINGIFY_INDEX_VALUES": false
            },
            "sample_history": [],
            "sampling_time": "2023-12-11T20:51:18.212811",
            "user_variable_name": "title_counts",
            "variable_name": "title_counts"
          }
        },
        "dx": {
          "fieldMetadata": {},
          "simpleTable": true,
          "updated": 1702327885567,
          "views": []
        }
      },
      "execution_count": null,
      "source": "df['job_title'].value_counts().head(10)",
      "outputs": []
    },
    {
      "id": "7baccf2a-85de-42e3-a58c-04793ce3cef9",
      "cell_type": "code",
      "metadata": {
        "jupyter": {
          "outputs_hidden": false,
          "source_hidden": false
        },
        "noteable": {
          "cell_type": "code"
        }
      },
      "execution_count": null,
      "source": "import matplotlib.pyplot as plt\nimport seaborn as sns",
      "outputs": []
    },
    {
      "id": "ebe67413-06f6-4553-afc2-df501d46fc0c",
      "cell_type": "code",
      "metadata": {
        "noteable": {
          "cell_type": "code",
          "output_collection_id": "86b9bcec-36c0-44f0-94d0-45ad377a6760"
        },
        "ExecuteTime": {
          "end_time": "2023-12-11T21:46:35.967802+00:00",
          "start_time": "2023-12-11T21:46:35.529699+00:00"
        },
        "scrolled": false
      },
      "execution_count": null,
      "source": "title_counts = df['job_title'].value_counts().head(10)\n\nplt.figure(figsize=(12, 8))\n\nbarplot = sns.barplot(x=title_counts.values, y=title_counts.index,                            \npalette=sns.color_palette(\"coolwarm\", n_colors=10))\n\nplt.title('Top 10 Job Titles in Data Jobs')\nplt.xlabel('Number of Postings')\n\nplt.show()",
      "outputs": []
    },
    {
      "id": "5bedfee8-2763-4299-9bcf-1104fec4bebb",
      "cell_type": "markdown",
      "source": "## Leading Job Platforms for Data Careers: What are the Most Commonly Used Job Platforms?\nAnalyze which online platforms are most commonly used for posting data-related job vacancies, indicating where job seekers are most likely to find these opportunities.",
      "metadata": {
        "noteable": {
          "cell_type": "markdown"
        }
      }
    },
    {
      "id": "240b5890-af66-47e1-a41b-03f2e2bd185b",
      "cell_type": "code",
      "metadata": {
        "noteable": {
          "cell_type": "python",
          "output_collection_id": "afe024bc-1dab-4a4a-ab10-2337c22c678b"
        },
        "ExecuteTime": {
          "end_time": "2023-12-11T20:53:11.174761+00:00",
          "start_time": "2023-12-11T20:53:10.810990+00:00"
        },
        "datalink": {
          "e3239e66-db01-43ea-9073-f84f762e4ab9": {
            "applied_filters": [],
            "dataframe_info": {
              "default_index_used": false,
              "orig_num_cols": 1,
              "orig_num_rows": 577,
              "orig_size_bytes": 9232,
              "truncated_num_cols": 1,
              "truncated_num_rows": 577,
              "truncated_size_bytes": 9232,
              "truncated_string_columns": []
            },
            "display_id": "e3239e66-db01-43ea-9073-f84f762e4ab9",
            "dx_settings": {
              "ALLOW_NOTEABLE_ATTRS": true,
              "COLUMN_SAMPLING_METHOD": "outer",
              "DB_LOCATION": ":memory:",
              "DEV_MODE": false,
              "DISPLAY_MAX_COLUMNS": 100,
              "DISPLAY_MAX_ROWS": 50000,
              "DISPLAY_MODE": "simple",
              "ENABLE_ASSIGNMENT": true,
              "ENABLE_DATALINK": true,
              "FLATTEN_COLUMN_VALUES": true,
              "FLATTEN_INDEX_VALUES": false,
              "GENERATE_DEX_METADATA": false,
              "HTML_TABLE_SCHEMA": false,
              "LOG_LEVEL": 30,
              "MAX_RENDER_SIZE_BYTES": 104857600,
              "MAX_STRING_LENGTH": 250,
              "NUM_PAST_SAMPLES_TRACKED": 3,
              "RANDOM_STATE": 12648430,
              "RESET_INDEX_VALUES": false,
              "ROW_SAMPLING_METHOD": "random",
              "SAMPLING_FACTOR": 0.1,
              "SAMPLING_METHOD": "random",
              "STRINGIFY_COLUMN_VALUES": true,
              "STRINGIFY_INDEX_VALUES": false
            },
            "sample_history": [],
            "sampling_time": "2023-12-11T20:53:01.522422",
            "user_variable_name": null,
            "variable_name": "unk_dataframe_910e20f34aa34a17866d8938c490088e"
          },
          "26971632-1d5c-4090-936f-61e0cd285929": {
            "applied_filters": [],
            "dataframe_info": {
              "default_index_used": false,
              "orig_num_cols": 1,
              "orig_num_rows": 10,
              "orig_size_bytes": 160,
              "truncated_num_cols": 1,
              "truncated_num_rows": 10,
              "truncated_size_bytes": 160,
              "truncated_string_columns": []
            },
            "display_id": "26971632-1d5c-4090-936f-61e0cd285929",
            "dx_settings": {
              "ALLOW_NOTEABLE_ATTRS": true,
              "COLUMN_SAMPLING_METHOD": "outer",
              "DB_LOCATION": ":memory:",
              "DEV_MODE": false,
              "DISPLAY_MAX_COLUMNS": 100,
              "DISPLAY_MAX_ROWS": 50000,
              "DISPLAY_MODE": "simple",
              "ENABLE_ASSIGNMENT": true,
              "ENABLE_DATALINK": true,
              "FLATTEN_COLUMN_VALUES": true,
              "FLATTEN_INDEX_VALUES": false,
              "GENERATE_DEX_METADATA": false,
              "HTML_TABLE_SCHEMA": false,
              "LOG_LEVEL": 30,
              "MAX_RENDER_SIZE_BYTES": 104857600,
              "MAX_STRING_LENGTH": 250,
              "NUM_PAST_SAMPLES_TRACKED": 3,
              "RANDOM_STATE": 12648430,
              "RESET_INDEX_VALUES": false,
              "ROW_SAMPLING_METHOD": "random",
              "SAMPLING_FACTOR": 0.1,
              "SAMPLING_METHOD": "random",
              "STRINGIFY_COLUMN_VALUES": true,
              "STRINGIFY_INDEX_VALUES": false
            },
            "sample_history": [],
            "sampling_time": "2023-12-11T20:53:11.013351",
            "user_variable_name": "platform_counts",
            "variable_name": "platform_counts"
          }
        },
        "dx": {
          "dashboard": {
            "multiViews": []
          },
          "fieldMetadata": {},
          "simpleTable": true,
          "updated": 1702328004263,
          "views": [
            {
              "annotationRules": [],
              "chart": {},
              "chartMode": "grid",
              "confoRules": [],
              "decoration": {
                "footer": "",
                "subtitle": "",
                "title": "Table"
              },
              "facets": [],
              "filterSettings": {
                "SHOW_FILTER_PANEL": true,
                "filters": []
              },
              "id": "first-view",
              "isDefault": true,
              "type": "public",
              "userID": ""
            },
            {
              "annotationRules": [],
              "chart": {
                "tableSparklines": false
              },
              "chartMode": "grid",
              "confoRules": [],
              "decoration": {
                "footer": "",
                "subtitle": "",
                "title": "Table"
              },
              "facets": [],
              "filterSettings": {
                "SHOW_FILTER_PANEL": true,
                "filters": []
              },
              "id": "first-view",
              "isDefault": true,
              "isTransitory": true,
              "type": "public",
              "userID": ""
            }
          ]
        }
      },
      "execution_count": null,
      "source": "df['job_platform'].value_counts().head(10)",
      "outputs": []
    },
    {
      "id": "4cd29085-892d-4a80-9372-f2c5b680675c",
      "cell_type": "code",
      "metadata": {
        "noteable": {
          "cell_type": "code",
          "output_collection_id": "1c4ea230-51e1-4798-90aa-4bde573e89b5"
        },
        "ExecuteTime": {
          "end_time": "2023-12-11T21:45:39.526701+00:00",
          "start_time": "2023-12-11T21:45:39.119246+00:00"
        },
        "scrolled": false
      },
      "execution_count": null,
      "source": "platform_counts = df['job_platform'].value_counts().head(10)\n\npalette = sns.color_palette(\"Blues_r\", n_colors=12)\n\nplt.figure(figsize=(12, 8))\nbarplot = sns.barplot(x=platform_counts.values, y=platform_counts.index, palette=palette)\n\nplt.title('Top 10 Job Platforms in Data Jobs')\nplt.xlabel('Number of Postings')\n\nplt.show()",
      "outputs": []
    },
    {
      "id": "5ea80c17-c2b5-4646-95d1-12992d3be0aa",
      "cell_type": "markdown",
      "source": "## Essential Skills for Data Jobs: What are the Most On-Demand Skills in Data Jobs?\nExtract and prioritize the key skills and qualifications mentioned across job listings to highlight the most in-demand competencies for data professionals.",
      "metadata": {
        "noteable": {
          "cell_type": "markdown"
        }
      }
    },
    {
      "id": "1d45fcd2-8c37-4077-90f2-bdaa33e2d9aa",
      "cell_type": "code",
      "metadata": {
        "noteable": {
          "cell_type": "code",
          "output_collection_id": "ea6505de-923e-4ac1-b45d-a5e884d8551d"
        },
        "ExecuteTime": {
          "end_time": "2023-12-11T20:50:12.983184+00:00",
          "start_time": "2023-12-11T20:50:12.827625+00:00"
        }
      },
      "execution_count": null,
      "source": "df.rename(columns={'description_tokens': 'skills'}, inplace=True)",
      "outputs": []
    },
    {
      "id": "5ca763f3-b9db-47a8-b95a-60305804807a",
      "cell_type": "code",
      "metadata": {
        "noteable": {
          "cell_type": "code",
          "output_collection_id": "354ba25a-b995-47cf-937e-7f4c43f31b42"
        },
        "ExecuteTime": {
          "end_time": "2023-12-11T20:57:23.844330+00:00",
          "start_time": "2023-12-11T20:57:23.391873+00:00"
        }
      },
      "execution_count": null,
      "source": "# Finding the top 10 most frequent skills in 'skills' column\nfrom collections import Counter\nimport ast\n\n# Converting string representation of list to actual list\n# and then flattening the list of lists\nall_skills = [skill for sublist in df['skills'].dropna() for skill in ast.literal_eval(sublist)]\n\n# Counting the frequency of each skill\nskill_counts = Counter(all_skills)\n\n# Getting the top 10 most common skills\ntop_skills = skill_counts.most_common(10)\n\n# Displaying the top 10 skills\nfor skill, count in top_skills:\n    print(f\"{skill}: {count}\")",
      "outputs": []
    },
    {
      "id": "55f7ae54-aaa2-4a88-ad56-863aadb4f534",
      "cell_type": "markdown",
      "source": "### Most Popular Skills in Data Jobs",
      "metadata": {
        "noteable": {
          "cell_type": "markdown"
        }
      }
    },
    {
      "id": "c752b838-5b59-45ed-a9d7-612915b1e02b",
      "cell_type": "code",
      "metadata": {
        "noteable": {
          "cell_type": "code",
          "output_collection_id": "2aa54bbd-bb83-4100-b8ce-670a4023fe81"
        },
        "ExecuteTime": {
          "end_time": "2023-12-11T21:45:27.426341+00:00",
          "start_time": "2023-12-11T21:45:27.004609+00:00"
        },
        "scrolled": false
      },
      "execution_count": null,
      "source": "skills, counts = zip(*top_skills) # Extracting skills and their counts\n\nplt.figure(figsize=(12, 8))\nbarplot = sns.barplot(x=list(counts), y=list(skills), palette=sns.color_palette(\"rocket\", 10))\n\nplt.title('Top 10 Most Frequent Skills in Data Jobs')\nplt.xlabel('Frequency')\n\nplt.show()",
      "outputs": []
    },
    {
      "id": "ef5b2791-8953-45fd-8dbd-32c85f4d9238",
      "cell_type": "markdown",
      "source": "### Most Popular Skills in Data Jobs as Percentage",
      "metadata": {
        "noteable": {
          "cell_type": "markdown"
        }
      }
    },
    {
      "id": "71063648-8e64-43c5-a253-e0793ab2b36f",
      "cell_type": "code",
      "metadata": {
        "noteable": {
          "cell_type": "code",
          "output_collection_id": "7f9e2127-edb8-4513-b09f-f2a6274f39ef"
        },
        "ExecuteTime": {
          "end_time": "2023-12-11T22:10:04.383526+00:00",
          "start_time": "2023-12-11T22:10:03.920235+00:00"
        },
        "scrolled": false
      },
      "execution_count": null,
      "source": "total_rows = len(df)\n\n# Calculating the percentage for each of the top 10 skills\nskill_percentages = [(skill, (sum(skill in skills for skills in skill_lists) / total_rows) * 100) for skill, _ in top_skills]\nsorted_skills = sorted(skill_percentages, key=lambda x: x[1], reverse=True)\n\nskills, percentages = zip(*sorted_skills) # Extracting sorted skill names and percentages\n\nplt.figure(figsize=(12, 8))\nbarplot = sns.barplot(x=list(percentages), y=list(skills), palette=sns.color_palette(\"Paired\", 10))\nplt.title('Frequency of Top 10 Skills in Data Job Listings')\nplt.xlabel('Percentage')\n\nplt.show()",
      "outputs": []
    },
    {
      "id": "1d82e87b-eb2f-4129-b3e9-57440bd6e7c1",
      "cell_type": "markdown",
      "source": "### Most Popular Skills in Data Jobs as Percentage Relative to Total Number of Skills",
      "metadata": {
        "noteable": {
          "cell_type": "markdown"
        }
      }
    },
    {
      "id": "97e3d200-e94a-47a4-9d57-8c3ee1d7dfda",
      "cell_type": "code",
      "metadata": {
        "noteable": {
          "cell_type": "python",
          "output_collection_id": "ed420082-1af8-441b-ae3b-56f92d698620"
        },
        "ExecuteTime": {
          "end_time": "2023-12-11T23:35:21.214482+00:00",
          "start_time": "2023-12-11T23:35:20.845098+00:00"
        }
      },
      "execution_count": null,
      "source": "total_skills = sum(skill_counts.values())\n\n# Calculating the percentage for each skill\npercentages = [(count / total_skills) * 100 for skill, count in top_skills]\n\n# Extracting skill names\nskills = [skill for skill, count in top_skills]\n\nplt.figure(figsize=(12, 8))\nbarplot = sns.barplot(x=percentages, y=skills, palette=sns.color_palette(\"Greens_r\", 10))\nplt.title('Top 10 Most Frequent Skills by Percentage')\nplt.xlabel('Percentage')\n\nplt.show()\n",
      "outputs": []
    },
    {
      "id": "89b47ce6-a584-4e7e-a53b-85a664cdcdb2",
      "cell_type": "markdown",
      "source": "## Comparing Salaries Across Data Roles\nA comparative analysis of salary offerings for different data-related job titles to understand compensation trends in the field.",
      "metadata": {
        "noteable": {
          "cell_type": "markdown"
        }
      }
    },
    {
      "id": "d28bb778-f69c-460d-84a7-b31fa934230f",
      "cell_type": "markdown",
      "source": "### Average Salaries Data Analyst, Data Scientist, Business Analyst and Data Engineer Roles",
      "metadata": {
        "noteable": {
          "cell_type": "markdown"
        }
      }
    },
    {
      "id": "bec3bfeb-ad1e-4ce4-af55-f676a929ce48",
      "cell_type": "code",
      "metadata": {
        "noteable": {
          "cell_type": "code",
          "output_collection_id": "2608042c-a35b-47e1-a26b-6ae31abcbb35"
        },
        "ExecuteTime": {
          "end_time": "2023-12-12T17:56:39.531138+00:00",
          "start_time": "2023-12-12T17:56:39.090213+00:00"
        },
        "datalink": {
          "61f3f771-5e1c-4cb9-b90b-4f6f000b9c28": {
            "applied_filters": [],
            "dataframe_info": {
              "default_index_used": false,
              "orig_num_cols": 1,
              "orig_num_rows": 3,
              "orig_size_bytes": 48,
              "truncated_num_cols": 1,
              "truncated_num_rows": 3,
              "truncated_size_bytes": 48,
              "truncated_string_columns": []
            },
            "display_id": "61f3f771-5e1c-4cb9-b90b-4f6f000b9c28",
            "dx_settings": {
              "ALLOW_NOTEABLE_ATTRS": true,
              "COLUMN_SAMPLING_METHOD": "outer",
              "DB_LOCATION": ":memory:",
              "DEV_MODE": false,
              "DISPLAY_MAX_COLUMNS": 100,
              "DISPLAY_MAX_ROWS": 50000,
              "DISPLAY_MODE": "simple",
              "ENABLE_ASSIGNMENT": true,
              "ENABLE_DATALINK": true,
              "FLATTEN_COLUMN_VALUES": true,
              "FLATTEN_INDEX_VALUES": false,
              "GENERATE_DEX_METADATA": false,
              "HTML_TABLE_SCHEMA": false,
              "LOG_LEVEL": 30,
              "MAX_RENDER_SIZE_BYTES": 104857600,
              "MAX_STRING_LENGTH": 250,
              "NUM_PAST_SAMPLES_TRACKED": 3,
              "RANDOM_STATE": 12648430,
              "RESET_INDEX_VALUES": false,
              "ROW_SAMPLING_METHOD": "random",
              "SAMPLING_FACTOR": 0.1,
              "SAMPLING_METHOD": "random",
              "STRINGIFY_COLUMN_VALUES": true,
              "STRINGIFY_INDEX_VALUES": false
            },
            "sample_history": [],
            "sampling_time": "2023-12-12T17:47:03.037475",
            "user_variable_name": "avg_salaries",
            "variable_name": "avg_salaries"
          },
          "f5fb14e1-55a1-46f9-8fa3-e36008f13b84": {
            "applied_filters": [],
            "dataframe_info": {
              "default_index_used": false,
              "orig_num_cols": 1,
              "orig_num_rows": 4,
              "orig_size_bytes": 64,
              "truncated_num_cols": 1,
              "truncated_num_rows": 4,
              "truncated_size_bytes": 64,
              "truncated_string_columns": []
            },
            "display_id": "f5fb14e1-55a1-46f9-8fa3-e36008f13b84",
            "dx_settings": {
              "ALLOW_NOTEABLE_ATTRS": true,
              "COLUMN_SAMPLING_METHOD": "outer",
              "DB_LOCATION": ":memory:",
              "DEV_MODE": false,
              "DISPLAY_MAX_COLUMNS": 100,
              "DISPLAY_MAX_ROWS": 50000,
              "DISPLAY_MODE": "simple",
              "ENABLE_ASSIGNMENT": true,
              "ENABLE_DATALINK": true,
              "FLATTEN_COLUMN_VALUES": true,
              "FLATTEN_INDEX_VALUES": false,
              "GENERATE_DEX_METADATA": false,
              "HTML_TABLE_SCHEMA": false,
              "LOG_LEVEL": 30,
              "MAX_RENDER_SIZE_BYTES": 104857600,
              "MAX_STRING_LENGTH": 250,
              "NUM_PAST_SAMPLES_TRACKED": 3,
              "RANDOM_STATE": 12648430,
              "RESET_INDEX_VALUES": false,
              "ROW_SAMPLING_METHOD": "random",
              "SAMPLING_FACTOR": 0.1,
              "SAMPLING_METHOD": "random",
              "STRINGIFY_COLUMN_VALUES": true,
              "STRINGIFY_INDEX_VALUES": false
            },
            "sample_history": [],
            "sampling_time": "2023-12-12T17:56:39.373380",
            "user_variable_name": "avg_salaries",
            "variable_name": "avg_salaries"
          }
        },
        "jupyter": {
          "outputs_hidden": true
        }
      },
      "execution_count": null,
      "source": "selected_titles = ['Data Analyst', 'Data Scientist', 'Data Engineer', 'Business Analyst']\navg_salaries = df[df['job_title'].isin(selected_titles)].groupby('job_title')['salary_standardized'].mean().sort_values(ascending=False)\navg_salaries",
      "outputs": []
    },
    {
      "id": "94910804-1ab3-49a0-93cd-ca3f590390b8",
      "cell_type": "code",
      "metadata": {
        "noteable": {
          "cell_type": "code",
          "output_collection_id": "06acdaf7-c087-4437-a140-49af4f0f5363"
        },
        "ExecuteTime": {
          "end_time": "2023-12-12T17:56:41.783626+00:00",
          "start_time": "2023-12-12T17:56:41.438677+00:00"
        }
      },
      "execution_count": null,
      "source": "plt.figure(figsize=(12, 8))\nbarplot = sns.barplot(x=avg_salaries.values, y=avg_salaries.index, color='#005b96')\nplt.title('Average Salaries for Data Analyst, Data Scientist, Data Engineer and Business Analyst')\nplt.xlabel('Average Salary (USD)')\n\nplt.show()",
      "outputs": []
    },
    {
      "id": "131b8b10-2d5c-4751-97de-84a89021cf4d",
      "cell_type": "markdown",
      "source": "### Average Salaries for Senior Data Job Titles",
      "metadata": {
        "noteable": {
          "cell_type": "markdown"
        }
      }
    },
    {
      "id": "a9c7226c-0220-4627-93cc-a49b7049f578",
      "cell_type": "code",
      "metadata": {
        "noteable": {
          "cell_type": "code",
          "output_collection_id": "7c56c32c-f1ef-4cd1-90cc-73492ffaa6ee"
        },
        "ExecuteTime": {
          "end_time": "2023-12-12T17:58:07.264417+00:00",
          "start_time": "2023-12-12T17:58:06.924003+00:00"
        },
        "datalink": {
          "c6170850-61a2-4907-9925-bc159eba97c8": {
            "applied_filters": [],
            "dataframe_info": {
              "default_index_used": false,
              "orig_num_cols": 1,
              "orig_num_rows": 3,
              "orig_size_bytes": 48,
              "truncated_num_cols": 1,
              "truncated_num_rows": 3,
              "truncated_size_bytes": 48,
              "truncated_string_columns": []
            },
            "display_id": "c6170850-61a2-4907-9925-bc159eba97c8",
            "dx_settings": {
              "ALLOW_NOTEABLE_ATTRS": true,
              "COLUMN_SAMPLING_METHOD": "outer",
              "DB_LOCATION": ":memory:",
              "DEV_MODE": false,
              "DISPLAY_MAX_COLUMNS": 100,
              "DISPLAY_MAX_ROWS": 50000,
              "DISPLAY_MODE": "simple",
              "ENABLE_ASSIGNMENT": true,
              "ENABLE_DATALINK": true,
              "FLATTEN_COLUMN_VALUES": true,
              "FLATTEN_INDEX_VALUES": false,
              "GENERATE_DEX_METADATA": false,
              "HTML_TABLE_SCHEMA": false,
              "LOG_LEVEL": 30,
              "MAX_RENDER_SIZE_BYTES": 104857600,
              "MAX_STRING_LENGTH": 250,
              "NUM_PAST_SAMPLES_TRACKED": 3,
              "RANDOM_STATE": 12648430,
              "RESET_INDEX_VALUES": false,
              "ROW_SAMPLING_METHOD": "random",
              "SAMPLING_FACTOR": 0.1,
              "SAMPLING_METHOD": "random",
              "STRINGIFY_COLUMN_VALUES": true,
              "STRINGIFY_INDEX_VALUES": false
            },
            "sample_history": [],
            "sampling_time": "2023-12-12T17:53:21.307033",
            "user_variable_name": "senior_avg_salaries",
            "variable_name": "senior_avg_salaries"
          },
          "892e6fbd-9425-43b4-89b5-fcfd06fa5c8c": {
            "applied_filters": [],
            "dataframe_info": {
              "default_index_used": false,
              "orig_num_cols": 1,
              "orig_num_rows": 4,
              "orig_size_bytes": 64,
              "truncated_num_cols": 1,
              "truncated_num_rows": 4,
              "truncated_size_bytes": 64,
              "truncated_string_columns": []
            },
            "display_id": "892e6fbd-9425-43b4-89b5-fcfd06fa5c8c",
            "dx_settings": {
              "ALLOW_NOTEABLE_ATTRS": true,
              "COLUMN_SAMPLING_METHOD": "outer",
              "DB_LOCATION": ":memory:",
              "DEV_MODE": false,
              "DISPLAY_MAX_COLUMNS": 100,
              "DISPLAY_MAX_ROWS": 50000,
              "DISPLAY_MODE": "simple",
              "ENABLE_ASSIGNMENT": true,
              "ENABLE_DATALINK": true,
              "FLATTEN_COLUMN_VALUES": true,
              "FLATTEN_INDEX_VALUES": false,
              "GENERATE_DEX_METADATA": false,
              "HTML_TABLE_SCHEMA": false,
              "LOG_LEVEL": 30,
              "MAX_RENDER_SIZE_BYTES": 104857600,
              "MAX_STRING_LENGTH": 250,
              "NUM_PAST_SAMPLES_TRACKED": 3,
              "RANDOM_STATE": 12648430,
              "RESET_INDEX_VALUES": false,
              "ROW_SAMPLING_METHOD": "random",
              "SAMPLING_FACTOR": 0.1,
              "SAMPLING_METHOD": "random",
              "STRINGIFY_COLUMN_VALUES": true,
              "STRINGIFY_INDEX_VALUES": false
            },
            "sample_history": [],
            "sampling_time": "2023-12-12T17:58:07.106359",
            "user_variable_name": "senior_avg_salaries",
            "variable_name": "senior_avg_salaries"
          }
        },
        "jupyter": {
          "outputs_hidden": true
        }
      },
      "execution_count": null,
      "source": "senior_titles = ['Senior Data Analyst', 'Senior Data Scientist', 'Senior Data Engineer', 'Senior Business Analyst']\nsenior_avg_salaries = df[df['job_title'].isin(senior_titles)].groupby('job_title')['salary_standardized'].mean().sort_values(ascending=False)\nsenior_avg_salaries",
      "outputs": []
    },
    {
      "id": "da371b8a-41c3-4614-b209-0f14950ea5a8",
      "cell_type": "code",
      "metadata": {
        "noteable": {
          "cell_type": "code",
          "output_collection_id": "e0a8d8e6-4bba-4678-912b-16b1efa5c8e4"
        },
        "ExecuteTime": {
          "end_time": "2023-12-12T17:58:08.996104+00:00",
          "start_time": "2023-12-12T17:58:08.628969+00:00"
        }
      },
      "execution_count": null,
      "source": "plt.figure(figsize=(10, 6))\nbarplot = sns.barplot(x=senior_avg_salaries.values, y=senior_avg_salaries.index, color='#005b96')\nplt.title('Average Salaries for Senior Data Analyst, Senior Data Scientist, Senior Data Engineer and Senior Business Analyst')\nplt.xlabel('Average Salary (USD)')\nplt.ylabel('Job Title')\nplt.show()",
      "outputs": []
    }
  ]
}