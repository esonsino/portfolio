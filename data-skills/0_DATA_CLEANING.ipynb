{
 "cells": [
  {
   "cell_type": "markdown",
   "id": "a47f9bfc",
   "metadata": {},
   "source": [
    "# DATA CLEANING\n",
    "- Table Overview\n",
    "- Renaming Columns\n",
    "- Identifying Missing Values\n",
    "- Scanning for Duplicate Values\n",
    "- Data Integrity Check\n",
    "- Unpacking the Skills From 'keywords_all' Column"
   ]
  },
  {
   "cell_type": "code",
   "execution_count": 1,
   "id": "551a4066",
   "metadata": {},
   "outputs": [],
   "source": [
    "import pandas as pd\n",
    "import seaborn as sns\n",
    "import matplotlib.pyplot as plt"
   ]
  },
  {
   "cell_type": "code",
   "execution_count": 2,
   "id": "bd61d878",
   "metadata": {},
   "outputs": [],
   "source": [
    "df = pd.read_csv('./data/data_jobs.csv')"
   ]
  },
  {
   "cell_type": "code",
   "execution_count": 19,
   "id": "b2deb260",
   "metadata": {},
   "outputs": [
    {
     "data": {
      "text/html": [
       "<div>\n",
       "<style scoped>\n",
       "    .dataframe tbody tr th:only-of-type {\n",
       "        vertical-align: middle;\n",
       "    }\n",
       "\n",
       "    .dataframe tbody tr th {\n",
       "        vertical-align: top;\n",
       "    }\n",
       "\n",
       "    .dataframe thead th {\n",
       "        text-align: right;\n",
       "    }\n",
       "</style>\n",
       "<table border=\"1\" class=\"dataframe\">\n",
       "  <thead>\n",
       "    <tr style=\"text-align: right;\">\n",
       "      <th></th>\n",
       "      <th>job_title_final</th>\n",
       "      <th>search_country</th>\n",
       "      <th>keywords_all</th>\n",
       "      <th>salary_year</th>\n",
       "      <th>job_via</th>\n",
       "    </tr>\n",
       "  </thead>\n",
       "  <tbody>\n",
       "    <tr>\n",
       "      <th>0</th>\n",
       "      <td>Senior Data Engineer</td>\n",
       "      <td>United States</td>\n",
       "      <td>{'list': [{'element': 'aws'}, {'element': 'spa...</td>\n",
       "      <td>NaN</td>\n",
       "      <td>KHON2 Jobs</td>\n",
       "    </tr>\n",
       "    <tr>\n",
       "      <th>1</th>\n",
       "      <td>Data Scientist</td>\n",
       "      <td>United States</td>\n",
       "      <td>{'list': [{'element': 'python'}, {'element': '...</td>\n",
       "      <td>NaN</td>\n",
       "      <td>ViewAndApply</td>\n",
       "    </tr>\n",
       "    <tr>\n",
       "      <th>2</th>\n",
       "      <td>Data Scientist</td>\n",
       "      <td>Germany</td>\n",
       "      <td>{'list': [{'element': 'r'}, {'element': 'pytho...</td>\n",
       "      <td>NaN</td>\n",
       "      <td>Your Basin Jobs</td>\n",
       "    </tr>\n",
       "    <tr>\n",
       "      <th>3</th>\n",
       "      <td>Data Analyst</td>\n",
       "      <td>United States</td>\n",
       "      <td>{'list': [{'element': 'sql'}, {'element': 'pyt...</td>\n",
       "      <td>NaN</td>\n",
       "      <td>Jora</td>\n",
       "    </tr>\n",
       "    <tr>\n",
       "      <th>4</th>\n",
       "      <td>Data Analyst</td>\n",
       "      <td>United States</td>\n",
       "      <td>{'list': [{'element': 'cobol'}, {'element': 'v...</td>\n",
       "      <td>NaN</td>\n",
       "      <td>DisABLEDperson.com</td>\n",
       "    </tr>\n",
       "    <tr>\n",
       "      <th>...</th>\n",
       "      <td>...</td>\n",
       "      <td>...</td>\n",
       "      <td>...</td>\n",
       "      <td>...</td>\n",
       "      <td>...</td>\n",
       "    </tr>\n",
       "    <tr>\n",
       "      <th>531102</th>\n",
       "      <td>Software Engineer</td>\n",
       "      <td>France</td>\n",
       "      <td>{'list': [{'element': 'c++'}, {'element': 'pyt...</td>\n",
       "      <td>NaN</td>\n",
       "      <td>Emplois Trabajo.org</td>\n",
       "    </tr>\n",
       "    <tr>\n",
       "      <th>531103</th>\n",
       "      <td>Data Analyst</td>\n",
       "      <td>France</td>\n",
       "      <td>{'list': [{'element': 'excel'}]}</td>\n",
       "      <td>NaN</td>\n",
       "      <td>Emplois Trabajo.org</td>\n",
       "    </tr>\n",
       "    <tr>\n",
       "      <th>531104</th>\n",
       "      <td>Data Analyst</td>\n",
       "      <td>France</td>\n",
       "      <td>{'list': [{'element': 'vba'}, {'element': 'pow...</td>\n",
       "      <td>NaN</td>\n",
       "      <td>Emplois Trabajo.org</td>\n",
       "    </tr>\n",
       "    <tr>\n",
       "      <th>531105</th>\n",
       "      <td>Data Analyst</td>\n",
       "      <td>France</td>\n",
       "      <td>{'list': [{'element': 'excel'}, {'element': 't...</td>\n",
       "      <td>NaN</td>\n",
       "      <td>Emplois Trabajo.org</td>\n",
       "    </tr>\n",
       "    <tr>\n",
       "      <th>531106</th>\n",
       "      <td>Data Analyst</td>\n",
       "      <td>France</td>\n",
       "      <td>{'list': [{'element': 'python'}, {'element': '...</td>\n",
       "      <td>NaN</td>\n",
       "      <td>Emplois Trabajo.org</td>\n",
       "    </tr>\n",
       "  </tbody>\n",
       "</table>\n",
       "<p>531107 rows × 5 columns</p>\n",
       "</div>"
      ],
      "text/plain": [
       "             job_title_final search_country  \\\n",
       "0       Senior Data Engineer  United States   \n",
       "1             Data Scientist  United States   \n",
       "2             Data Scientist        Germany   \n",
       "3               Data Analyst  United States   \n",
       "4               Data Analyst  United States   \n",
       "...                      ...            ...   \n",
       "531102     Software Engineer         France   \n",
       "531103          Data Analyst         France   \n",
       "531104          Data Analyst         France   \n",
       "531105          Data Analyst         France   \n",
       "531106          Data Analyst         France   \n",
       "\n",
       "                                             keywords_all  salary_year  \\\n",
       "0       {'list': [{'element': 'aws'}, {'element': 'spa...          NaN   \n",
       "1       {'list': [{'element': 'python'}, {'element': '...          NaN   \n",
       "2       {'list': [{'element': 'r'}, {'element': 'pytho...          NaN   \n",
       "3       {'list': [{'element': 'sql'}, {'element': 'pyt...          NaN   \n",
       "4       {'list': [{'element': 'cobol'}, {'element': 'v...          NaN   \n",
       "...                                                   ...          ...   \n",
       "531102  {'list': [{'element': 'c++'}, {'element': 'pyt...          NaN   \n",
       "531103                   {'list': [{'element': 'excel'}]}          NaN   \n",
       "531104  {'list': [{'element': 'vba'}, {'element': 'pow...          NaN   \n",
       "531105  {'list': [{'element': 'excel'}, {'element': 't...          NaN   \n",
       "531106  {'list': [{'element': 'python'}, {'element': '...          NaN   \n",
       "\n",
       "                    job_via  \n",
       "0                KHON2 Jobs  \n",
       "1              ViewAndApply  \n",
       "2           Your Basin Jobs  \n",
       "3                      Jora  \n",
       "4        DisABLEDperson.com  \n",
       "...                     ...  \n",
       "531102  Emplois Trabajo.org  \n",
       "531103  Emplois Trabajo.org  \n",
       "531104  Emplois Trabajo.org  \n",
       "531105  Emplois Trabajo.org  \n",
       "531106  Emplois Trabajo.org  \n",
       "\n",
       "[531107 rows x 5 columns]"
      ]
     },
     "execution_count": 19,
     "metadata": {},
     "output_type": "execute_result"
    }
   ],
   "source": [
    "df"
   ]
  },
  {
   "cell_type": "markdown",
   "id": "48851444",
   "metadata": {},
   "source": [
    "## Table Overview\n",
    "Conducting a comprehensive review of the dataset to gain an initial understanding of its structure, content, and format."
   ]
  },
  {
   "cell_type": "code",
   "execution_count": 16,
   "id": "525f47af",
   "metadata": {},
   "outputs": [
    {
     "name": "stdout",
     "output_type": "stream",
     "text": [
      "<class 'pandas.core.frame.DataFrame'>\n",
      "RangeIndex: 531107 entries, 0 to 531106\n",
      "Data columns (total 5 columns):\n",
      " #   Column           Non-Null Count   Dtype  \n",
      "---  ------           --------------   -----  \n",
      " 0   job_title_final  531107 non-null  object \n",
      " 1   search_country   531107 non-null  object \n",
      " 2   keywords_all     464773 non-null  object \n",
      " 3   salary_year      22653 non-null   float64\n",
      " 4   job_via          531093 non-null  object \n",
      "dtypes: float64(1), object(4)\n",
      "memory usage: 20.3+ MB\n"
     ]
    }
   ],
   "source": [
    "df.info()"
   ]
  },
  {
   "cell_type": "markdown",
   "id": "225daff1",
   "metadata": {},
   "source": [
    "## Renaming Columns\n",
    "Renaming columns for simplicity and for clarity.  "
   ]
  },
  {
   "cell_type": "code",
   "execution_count": 21,
   "id": "d917cb1f",
   "metadata": {},
   "outputs": [
    {
     "data": {
      "text/plain": [
       "Index(['job_title_final', 'search_country', 'keywords_all', 'salary_year',\n",
       "       'job_via'],\n",
       "      dtype='object')"
      ]
     },
     "execution_count": 21,
     "metadata": {},
     "output_type": "execute_result"
    }
   ],
   "source": [
    "df.columns"
   ]
  },
  {
   "cell_type": "code",
   "execution_count": 3,
   "id": "9db0d388",
   "metadata": {},
   "outputs": [],
   "source": [
    "df.rename(columns={\n",
    "    'job_title_final': 'job_title', \n",
    "    'search_country': 'country', \n",
    "    'keywords_all': 'skill', \n",
    "    'salary_year': 'salary', \n",
    "    'job_via': 'job_platform'\n",
    "}, inplace=True)"
   ]
  },
  {
   "cell_type": "markdown",
   "id": "f113142b",
   "metadata": {},
   "source": [
    "## Identifying Missing Values\n",
    "Understanding and quantifying data points that are absen in the dataset."
   ]
  },
  {
   "cell_type": "code",
   "execution_count": 23,
   "id": "90988086",
   "metadata": {
    "scrolled": false
   },
   "outputs": [
    {
     "data": {
      "image/png": "[encoded data removed]",
      "text/plain": [
       "<Figure size 1000x600 with 1 Axes>"
      ]
     },
     "metadata": {},
     "output_type": "display_data"
    }
   ],
   "source": [
    "# Heatmap of null values\n",
    "plt.figure(figsize=(10, 6))\n",
    "sns.heatmap(df.isnull(), cbar=False, cmap='viridis')\n",
    "plt.title('Heatmap of Missing Values')\n",
    "plt.show()\n",
    "## Most of the salary information is missing. There are significant amount of null values under Keywords (skills) as well."
   ]
  },
  {
   "cell_type": "code",
   "execution_count": 28,
   "id": "8372ade6",
   "metadata": {
    "scrolled": true
   },
   "outputs": [
    {
     "name": "stdout",
     "output_type": "stream",
     "text": [
      "Total number of missing values by column:\n"
     ]
    },
    {
     "data": {
      "text/plain": [
       "job_title            0\n",
       "country              0\n",
       "skill                0\n",
       "salary          443938\n",
       "job_platform        14\n",
       "dtype: int64"
      ]
     },
     "execution_count": 28,
     "metadata": {},
     "output_type": "execute_result"
    }
   ],
   "source": [
    "# Counting the total number of null values in each column\n",
    "null_counts = df.isnull().sum()\n",
    "print('Total number of missing values by column:')\n",
    "null_counts\n",
    "## Null values under the 'salary' column will remain since they have no part in skills analysis"
   ]
  },
  {
   "cell_type": "code",
   "execution_count": 4,
   "id": "ae58691b",
   "metadata": {},
   "outputs": [],
   "source": [
    "# Dropping the missing values under the 'skill' column\n",
    "df.dropna(subset=['skill'], inplace=True)"
   ]
  },
  {
   "cell_type": "markdown",
   "id": "1cd780da",
   "metadata": {},
   "source": [
    "## Scanning for Duplicate Values\n",
    "Duplicate rows will be retained in the dataset since there's no unique identifier available. It's very possible for job titles in the same country to share identical required skills, salary ranges, and job advertising platforms."
   ]
  },
  {
   "cell_type": "code",
   "execution_count": 29,
   "id": "1b95c3c3",
   "metadata": {
    "scrolled": true
   },
   "outputs": [
    {
     "data": {
      "text/plain": [
       "181863"
      ]
     },
     "execution_count": 29,
     "metadata": {},
     "output_type": "execute_result"
    }
   ],
   "source": [
    "df.duplicated().sum()"
   ]
  },
  {
   "cell_type": "markdown",
   "id": "363fdc61",
   "metadata": {},
   "source": [
    "## Data Integrity Check\n",
    "- Understanding how much removing the missing values have affected the dataset.\n",
    "- Making sure there are no unwanted spaces, characters or words in our dataset"
   ]
  },
  {
   "cell_type": "code",
   "execution_count": 36,
   "id": "04386d59",
   "metadata": {},
   "outputs": [],
   "source": [
    "df2 = pd.read_csv('./data/data_jobs.csv')"
   ]
  },
  {
   "cell_type": "code",
   "execution_count": 30,
   "id": "5e82c01d",
   "metadata": {
    "scrolled": true
   },
   "outputs": [
    {
     "data": {
      "text/plain": [
       "job_title\n",
       "Data Analyst                 122051\n",
       "Data Scientist               121911\n",
       "Data Engineer                112251\n",
       "Senior Data Engineer          29436\n",
       "Senior Data Scientist         27903\n",
       "Senior Data Analyst           23624\n",
       "Business Analyst              13605\n",
       "Software Engineer              8180\n",
       "Machine Learning Engineer      3849\n",
       "Cloud Engineer                 1963\n",
       "Name: count, dtype: int64"
      ]
     },
     "execution_count": 30,
     "metadata": {},
     "output_type": "execute_result"
    }
   ],
   "source": [
    "df['job_title'].value_counts()"
   ]
  },
  {
   "cell_type": "code",
   "execution_count": 38,
   "id": "3213d321",
   "metadata": {},
   "outputs": [
    {
     "data": {
      "text/plain": [
       "job_title_final\n",
       "Data Analyst                 146767\n",
       "Data Scientist               140674\n",
       "Data Engineer                122239\n",
       "Senior Data Engineer          30962\n",
       "Senior Data Scientist         30926\n",
       "Senior Data Analyst           26423\n",
       "Business Analyst              16788\n",
       "Software Engineer              9425\n",
       "Machine Learning Engineer      4323\n",
       "Cloud Engineer                 2580\n",
       "Name: count, dtype: int64"
      ]
     },
     "execution_count": 38,
     "metadata": {},
     "output_type": "execute_result"
    }
   ],
   "source": [
    "# Comparing job titles with the original dataset\n",
    "df2['job_title_final'].value_counts()"
   ]
  },
  {
   "cell_type": "code",
   "execution_count": 31,
   "id": "a1e7f024",
   "metadata": {
    "scrolled": false
   },
   "outputs": [
    {
     "data": {
      "text/plain": [
       "country\n",
       "United States     260923\n",
       "India              50719\n",
       "France             40783\n",
       "United Kingdom     40509\n",
       "Germany            28656\n",
       "Singapore          22371\n",
       "Netherlands        20812\n",
       "Name: count, dtype: int64"
      ]
     },
     "execution_count": 31,
     "metadata": {},
     "output_type": "execute_result"
    }
   ],
   "source": [
    "df['country'].value_counts()"
   ]
  },
  {
   "cell_type": "code",
   "execution_count": 40,
   "id": "7c787b10",
   "metadata": {},
   "outputs": [
    {
     "data": {
      "text/plain": [
       "search_country\n",
       "United States     291468\n",
       "India              56730\n",
       "France             48964\n",
       "United Kingdom     48265\n",
       "Germany            35777\n",
       "Singapore          25338\n",
       "Netherlands        24565\n",
       "Name: count, dtype: int64"
      ]
     },
     "execution_count": 40,
     "metadata": {},
     "output_type": "execute_result"
    }
   ],
   "source": [
    "# Comparing countries with the original dataset\n",
    "df2['search_country'].value_counts()"
   ]
  },
  {
   "cell_type": "code",
   "execution_count": 35,
   "id": "4efa0a96",
   "metadata": {},
   "outputs": [
    {
     "data": {
      "text/plain": [
       "job_platform\n",
       "LinkedIn             121690\n",
       "BeBee                 48370\n",
       "Indeed                28170\n",
       "Trabajo.org           22126\n",
       "Recruit.net           17946\n",
       "ZipRecruiter          17373\n",
       "Snagajob              13834\n",
       "BeBee India            8908\n",
       "BeBee Singapore        6976\n",
       "Monster                6075\n",
       "My ArkLaMiss Jobs      5288\n",
       "SimplyHired            4961\n",
       "Adzuna                 4896\n",
       "WJHL Jobs              4706\n",
       "Dice                   4478\n",
       "Jobs Trabajo.org       4450\n",
       "BeBee Nederland        4204\n",
       "The Muse               4037\n",
       "Nexxt                  3936\n",
       "Jobijoba               3857\n",
       "Name: count, dtype: int64"
      ]
     },
     "execution_count": 35,
     "metadata": {},
     "output_type": "execute_result"
    }
   ],
   "source": [
    "df['job_platform'].value_counts().head(20)"
   ]
  },
  {
   "cell_type": "code",
   "execution_count": 42,
   "id": "3618c295",
   "metadata": {
    "scrolled": false
   },
   "outputs": [
    {
     "data": {
      "text/plain": [
       "job_via\n",
       "LinkedIn             132657\n",
       "BeBee                 58596\n",
       "Indeed                31210\n",
       "Trabajo.org           26489\n",
       "Recruit.net           20664\n",
       "ZipRecruiter          19934\n",
       "Snagajob              15337\n",
       "BeBee India            9984\n",
       "BeBee Singapore        8030\n",
       "Monster                6411\n",
       "My ArkLaMiss Jobs      6226\n",
       "Adzuna                 6122\n",
       "WJHL Jobs              5617\n",
       "Jobs Trabajo.org       5397\n",
       "SimplyHired            5385\n",
       "Jobijoba               5017\n",
       "Dice                   4881\n",
       "BeBee Nederland        4879\n",
       "Nexxt                  4378\n",
       "The Muse               4341\n",
       "Name: count, dtype: int64"
      ]
     },
     "execution_count": 42,
     "metadata": {},
     "output_type": "execute_result"
    }
   ],
   "source": [
    "# Comparing job platforms with the original dataset\n",
    "df2['job_via'].value_counts().head(20)"
   ]
  },
  {
   "cell_type": "code",
   "execution_count": 48,
   "id": "dffebc20",
   "metadata": {},
   "outputs": [],
   "source": [
    "## It appears that the removal of the missing 'skill' values were evenly distributed among the dataset"
   ]
  },
  {
   "cell_type": "markdown",
   "id": "226e1557",
   "metadata": {},
   "source": [
    "## Unpacking the Skills\n",
    "It seems that the skills are stored in a structured format, each as a list of elements. They need to be unpacked in order to do any analysis with them."
   ]
  },
  {
   "cell_type": "code",
   "execution_count": 6,
   "id": "41dca8ef",
   "metadata": {},
   "outputs": [
    {
     "data": {
      "text/html": [
       "<div>\n",
       "<style scoped>\n",
       "    .dataframe tbody tr th:only-of-type {\n",
       "        vertical-align: middle;\n",
       "    }\n",
       "\n",
       "    .dataframe tbody tr th {\n",
       "        vertical-align: top;\n",
       "    }\n",
       "\n",
       "    .dataframe thead th {\n",
       "        text-align: right;\n",
       "    }\n",
       "</style>\n",
       "<table border=\"1\" class=\"dataframe\">\n",
       "  <thead>\n",
       "    <tr style=\"text-align: right;\">\n",
       "      <th></th>\n",
       "      <th>skill</th>\n",
       "      <th>parsed_skills</th>\n",
       "    </tr>\n",
       "  </thead>\n",
       "  <tbody>\n",
       "    <tr>\n",
       "      <th>0</th>\n",
       "      <td>{'list': [{'element': 'aws'}, {'element': 'spa...</td>\n",
       "      <td>[aws, spark, kafka, java, scala, python, sql]</td>\n",
       "    </tr>\n",
       "    <tr>\n",
       "      <th>1</th>\n",
       "      <td>{'list': [{'element': 'python'}, {'element': '...</td>\n",
       "      <td>[python, sql, r, pyspark, databricks, scikit-l...</td>\n",
       "    </tr>\n",
       "    <tr>\n",
       "      <th>2</th>\n",
       "      <td>{'list': [{'element': 'r'}, {'element': 'pytho...</td>\n",
       "      <td>[r, python]</td>\n",
       "    </tr>\n",
       "    <tr>\n",
       "      <th>3</th>\n",
       "      <td>{'list': [{'element': 'sql'}, {'element': 'pyt...</td>\n",
       "      <td>[sql, python, r, tableau]</td>\n",
       "    </tr>\n",
       "    <tr>\n",
       "      <th>4</th>\n",
       "      <td>{'list': [{'element': 'cobol'}, {'element': 'v...</td>\n",
       "      <td>[cobol, vba, excel, sql]</td>\n",
       "    </tr>\n",
       "  </tbody>\n",
       "</table>\n",
       "</div>"
      ],
      "text/plain": [
       "                                               skill  \\\n",
       "0  {'list': [{'element': 'aws'}, {'element': 'spa...   \n",
       "1  {'list': [{'element': 'python'}, {'element': '...   \n",
       "2  {'list': [{'element': 'r'}, {'element': 'pytho...   \n",
       "3  {'list': [{'element': 'sql'}, {'element': 'pyt...   \n",
       "4  {'list': [{'element': 'cobol'}, {'element': 'v...   \n",
       "\n",
       "                                       parsed_skills  \n",
       "0      [aws, spark, kafka, java, scala, python, sql]  \n",
       "1  [python, sql, r, pyspark, databricks, scikit-l...  \n",
       "2                                        [r, python]  \n",
       "3                          [sql, python, r, tableau]  \n",
       "4                           [cobol, vba, excel, sql]  "
      ]
     },
     "execution_count": 6,
     "metadata": {},
     "output_type": "execute_result"
    }
   ],
   "source": [
    "import ast\n",
    "\n",
    "# Function to parse the 'skill' column which is in string format representing a list of dictionaries\n",
    "def parse_skills(skill_str):\n",
    "    try:\n",
    "        # Convert the string to an actual list of dictionaries\n",
    "        skill_list = ast.literal_eval(skill_str)['list']\n",
    "        # Extract just the skill names\n",
    "        return [skill['element'] for skill in skill_list]\n",
    "    except Exception as e:\n",
    "        return []\n",
    "\n",
    "# Apply the parsing function to each row in the 'skill' column\n",
    "df['parsed_skills'] = df['skill'].apply(parse_skills)\n",
    "\n",
    "# Display the first few rows of the dataset to confirm the parsing\n",
    "df[['skill', 'parsed_skills']].head()\n"
   ]
  },
  {
   "cell_type": "code",
   "execution_count": 7,
   "id": "88e77a60",
   "metadata": {},
   "outputs": [
    {
     "data": {
      "text/html": [
       "<div>\n",
       "<style scoped>\n",
       "    .dataframe tbody tr th:only-of-type {\n",
       "        vertical-align: middle;\n",
       "    }\n",
       "\n",
       "    .dataframe tbody tr th {\n",
       "        vertical-align: top;\n",
       "    }\n",
       "\n",
       "    .dataframe thead th {\n",
       "        text-align: right;\n",
       "    }\n",
       "</style>\n",
       "<table border=\"1\" class=\"dataframe\">\n",
       "  <thead>\n",
       "    <tr style=\"text-align: right;\">\n",
       "      <th></th>\n",
       "      <th>job_title</th>\n",
       "      <th>country</th>\n",
       "      <th>skill</th>\n",
       "      <th>salary</th>\n",
       "      <th>job_platform</th>\n",
       "      <th>parsed_skills</th>\n",
       "    </tr>\n",
       "  </thead>\n",
       "  <tbody>\n",
       "    <tr>\n",
       "      <th>0</th>\n",
       "      <td>Senior Data Engineer</td>\n",
       "      <td>United States</td>\n",
       "      <td>{'list': [{'element': 'aws'}, {'element': 'spa...</td>\n",
       "      <td>NaN</td>\n",
       "      <td>KHON2 Jobs</td>\n",
       "      <td>[aws, spark, kafka, java, scala, python, sql]</td>\n",
       "    </tr>\n",
       "    <tr>\n",
       "      <th>1</th>\n",
       "      <td>Data Scientist</td>\n",
       "      <td>United States</td>\n",
       "      <td>{'list': [{'element': 'python'}, {'element': '...</td>\n",
       "      <td>NaN</td>\n",
       "      <td>ViewAndApply</td>\n",
       "      <td>[python, sql, r, pyspark, databricks, scikit-l...</td>\n",
       "    </tr>\n",
       "    <tr>\n",
       "      <th>2</th>\n",
       "      <td>Data Scientist</td>\n",
       "      <td>Germany</td>\n",
       "      <td>{'list': [{'element': 'r'}, {'element': 'pytho...</td>\n",
       "      <td>NaN</td>\n",
       "      <td>Your Basin Jobs</td>\n",
       "      <td>[r, python]</td>\n",
       "    </tr>\n",
       "    <tr>\n",
       "      <th>3</th>\n",
       "      <td>Data Analyst</td>\n",
       "      <td>United States</td>\n",
       "      <td>{'list': [{'element': 'sql'}, {'element': 'pyt...</td>\n",
       "      <td>NaN</td>\n",
       "      <td>Jora</td>\n",
       "      <td>[sql, python, r, tableau]</td>\n",
       "    </tr>\n",
       "    <tr>\n",
       "      <th>4</th>\n",
       "      <td>Data Analyst</td>\n",
       "      <td>United States</td>\n",
       "      <td>{'list': [{'element': 'cobol'}, {'element': 'v...</td>\n",
       "      <td>NaN</td>\n",
       "      <td>DisABLEDperson.com</td>\n",
       "      <td>[cobol, vba, excel, sql]</td>\n",
       "    </tr>\n",
       "    <tr>\n",
       "      <th>...</th>\n",
       "      <td>...</td>\n",
       "      <td>...</td>\n",
       "      <td>...</td>\n",
       "      <td>...</td>\n",
       "      <td>...</td>\n",
       "      <td>...</td>\n",
       "    </tr>\n",
       "    <tr>\n",
       "      <th>531102</th>\n",
       "      <td>Software Engineer</td>\n",
       "      <td>France</td>\n",
       "      <td>{'list': [{'element': 'c++'}, {'element': 'pyt...</td>\n",
       "      <td>NaN</td>\n",
       "      <td>Emplois Trabajo.org</td>\n",
       "      <td>[c++, python, flow, linux, git]</td>\n",
       "    </tr>\n",
       "    <tr>\n",
       "      <th>531103</th>\n",
       "      <td>Data Analyst</td>\n",
       "      <td>France</td>\n",
       "      <td>{'list': [{'element': 'excel'}]}</td>\n",
       "      <td>NaN</td>\n",
       "      <td>Emplois Trabajo.org</td>\n",
       "      <td>[excel]</td>\n",
       "    </tr>\n",
       "    <tr>\n",
       "      <th>531104</th>\n",
       "      <td>Data Analyst</td>\n",
       "      <td>France</td>\n",
       "      <td>{'list': [{'element': 'vba'}, {'element': 'pow...</td>\n",
       "      <td>NaN</td>\n",
       "      <td>Emplois Trabajo.org</td>\n",
       "      <td>[vba, power bi, powerpoint, excel]</td>\n",
       "    </tr>\n",
       "    <tr>\n",
       "      <th>531105</th>\n",
       "      <td>Data Analyst</td>\n",
       "      <td>France</td>\n",
       "      <td>{'list': [{'element': 'excel'}, {'element': 't...</td>\n",
       "      <td>NaN</td>\n",
       "      <td>Emplois Trabajo.org</td>\n",
       "      <td>[excel, tableau, power bi]</td>\n",
       "    </tr>\n",
       "    <tr>\n",
       "      <th>531106</th>\n",
       "      <td>Data Analyst</td>\n",
       "      <td>France</td>\n",
       "      <td>{'list': [{'element': 'python'}, {'element': '...</td>\n",
       "      <td>NaN</td>\n",
       "      <td>Emplois Trabajo.org</td>\n",
       "      <td>[python, r]</td>\n",
       "    </tr>\n",
       "  </tbody>\n",
       "</table>\n",
       "<p>464773 rows × 6 columns</p>\n",
       "</div>"
      ],
      "text/plain": [
       "                   job_title        country  \\\n",
       "0       Senior Data Engineer  United States   \n",
       "1             Data Scientist  United States   \n",
       "2             Data Scientist        Germany   \n",
       "3               Data Analyst  United States   \n",
       "4               Data Analyst  United States   \n",
       "...                      ...            ...   \n",
       "531102     Software Engineer         France   \n",
       "531103          Data Analyst         France   \n",
       "531104          Data Analyst         France   \n",
       "531105          Data Analyst         France   \n",
       "531106          Data Analyst         France   \n",
       "\n",
       "                                                    skill  salary  \\\n",
       "0       {'list': [{'element': 'aws'}, {'element': 'spa...     NaN   \n",
       "1       {'list': [{'element': 'python'}, {'element': '...     NaN   \n",
       "2       {'list': [{'element': 'r'}, {'element': 'pytho...     NaN   \n",
       "3       {'list': [{'element': 'sql'}, {'element': 'pyt...     NaN   \n",
       "4       {'list': [{'element': 'cobol'}, {'element': 'v...     NaN   \n",
       "...                                                   ...     ...   \n",
       "531102  {'list': [{'element': 'c++'}, {'element': 'pyt...     NaN   \n",
       "531103                   {'list': [{'element': 'excel'}]}     NaN   \n",
       "531104  {'list': [{'element': 'vba'}, {'element': 'pow...     NaN   \n",
       "531105  {'list': [{'element': 'excel'}, {'element': 't...     NaN   \n",
       "531106  {'list': [{'element': 'python'}, {'element': '...     NaN   \n",
       "\n",
       "               job_platform                                      parsed_skills  \n",
       "0                KHON2 Jobs      [aws, spark, kafka, java, scala, python, sql]  \n",
       "1              ViewAndApply  [python, sql, r, pyspark, databricks, scikit-l...  \n",
       "2           Your Basin Jobs                                        [r, python]  \n",
       "3                      Jora                          [sql, python, r, tableau]  \n",
       "4        DisABLEDperson.com                           [cobol, vba, excel, sql]  \n",
       "...                     ...                                                ...  \n",
       "531102  Emplois Trabajo.org                    [c++, python, flow, linux, git]  \n",
       "531103  Emplois Trabajo.org                                            [excel]  \n",
       "531104  Emplois Trabajo.org                 [vba, power bi, powerpoint, excel]  \n",
       "531105  Emplois Trabajo.org                         [excel, tableau, power bi]  \n",
       "531106  Emplois Trabajo.org                                        [python, r]  \n",
       "\n",
       "[464773 rows x 6 columns]"
      ]
     },
     "execution_count": 7,
     "metadata": {},
     "output_type": "execute_result"
    }
   ],
   "source": [
    "df"
   ]
  },
  {
   "cell_type": "code",
   "execution_count": 10,
   "id": "3c2215f1",
   "metadata": {},
   "outputs": [],
   "source": [
    "df = df.drop('skill', axis=1)"
   ]
  },
  {
   "cell_type": "code",
   "execution_count": null,
   "id": "b8d3df81",
   "metadata": {},
   "outputs": [],
   "source": [
    "# Unpacking the 'parsed_skills' column\n",
    "df['parsed_skills'] = df['parsed_skills'].apply(lambda x: ', '.join(eval(x)))\n",
    "df.head()"
   ]
  },
  {
   "cell_type": "code",
   "execution_count": null,
   "id": "5a727ee2",
   "metadata": {},
   "outputs": [],
   "source": [
    "# Function to replace standalone 'r' with 'R' in a string \n",
    "# This is for replacing lower case 'r' in skills. other skils were renamed using Excel.\n",
    "# def replace_standalone_r(skill_str):\n",
    "    # skills = skill_str.split(', ')\n",
    "    # return ', '.join(['R' if skill.strip() == 'r' else skill for skill in skills])\n",
    "\n",
    "# Applying the function to the 'skill' column\n",
    "# df['skill'] = df['skill'].apply(replace_standalone_r)\n",
    "\n",
    "df.head()"
   ]
  },
  {
   "cell_type": "code",
   "execution_count": null,
   "id": "a78f74fa",
   "metadata": {},
   "outputs": [],
   "source": [
    "#df.to_csv('./data/data_jobs.csv')"
   ]
  }
 ],
 "metadata": {
  "kernelspec": {
   "display_name": "Python 3 (ipykernel)",
   "language": "python",
   "name": "python3"
  },
  "language_info": {
   "codemirror_mode": {
    "name": "ipython",
    "version": 3
   },
   "file_extension": ".py",
   "mimetype": "text/x-python",
   "name": "python",
   "nbconvert_exporter": "python",
   "pygments_lexer": "ipython3",
   "version": "3.11.5"
  }
 },
 "nbformat": 4,
 "nbformat_minor": 5
}
