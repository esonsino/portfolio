{
 "cells": [
  {
   "cell_type": "markdown",
   "id": "e196ae20-63b2-4f0c-ac18-b8361e81a67d",
   "metadata": {
    "noteable": {
     "cell_type": "markdown"
    }
   },
   "source": [
    "# EXPLORATORY DATA ANALYSIS (EDA)\n",
    "- Descriptive Statistics\n",
    "- Top Data Related Job Titles in Demand\n",
    "- Leading Job Platforms for Data Careers\n",
    "- Essential Skills for Data Jobs\n",
    "- Comparing Salaries Across Data Roles"
   ]
  },
  {
   "cell_type": "code",
   "execution_count": null,
   "id": "d9f8dcbf-ddce-4b9c-b8c1-f039cf59af9c",
   "metadata": {
    "ExecuteTime": {
     "end_time": "2023-12-15T11:54:00.594928+00:00",
     "start_time": "2023-12-15T11:53:51.250594+00:00"
    },
    "datalink": {
     "123e4e2b-6d05-475a-878c-71c39aea298e": {
      "applied_filters": [],
      "dataframe_info": {
       "default_index_used": true,
       "orig_num_cols": 6,
       "orig_num_rows": 464773,
       "orig_size_bytes": 26027288,
       "truncated_num_cols": 6,
       "truncated_num_rows": 50000,
       "truncated_size_bytes": 2800000,
       "truncated_string_columns": [
        "job_platform",
        "skill"
       ]
      },
      "display_id": "123e4e2b-6d05-475a-878c-71c39aea298e",
      "dx_settings": {
       "ALLOW_NOTEABLE_ATTRS": true,
       "COLUMN_SAMPLING_METHOD": "outer",
       "DB_LOCATION": ":memory:",
       "DEV_MODE": false,
       "DISPLAY_MAX_COLUMNS": 100,
       "DISPLAY_MAX_ROWS": 50000,
       "DISPLAY_MODE": "simple",
       "ENABLE_ASSIGNMENT": true,
       "ENABLE_DATALINK": true,
       "FLATTEN_COLUMN_VALUES": true,
       "FLATTEN_INDEX_VALUES": false,
       "GENERATE_DEX_METADATA": false,
       "HTML_TABLE_SCHEMA": false,
       "LOG_LEVEL": 30,
       "MAX_RENDER_SIZE_BYTES": 104857600,
       "MAX_STRING_LENGTH": 250,
       "NUM_PAST_SAMPLES_TRACKED": 3,
       "RANDOM_STATE": 12648430,
       "RESET_INDEX_VALUES": false,
       "ROW_SAMPLING_METHOD": "random",
       "SAMPLING_FACTOR": 0.1,
       "SAMPLING_METHOD": "random",
       "STRINGIFY_COLUMN_VALUES": true,
       "STRINGIFY_INDEX_VALUES": false
      },
      "sample_history": [],
      "sampling_time": "2023-12-15T10:02:05.241760",
      "user_variable_name": "df",
      "variable_name": "df"
     },
     "25cd8a6a-3895-40c8-b5fe-da1903d0d675": {
      "applied_filters": [],
      "dataframe_info": {
       "default_index_used": true,
       "orig_num_cols": 6,
       "orig_num_rows": 464773,
       "orig_size_bytes": 26027288,
       "truncated_num_cols": 6,
       "truncated_num_rows": 50000,
       "truncated_size_bytes": 2800000,
       "truncated_string_columns": [
        "skill",
        "job_platform"
       ]
      },
      "display_id": "25cd8a6a-3895-40c8-b5fe-da1903d0d675",
      "dx_settings": {
       "ALLOW_NOTEABLE_ATTRS": true,
       "COLUMN_SAMPLING_METHOD": "outer",
       "DB_LOCATION": ":memory:",
       "DEV_MODE": false,
       "DISPLAY_MAX_COLUMNS": 100,
       "DISPLAY_MAX_ROWS": 50000,
       "DISPLAY_MODE": "simple",
       "ENABLE_ASSIGNMENT": true,
       "ENABLE_DATALINK": true,
       "FLATTEN_COLUMN_VALUES": true,
       "FLATTEN_INDEX_VALUES": false,
       "GENERATE_DEX_METADATA": false,
       "HTML_TABLE_SCHEMA": false,
       "LOG_LEVEL": 30,
       "MAX_RENDER_SIZE_BYTES": 104857600,
       "MAX_STRING_LENGTH": 250,
       "NUM_PAST_SAMPLES_TRACKED": 3,
       "RANDOM_STATE": 12648430,
       "RESET_INDEX_VALUES": false,
       "ROW_SAMPLING_METHOD": "random",
       "SAMPLING_FACTOR": 0.1,
       "SAMPLING_METHOD": "random",
       "STRINGIFY_COLUMN_VALUES": true,
       "STRINGIFY_INDEX_VALUES": false
      },
      "sample_history": [],
      "sampling_time": "2023-12-14T16:16:12.601446",
      "user_variable_name": "df",
      "variable_name": "df"
     },
     "2cf8b134-4f90-406d-aa24-d819ef2b99fd": {
      "applied_filters": [],
      "dataframe_info": {
       "default_index_used": true,
       "orig_num_cols": 8,
       "orig_num_rows": 464773,
       "orig_size_bytes": 33463656,
       "truncated_num_cols": 8,
       "truncated_num_rows": 50000,
       "truncated_size_bytes": 3600000,
       "truncated_string_columns": [
        "job_platform",
        "parsed_skills"
       ]
      },
      "display_id": "2cf8b134-4f90-406d-aa24-d819ef2b99fd",
      "dx_settings": {
       "ALLOW_NOTEABLE_ATTRS": true,
       "COLUMN_SAMPLING_METHOD": "outer",
       "DB_LOCATION": ":memory:",
       "DEV_MODE": false,
       "DISPLAY_MAX_COLUMNS": 100,
       "DISPLAY_MAX_ROWS": 50000,
       "DISPLAY_MODE": "simple",
       "ENABLE_ASSIGNMENT": true,
       "ENABLE_DATALINK": true,
       "FLATTEN_COLUMN_VALUES": true,
       "FLATTEN_INDEX_VALUES": false,
       "GENERATE_DEX_METADATA": false,
       "HTML_TABLE_SCHEMA": false,
       "LOG_LEVEL": 30,
       "MAX_RENDER_SIZE_BYTES": 104857600,
       "MAX_STRING_LENGTH": 250,
       "NUM_PAST_SAMPLES_TRACKED": 3,
       "RANDOM_STATE": 12648430,
       "RESET_INDEX_VALUES": false,
       "ROW_SAMPLING_METHOD": "random",
       "SAMPLING_FACTOR": 0.1,
       "SAMPLING_METHOD": "random",
       "STRINGIFY_COLUMN_VALUES": true,
       "STRINGIFY_INDEX_VALUES": false
      },
      "sample_history": [],
      "sampling_time": "2023-12-14T19:53:55.798863",
      "user_variable_name": "df",
      "variable_name": "df"
     },
     "38c14324-a0a3-4353-be6a-9b9dc800907f": {
      "applied_filters": [],
      "dataframe_info": {
       "default_index_used": true,
       "orig_num_cols": 5,
       "orig_num_rows": 464773,
       "orig_size_bytes": 22309104,
       "truncated_num_cols": 5,
       "truncated_num_rows": 50000,
       "truncated_size_bytes": 2400000,
       "truncated_string_columns": [
        "job_platform",
        "skill"
       ]
      },
      "display_id": "38c14324-a0a3-4353-be6a-9b9dc800907f",
      "dx_settings": {
       "ALLOW_NOTEABLE_ATTRS": true,
       "COLUMN_SAMPLING_METHOD": "outer",
       "DB_LOCATION": ":memory:",
       "DEV_MODE": false,
       "DISPLAY_MAX_COLUMNS": 100,
       "DISPLAY_MAX_ROWS": 50000,
       "DISPLAY_MODE": "simple",
       "ENABLE_ASSIGNMENT": true,
       "ENABLE_DATALINK": true,
       "FLATTEN_COLUMN_VALUES": true,
       "FLATTEN_INDEX_VALUES": false,
       "GENERATE_DEX_METADATA": false,
       "HTML_TABLE_SCHEMA": false,
       "LOG_LEVEL": 30,
       "MAX_RENDER_SIZE_BYTES": 104857600,
       "MAX_STRING_LENGTH": 250,
       "NUM_PAST_SAMPLES_TRACKED": 3,
       "RANDOM_STATE": 12648430,
       "RESET_INDEX_VALUES": false,
       "ROW_SAMPLING_METHOD": "random",
       "SAMPLING_FACTOR": 0.1,
       "SAMPLING_METHOD": "random",
       "STRINGIFY_COLUMN_VALUES": true,
       "STRINGIFY_INDEX_VALUES": false
      },
      "sample_history": [],
      "sampling_time": "2023-12-15T11:54:00.187145",
      "user_variable_name": "df",
      "variable_name": "df"
     },
     "3d644aeb-1d75-4f14-822c-912d633f085e": {
      "applied_filters": [],
      "dataframe_info": {
       "default_index_used": true,
       "orig_num_cols": 6,
       "orig_num_rows": 464773,
       "orig_size_bytes": 26027288,
       "truncated_num_cols": 6,
       "truncated_num_rows": 50000,
       "truncated_size_bytes": 2800000,
       "truncated_string_columns": [
        "skill",
        "job_platform"
       ]
      },
      "display_id": "3d644aeb-1d75-4f14-822c-912d633f085e",
      "dx_settings": {
       "ALLOW_NOTEABLE_ATTRS": true,
       "COLUMN_SAMPLING_METHOD": "outer",
       "DB_LOCATION": ":memory:",
       "DEV_MODE": false,
       "DISPLAY_MAX_COLUMNS": 100,
       "DISPLAY_MAX_ROWS": 50000,
       "DISPLAY_MODE": "simple",
       "ENABLE_ASSIGNMENT": true,
       "ENABLE_DATALINK": true,
       "FLATTEN_COLUMN_VALUES": true,
       "FLATTEN_INDEX_VALUES": false,
       "GENERATE_DEX_METADATA": false,
       "HTML_TABLE_SCHEMA": false,
       "LOG_LEVEL": 30,
       "MAX_RENDER_SIZE_BYTES": 104857600,
       "MAX_STRING_LENGTH": 250,
       "NUM_PAST_SAMPLES_TRACKED": 3,
       "RANDOM_STATE": 12648430,
       "RESET_INDEX_VALUES": false,
       "ROW_SAMPLING_METHOD": "random",
       "SAMPLING_FACTOR": 0.1,
       "SAMPLING_METHOD": "random",
       "STRINGIFY_COLUMN_VALUES": true,
       "STRINGIFY_INDEX_VALUES": false
      },
      "sample_history": [],
      "sampling_time": "2023-12-14T17:56:05.111187",
      "user_variable_name": "df",
      "variable_name": "df"
     },
     "4ee7fdbe-6e9a-4f6b-b76c-5b58e0444ab4": {
      "applied_filters": [],
      "dataframe_info": {
       "default_index_used": true,
       "orig_num_cols": 5,
       "orig_num_rows": 464773,
       "orig_size_bytes": 22309104,
       "truncated_num_cols": 5,
       "truncated_num_rows": 50000,
       "truncated_size_bytes": 2400000,
       "truncated_string_columns": [
        "skill",
        "job_platform"
       ]
      },
      "display_id": "4ee7fdbe-6e9a-4f6b-b76c-5b58e0444ab4",
      "dx_settings": {
       "ALLOW_NOTEABLE_ATTRS": true,
       "COLUMN_SAMPLING_METHOD": "outer",
       "DB_LOCATION": ":memory:",
       "DEV_MODE": false,
       "DISPLAY_MAX_COLUMNS": 100,
       "DISPLAY_MAX_ROWS": 50000,
       "DISPLAY_MODE": "simple",
       "ENABLE_ASSIGNMENT": true,
       "ENABLE_DATALINK": true,
       "FLATTEN_COLUMN_VALUES": true,
       "FLATTEN_INDEX_VALUES": false,
       "GENERATE_DEX_METADATA": false,
       "HTML_TABLE_SCHEMA": false,
       "LOG_LEVEL": 30,
       "MAX_RENDER_SIZE_BYTES": 104857600,
       "MAX_STRING_LENGTH": 250,
       "NUM_PAST_SAMPLES_TRACKED": 3,
       "RANDOM_STATE": 12648430,
       "RESET_INDEX_VALUES": false,
       "ROW_SAMPLING_METHOD": "random",
       "SAMPLING_FACTOR": 0.1,
       "SAMPLING_METHOD": "random",
       "STRINGIFY_COLUMN_VALUES": true,
       "STRINGIFY_INDEX_VALUES": false
      },
      "sample_history": [],
      "sampling_time": "2023-12-14T14:33:37.702915",
      "user_variable_name": "df",
      "variable_name": "df"
     },
     "5d33061b-c28e-4589-9bfb-6174c207b807": {
      "applied_filters": [],
      "dataframe_info": {
       "default_index_used": true,
       "orig_num_cols": 6,
       "orig_num_rows": 464773,
       "orig_size_bytes": 26027288,
       "truncated_num_cols": 6,
       "truncated_num_rows": 50000,
       "truncated_size_bytes": 2800000,
       "truncated_string_columns": [
        "job_platform",
        "skill"
       ]
      },
      "display_id": "5d33061b-c28e-4589-9bfb-6174c207b807",
      "dx_settings": {
       "ALLOW_NOTEABLE_ATTRS": true,
       "COLUMN_SAMPLING_METHOD": "outer",
       "DB_LOCATION": ":memory:",
       "DEV_MODE": false,
       "DISPLAY_MAX_COLUMNS": 100,
       "DISPLAY_MAX_ROWS": 50000,
       "DISPLAY_MODE": "simple",
       "ENABLE_ASSIGNMENT": true,
       "ENABLE_DATALINK": true,
       "FLATTEN_COLUMN_VALUES": true,
       "FLATTEN_INDEX_VALUES": false,
       "GENERATE_DEX_METADATA": false,
       "HTML_TABLE_SCHEMA": false,
       "LOG_LEVEL": 30,
       "MAX_RENDER_SIZE_BYTES": 104857600,
       "MAX_STRING_LENGTH": 250,
       "NUM_PAST_SAMPLES_TRACKED": 3,
       "RANDOM_STATE": 12648430,
       "RESET_INDEX_VALUES": false,
       "ROW_SAMPLING_METHOD": "random",
       "SAMPLING_FACTOR": 0.1,
       "SAMPLING_METHOD": "random",
       "STRINGIFY_COLUMN_VALUES": true,
       "STRINGIFY_INDEX_VALUES": false
      },
      "sample_history": [],
      "sampling_time": "2023-12-15T11:38:38.904615",
      "user_variable_name": "df",
      "variable_name": "df"
     },
     "d54185b3-a20f-4ddb-84cc-fbdec556869a": {
      "applied_filters": [],
      "dataframe_info": {
       "default_index_used": true,
       "orig_num_cols": 5,
       "orig_num_rows": 464773,
       "orig_size_bytes": 22309104,
       "truncated_num_cols": 5,
       "truncated_num_rows": 50000,
       "truncated_size_bytes": 2400000,
       "truncated_string_columns": [
        "job_platform",
        "skill"
       ]
      },
      "display_id": "d54185b3-a20f-4ddb-84cc-fbdec556869a",
      "dx_settings": {
       "ALLOW_NOTEABLE_ATTRS": true,
       "COLUMN_SAMPLING_METHOD": "outer",
       "DB_LOCATION": ":memory:",
       "DEV_MODE": false,
       "DISPLAY_MAX_COLUMNS": 100,
       "DISPLAY_MAX_ROWS": 50000,
       "DISPLAY_MODE": "simple",
       "ENABLE_ASSIGNMENT": true,
       "ENABLE_DATALINK": true,
       "FLATTEN_COLUMN_VALUES": true,
       "FLATTEN_INDEX_VALUES": false,
       "GENERATE_DEX_METADATA": false,
       "HTML_TABLE_SCHEMA": false,
       "LOG_LEVEL": 30,
       "MAX_RENDER_SIZE_BYTES": 104857600,
       "MAX_STRING_LENGTH": 250,
       "NUM_PAST_SAMPLES_TRACKED": 3,
       "RANDOM_STATE": 12648430,
       "RESET_INDEX_VALUES": false,
       "ROW_SAMPLING_METHOD": "random",
       "SAMPLING_FACTOR": 0.1,
       "SAMPLING_METHOD": "random",
       "STRINGIFY_COLUMN_VALUES": true,
       "STRINGIFY_INDEX_VALUES": false
      },
      "sample_history": [],
      "sampling_time": "2023-12-14T19:58:07.955610",
      "user_variable_name": "df",
      "variable_name": "df"
     },
     "e071c095-b8ce-47d4-bca3-72dcb07ffab9": {
      "applied_filters": [],
      "dataframe_info": {
       "default_index_used": true,
       "orig_num_cols": 5,
       "orig_num_rows": 464773,
       "orig_size_bytes": 22309104,
       "truncated_num_cols": 5,
       "truncated_num_rows": 50000,
       "truncated_size_bytes": 2400000,
       "truncated_string_columns": [
        "skill",
        "job_platform"
       ]
      },
      "display_id": "e071c095-b8ce-47d4-bca3-72dcb07ffab9",
      "dx_settings": {
       "ALLOW_NOTEABLE_ATTRS": true,
       "COLUMN_SAMPLING_METHOD": "outer",
       "DB_LOCATION": ":memory:",
       "DEV_MODE": false,
       "DISPLAY_MAX_COLUMNS": 100,
       "DISPLAY_MAX_ROWS": 50000,
       "DISPLAY_MODE": "simple",
       "ENABLE_ASSIGNMENT": true,
       "ENABLE_DATALINK": true,
       "FLATTEN_COLUMN_VALUES": true,
       "FLATTEN_INDEX_VALUES": false,
       "GENERATE_DEX_METADATA": false,
       "HTML_TABLE_SCHEMA": false,
       "LOG_LEVEL": 30,
       "MAX_RENDER_SIZE_BYTES": 104857600,
       "MAX_STRING_LENGTH": 250,
       "NUM_PAST_SAMPLES_TRACKED": 3,
       "RANDOM_STATE": 12648430,
       "RESET_INDEX_VALUES": false,
       "ROW_SAMPLING_METHOD": "random",
       "SAMPLING_FACTOR": 0.1,
       "SAMPLING_METHOD": "random",
       "STRINGIFY_COLUMN_VALUES": true,
       "STRINGIFY_INDEX_VALUES": false
      },
      "sample_history": [],
      "sampling_time": "2023-12-14T15:19:23.581073",
      "user_variable_name": "df",
      "variable_name": "df"
     },
     "fc459a57-9d2a-414a-b740-d0c22260ed43": {
      "applied_filters": [],
      "dataframe_info": {
       "default_index_used": true,
       "orig_num_cols": 6,
       "orig_num_rows": 464773,
       "orig_size_bytes": 26027288,
       "truncated_num_cols": 6,
       "truncated_num_rows": 50000,
       "truncated_size_bytes": 2800000,
       "truncated_string_columns": [
        "job_platform",
        "skill"
       ]
      },
      "display_id": "fc459a57-9d2a-414a-b740-d0c22260ed43",
      "dx_settings": {
       "ALLOW_NOTEABLE_ATTRS": true,
       "COLUMN_SAMPLING_METHOD": "outer",
       "DB_LOCATION": ":memory:",
       "DEV_MODE": false,
       "DISPLAY_MAX_COLUMNS": 100,
       "DISPLAY_MAX_ROWS": 50000,
       "DISPLAY_MODE": "simple",
       "ENABLE_ASSIGNMENT": true,
       "ENABLE_DATALINK": true,
       "FLATTEN_COLUMN_VALUES": true,
       "FLATTEN_INDEX_VALUES": false,
       "GENERATE_DEX_METADATA": false,
       "HTML_TABLE_SCHEMA": false,
       "LOG_LEVEL": 30,
       "MAX_RENDER_SIZE_BYTES": 104857600,
       "MAX_STRING_LENGTH": 250,
       "NUM_PAST_SAMPLES_TRACKED": 3,
       "RANDOM_STATE": 12648430,
       "RESET_INDEX_VALUES": false,
       "ROW_SAMPLING_METHOD": "random",
       "SAMPLING_FACTOR": 0.1,
       "SAMPLING_METHOD": "random",
       "STRINGIFY_COLUMN_VALUES": true,
       "STRINGIFY_INDEX_VALUES": false
      },
      "sample_history": [],
      "sampling_time": "2023-12-14T20:58:26.901408",
      "user_variable_name": "df",
      "variable_name": "df"
     },
     "fcb81402-a1a7-4ad2-92c0-5e4b2f7e111c": {
      "applied_filters": [],
      "dataframe_info": {
       "default_index_used": true,
       "orig_num_cols": 5,
       "orig_num_rows": 464773,
       "orig_size_bytes": 22309104,
       "truncated_num_cols": 5,
       "truncated_num_rows": 50000,
       "truncated_size_bytes": 2400000,
       "truncated_string_columns": [
        "job_platform",
        "skill"
       ]
      },
      "display_id": "fcb81402-a1a7-4ad2-92c0-5e4b2f7e111c",
      "dx_settings": {
       "ALLOW_NOTEABLE_ATTRS": true,
       "COLUMN_SAMPLING_METHOD": "outer",
       "DB_LOCATION": ":memory:",
       "DEV_MODE": false,
       "DISPLAY_MAX_COLUMNS": 100,
       "DISPLAY_MAX_ROWS": 50000,
       "DISPLAY_MODE": "simple",
       "ENABLE_ASSIGNMENT": true,
       "ENABLE_DATALINK": true,
       "FLATTEN_COLUMN_VALUES": true,
       "FLATTEN_INDEX_VALUES": false,
       "GENERATE_DEX_METADATA": false,
       "HTML_TABLE_SCHEMA": false,
       "LOG_LEVEL": 30,
       "MAX_RENDER_SIZE_BYTES": 104857600,
       "MAX_STRING_LENGTH": 250,
       "NUM_PAST_SAMPLES_TRACKED": 3,
       "RANDOM_STATE": 12648430,
       "RESET_INDEX_VALUES": false,
       "ROW_SAMPLING_METHOD": "random",
       "SAMPLING_FACTOR": 0.1,
       "SAMPLING_METHOD": "random",
       "STRINGIFY_COLUMN_VALUES": true,
       "STRINGIFY_INDEX_VALUES": false
      },
      "sample_history": [],
      "sampling_time": "2023-12-14T20:47:35.009702",
      "user_variable_name": "df",
      "variable_name": "df"
     }
    },
    "dx": {
     "fieldMetadata": {},
     "simpleTable": false,
     "updated": 1702564428427,
     "views": []
    },
    "jupyter": {
     "outputs_hidden": true
    },
    "noteable": {
     "assign_results_to": "df",
     "cell_type": "sql",
     "db_connection": "@noteable",
     "output_collection_id": "f5a7cfee-6122-402f-b6ef-043b0d36cfb1"
    }
   },
   "outputs": [],
   "source": [
    "SELECT * FROM data_cleaned.csv"
   ]
  },
  {
   "cell_type": "code",
   "execution_count": 2,
   "id": "3d276f1e-7291-4330-b1b8-d4acf35fa29c",
   "metadata": {
    "ExecuteTime": {
     "end_time": "2023-12-15T11:40:15.120565+00:00",
     "start_time": "2023-12-15T11:40:14.225110+00:00"
    },
    "jupyter": {
     "outputs_hidden": false,
     "source_hidden": false
    },
    "noteable": {
     "cell_type": "code",
     "output_collection_id": "cfce421b-0b11-4dae-88ca-ddf0dd1d592f"
    }
   },
   "outputs": [],
   "source": [
    "import pandas as pd\n",
    "import seaborn as sns\n",
    "import matplotlib.pyplot as plt"
   ]
  },
  {
   "cell_type": "markdown",
   "id": "195b3057-9b79-4895-b2a7-d21922125b60",
   "metadata": {
    "noteable": {
     "cell_type": "markdown"
    }
   },
   "source": [
    "## Descriptive Statistics\n",
    "Generate basic statistical summaries like mean, median, standard deviation and range to understand the fundamental tendencies and dispersion in the dataset."
   ]
  },
  {
   "cell_type": "code",
   "execution_count": null,
   "id": "02d6bc37-78f8-4549-b5da-4461f480b3bd",
   "metadata": {
    "ExecuteTime": {
     "end_time": "2023-12-14T14:35:56.443793+00:00",
     "start_time": "2023-12-14T14:35:54.570554+00:00"
    },
    "datalink": {
     "305aaacc-617e-4590-98a3-cebede4d429e": {
      "applied_filters": [],
      "dataframe_info": {
       "default_index_used": false,
       "orig_num_cols": 1,
       "orig_num_rows": 8,
       "orig_size_bytes": 128,
       "truncated_num_cols": 1,
       "truncated_num_rows": 8,
       "truncated_size_bytes": 128,
       "truncated_string_columns": []
      },
      "display_id": "305aaacc-617e-4590-98a3-cebede4d429e",
      "dx_settings": {
       "ALLOW_NOTEABLE_ATTRS": true,
       "COLUMN_SAMPLING_METHOD": "outer",
       "DB_LOCATION": ":memory:",
       "DEV_MODE": false,
       "DISPLAY_MAX_COLUMNS": 100,
       "DISPLAY_MAX_ROWS": 50000,
       "DISPLAY_MODE": "simple",
       "ENABLE_ASSIGNMENT": true,
       "ENABLE_DATALINK": true,
       "FLATTEN_COLUMN_VALUES": true,
       "FLATTEN_INDEX_VALUES": false,
       "GENERATE_DEX_METADATA": false,
       "HTML_TABLE_SCHEMA": false,
       "LOG_LEVEL": 30,
       "MAX_RENDER_SIZE_BYTES": 104857600,
       "MAX_STRING_LENGTH": 250,
       "NUM_PAST_SAMPLES_TRACKED": 3,
       "RANDOM_STATE": 12648430,
       "RESET_INDEX_VALUES": false,
       "ROW_SAMPLING_METHOD": "random",
       "SAMPLING_FACTOR": 0.1,
       "SAMPLING_METHOD": "random",
       "STRINGIFY_COLUMN_VALUES": true,
       "STRINGIFY_INDEX_VALUES": false
      },
      "sample_history": [],
      "sampling_time": "2023-12-14T14:35:56.284580",
      "user_variable_name": null,
      "variable_name": "unk_dataframe_21923d44da1d49d3b5b6738bf61df9d4"
     },
     "94e1f569-0f72-47ef-b064-ad5151804928": {
      "applied_filters": [],
      "dataframe_info": {
       "default_index_used": false,
       "orig_num_cols": 1,
       "orig_num_rows": 8,
       "orig_size_bytes": 128,
       "truncated_num_cols": 1,
       "truncated_num_rows": 8,
       "truncated_size_bytes": 128,
       "truncated_string_columns": []
      },
      "display_id": "94e1f569-0f72-47ef-b064-ad5151804928",
      "dx_settings": {
       "ALLOW_NOTEABLE_ATTRS": true,
       "COLUMN_SAMPLING_METHOD": "outer",
       "DB_LOCATION": ":memory:",
       "DEV_MODE": false,
       "DISPLAY_MAX_COLUMNS": 100,
       "DISPLAY_MAX_ROWS": 50000,
       "DISPLAY_MODE": "simple",
       "ENABLE_ASSIGNMENT": true,
       "ENABLE_DATALINK": true,
       "FLATTEN_COLUMN_VALUES": true,
       "FLATTEN_INDEX_VALUES": false,
       "GENERATE_DEX_METADATA": false,
       "HTML_TABLE_SCHEMA": false,
       "LOG_LEVEL": 30,
       "MAX_RENDER_SIZE_BYTES": 104857600,
       "MAX_STRING_LENGTH": 250,
       "NUM_PAST_SAMPLES_TRACKED": 3,
       "RANDOM_STATE": 12648430,
       "RESET_INDEX_VALUES": false,
       "ROW_SAMPLING_METHOD": "random",
       "SAMPLING_FACTOR": 0.1,
       "SAMPLING_METHOD": "random",
       "STRINGIFY_COLUMN_VALUES": true,
       "STRINGIFY_INDEX_VALUES": false
      },
      "sample_history": [],
      "sampling_time": "2023-12-14T14:35:34.155338",
      "user_variable_name": null,
      "variable_name": "unk_dataframe_fd7d9310dddc4b93b058b8c5e550d260"
     }
    },
    "dx": {
     "fieldMetadata": {},
     "simpleTable": true,
     "updated": 1702564538038,
     "views": []
    },
    "jupyter": {
     "outputs_hidden": true
    },
    "noteable": {
     "cell_type": "python",
     "output_collection_id": "d5b50e8b-a50c-4fe2-a277-18f79dd4a67b"
    }
   },
   "outputs": [],
   "source": [
    "df.describe().round(2)"
   ]
  },
  {
   "cell_type": "markdown",
   "id": "21644bf7-3f30-4d3f-b05f-d7ea19001a1b",
   "metadata": {
    "noteable": {
     "cell_type": "markdown"
    }
   },
   "source": [
    "## Top Data Related Job Titles in Demand: What are the Most Mopular Job Titles?\n",
    "\n",
    "Identify the most frequently advertised job titles in the data field to determine which positions are currently most sought-after by employers."
   ]
  },
  {
   "cell_type": "code",
   "execution_count": 57,
   "id": "a0a113b8",
   "metadata": {},
   "outputs": [
    {
     "data": {
      "text/html": [
       "<div>\n",
       "<style scoped>\n",
       "    .dataframe tbody tr th:only-of-type {\n",
       "        vertical-align: middle;\n",
       "    }\n",
       "\n",
       "    .dataframe tbody tr th {\n",
       "        vertical-align: top;\n",
       "    }\n",
       "\n",
       "    .dataframe thead th {\n",
       "        text-align: right;\n",
       "    }\n",
       "</style>\n",
       "<table border=\"1\" class=\"dataframe\">\n",
       "  <thead>\n",
       "    <tr style=\"text-align: right;\">\n",
       "      <th></th>\n",
       "      <th>job_title</th>\n",
       "      <th>total_job_postings</th>\n",
       "    </tr>\n",
       "  </thead>\n",
       "  <tbody>\n",
       "    <tr>\n",
       "      <th>0</th>\n",
       "      <td>Data Analyst</td>\n",
       "      <td>122051</td>\n",
       "    </tr>\n",
       "    <tr>\n",
       "      <th>1</th>\n",
       "      <td>Data Scientist</td>\n",
       "      <td>121911</td>\n",
       "    </tr>\n",
       "    <tr>\n",
       "      <th>2</th>\n",
       "      <td>Data Engineer</td>\n",
       "      <td>112251</td>\n",
       "    </tr>\n",
       "    <tr>\n",
       "      <th>3</th>\n",
       "      <td>Senior Data Engineer</td>\n",
       "      <td>29436</td>\n",
       "    </tr>\n",
       "    <tr>\n",
       "      <th>4</th>\n",
       "      <td>Senior Data Scientist</td>\n",
       "      <td>27903</td>\n",
       "    </tr>\n",
       "    <tr>\n",
       "      <th>5</th>\n",
       "      <td>Senior Data Analyst</td>\n",
       "      <td>23624</td>\n",
       "    </tr>\n",
       "    <tr>\n",
       "      <th>6</th>\n",
       "      <td>Business Analyst</td>\n",
       "      <td>13605</td>\n",
       "    </tr>\n",
       "    <tr>\n",
       "      <th>7</th>\n",
       "      <td>Software Engineer</td>\n",
       "      <td>8180</td>\n",
       "    </tr>\n",
       "    <tr>\n",
       "      <th>8</th>\n",
       "      <td>M.Learning Engineer</td>\n",
       "      <td>3849</td>\n",
       "    </tr>\n",
       "    <tr>\n",
       "      <th>9</th>\n",
       "      <td>Cloud Engineer</td>\n",
       "      <td>1963</td>\n",
       "    </tr>\n",
       "  </tbody>\n",
       "</table>\n",
       "</div>"
      ],
      "text/plain": [
       "               job_title  total_job_postings\n",
       "0           Data Analyst              122051\n",
       "1         Data Scientist              121911\n",
       "2          Data Engineer              112251\n",
       "3   Senior Data Engineer               29436\n",
       "4  Senior Data Scientist               27903\n",
       "5    Senior Data Analyst               23624\n",
       "6       Business Analyst               13605\n",
       "7      Software Engineer                8180\n",
       "8    M.Learning Engineer                3849\n",
       "9         Cloud Engineer                1963"
      ]
     },
     "execution_count": 57,
     "metadata": {},
     "output_type": "execute_result"
    }
   ],
   "source": [
    "df_jobs = pd.read_csv('../exported data/1_popular_job_titles.csv')\n",
    "df_jobs.head(10)"
   ]
  },
  {
   "cell_type": "code",
   "execution_count": null,
   "id": "c9413d0d-d301-47d2-9a4a-3278a4bc6f7f",
   "metadata": {
    "ExecuteTime": {
     "end_time": "2023-12-15T11:54:34.959946+00:00",
     "start_time": "2023-12-15T11:54:32.765379+00:00"
    },
    "datalink": {
     "14086a21-0259-4d77-8d6b-f35c6fcf37de": {
      "applied_filters": [],
      "dataframe_info": {
       "default_index_used": true,
       "orig_num_cols": 2,
       "orig_num_rows": 10,
       "orig_size_bytes": 240,
       "truncated_num_cols": 2,
       "truncated_num_rows": 10,
       "truncated_size_bytes": 240,
       "truncated_string_columns": []
      },
      "display_id": "14086a21-0259-4d77-8d6b-f35c6fcf37de",
      "dx_settings": {
       "ALLOW_NOTEABLE_ATTRS": true,
       "COLUMN_SAMPLING_METHOD": "outer",
       "DB_LOCATION": ":memory:",
       "DEV_MODE": false,
       "DISPLAY_MAX_COLUMNS": 100,
       "DISPLAY_MAX_ROWS": 50000,
       "DISPLAY_MODE": "simple",
       "ENABLE_ASSIGNMENT": true,
       "ENABLE_DATALINK": true,
       "FLATTEN_COLUMN_VALUES": true,
       "FLATTEN_INDEX_VALUES": false,
       "GENERATE_DEX_METADATA": false,
       "HTML_TABLE_SCHEMA": false,
       "LOG_LEVEL": 30,
       "MAX_RENDER_SIZE_BYTES": 104857600,
       "MAX_STRING_LENGTH": 250,
       "NUM_PAST_SAMPLES_TRACKED": 3,
       "RANDOM_STATE": 12648430,
       "RESET_INDEX_VALUES": false,
       "ROW_SAMPLING_METHOD": "random",
       "SAMPLING_FACTOR": 0.1,
       "SAMPLING_METHOD": "random",
       "STRINGIFY_COLUMN_VALUES": true,
       "STRINGIFY_INDEX_VALUES": false
      },
      "sample_history": [],
      "sampling_time": "2023-12-14T14:39:11.320898",
      "user_variable_name": "popular_titles",
      "variable_name": "popular_titles"
     },
     "2c373b38-5023-415a-8ec0-3264a0361f9b": {
      "applied_filters": [],
      "dataframe_info": {
       "default_index_used": true,
       "orig_num_cols": 2,
       "orig_num_rows": 10,
       "orig_size_bytes": 240,
       "truncated_num_cols": 2,
       "truncated_num_rows": 10,
       "truncated_size_bytes": 240,
       "truncated_string_columns": []
      },
      "display_id": "2c373b38-5023-415a-8ec0-3264a0361f9b",
      "dx_settings": {
       "ALLOW_NOTEABLE_ATTRS": true,
       "COLUMN_SAMPLING_METHOD": "outer",
       "DB_LOCATION": ":memory:",
       "DEV_MODE": false,
       "DISPLAY_MAX_COLUMNS": 100,
       "DISPLAY_MAX_ROWS": 50000,
       "DISPLAY_MODE": "simple",
       "ENABLE_ASSIGNMENT": true,
       "ENABLE_DATALINK": true,
       "FLATTEN_COLUMN_VALUES": true,
       "FLATTEN_INDEX_VALUES": false,
       "GENERATE_DEX_METADATA": false,
       "HTML_TABLE_SCHEMA": false,
       "LOG_LEVEL": 30,
       "MAX_RENDER_SIZE_BYTES": 104857600,
       "MAX_STRING_LENGTH": 250,
       "NUM_PAST_SAMPLES_TRACKED": 3,
       "RANDOM_STATE": 12648430,
       "RESET_INDEX_VALUES": false,
       "ROW_SAMPLING_METHOD": "random",
       "SAMPLING_FACTOR": 0.1,
       "SAMPLING_METHOD": "random",
       "STRINGIFY_COLUMN_VALUES": true,
       "STRINGIFY_INDEX_VALUES": false
      },
      "sample_history": [],
      "sampling_time": "2023-12-14T14:38:06.368611",
      "user_variable_name": "popular_titles",
      "variable_name": "popular_titles"
     },
     "4a5f6d74-b787-4476-b1de-407eb360c097": {
      "applied_filters": [],
      "dataframe_info": {
       "default_index_used": true,
       "orig_num_cols": 2,
       "orig_num_rows": 10,
       "orig_size_bytes": 240,
       "truncated_num_cols": 2,
       "truncated_num_rows": 10,
       "truncated_size_bytes": 240,
       "truncated_string_columns": []
      },
      "display_id": "4a5f6d74-b787-4476-b1de-407eb360c097",
      "dx_settings": {
       "ALLOW_NOTEABLE_ATTRS": true,
       "COLUMN_SAMPLING_METHOD": "outer",
       "DB_LOCATION": ":memory:",
       "DEV_MODE": false,
       "DISPLAY_MAX_COLUMNS": 100,
       "DISPLAY_MAX_ROWS": 50000,
       "DISPLAY_MODE": "simple",
       "ENABLE_ASSIGNMENT": true,
       "ENABLE_DATALINK": true,
       "FLATTEN_COLUMN_VALUES": true,
       "FLATTEN_INDEX_VALUES": false,
       "GENERATE_DEX_METADATA": false,
       "HTML_TABLE_SCHEMA": false,
       "LOG_LEVEL": 30,
       "MAX_RENDER_SIZE_BYTES": 104857600,
       "MAX_STRING_LENGTH": 250,
       "NUM_PAST_SAMPLES_TRACKED": 3,
       "RANDOM_STATE": 12648430,
       "RESET_INDEX_VALUES": false,
       "ROW_SAMPLING_METHOD": "random",
       "SAMPLING_FACTOR": 0.1,
       "SAMPLING_METHOD": "random",
       "STRINGIFY_COLUMN_VALUES": true,
       "STRINGIFY_INDEX_VALUES": false
      },
      "sample_history": [],
      "sampling_time": "2023-12-14T19:58:31.109754",
      "user_variable_name": "popular_titles",
      "variable_name": "popular_titles"
     },
     "74e6bcbe-70df-46e8-98fb-4f030508483a": {
      "applied_filters": [],
      "dataframe_info": {
       "default_index_used": true,
       "orig_num_cols": 2,
       "orig_num_rows": 10,
       "orig_size_bytes": 240,
       "truncated_num_cols": 2,
       "truncated_num_rows": 10,
       "truncated_size_bytes": 240,
       "truncated_string_columns": []
      },
      "display_id": "74e6bcbe-70df-46e8-98fb-4f030508483a",
      "dx_settings": {
       "ALLOW_NOTEABLE_ATTRS": true,
       "COLUMN_SAMPLING_METHOD": "outer",
       "DB_LOCATION": ":memory:",
       "DEV_MODE": false,
       "DISPLAY_MAX_COLUMNS": 100,
       "DISPLAY_MAX_ROWS": 50000,
       "DISPLAY_MODE": "simple",
       "ENABLE_ASSIGNMENT": true,
       "ENABLE_DATALINK": true,
       "FLATTEN_COLUMN_VALUES": true,
       "FLATTEN_INDEX_VALUES": false,
       "GENERATE_DEX_METADATA": false,
       "HTML_TABLE_SCHEMA": false,
       "LOG_LEVEL": 30,
       "MAX_RENDER_SIZE_BYTES": 104857600,
       "MAX_STRING_LENGTH": 250,
       "NUM_PAST_SAMPLES_TRACKED": 3,
       "RANDOM_STATE": 12648430,
       "RESET_INDEX_VALUES": false,
       "ROW_SAMPLING_METHOD": "random",
       "SAMPLING_FACTOR": 0.1,
       "SAMPLING_METHOD": "random",
       "STRINGIFY_COLUMN_VALUES": true,
       "STRINGIFY_INDEX_VALUES": false
      },
      "sample_history": [],
      "sampling_time": "2023-12-14T15:19:44.092184",
      "user_variable_name": "popular_titles",
      "variable_name": "popular_titles"
     },
     "80882014-0530-4c2a-8e7b-2634a1b27870": {
      "applied_filters": [],
      "dataframe_info": {
       "default_index_used": true,
       "orig_num_cols": 2,
       "orig_num_rows": 10,
       "orig_size_bytes": 240,
       "truncated_num_cols": 2,
       "truncated_num_rows": 10,
       "truncated_size_bytes": 240,
       "truncated_string_columns": []
      },
      "display_id": "80882014-0530-4c2a-8e7b-2634a1b27870",
      "dx_settings": {
       "ALLOW_NOTEABLE_ATTRS": true,
       "COLUMN_SAMPLING_METHOD": "outer",
       "DB_LOCATION": ":memory:",
       "DEV_MODE": false,
       "DISPLAY_MAX_COLUMNS": 100,
       "DISPLAY_MAX_ROWS": 50000,
       "DISPLAY_MODE": "simple",
       "ENABLE_ASSIGNMENT": true,
       "ENABLE_DATALINK": true,
       "FLATTEN_COLUMN_VALUES": true,
       "FLATTEN_INDEX_VALUES": false,
       "GENERATE_DEX_METADATA": false,
       "HTML_TABLE_SCHEMA": false,
       "LOG_LEVEL": 30,
       "MAX_RENDER_SIZE_BYTES": 104857600,
       "MAX_STRING_LENGTH": 250,
       "NUM_PAST_SAMPLES_TRACKED": 3,
       "RANDOM_STATE": 12648430,
       "RESET_INDEX_VALUES": false,
       "ROW_SAMPLING_METHOD": "random",
       "SAMPLING_FACTOR": 0.1,
       "SAMPLING_METHOD": "random",
       "STRINGIFY_COLUMN_VALUES": true,
       "STRINGIFY_INDEX_VALUES": false
      },
      "sample_history": [],
      "sampling_time": "2023-12-14T16:16:26.667277",
      "user_variable_name": "popular_titles",
      "variable_name": "popular_titles"
     },
     "d2c92c6c-7ff7-423f-93ac-fcc2fcdaf0e1": {
      "applied_filters": [],
      "dataframe_info": {
       "default_index_used": true,
       "orig_num_cols": 2,
       "orig_num_rows": 10,
       "orig_size_bytes": 240,
       "truncated_num_cols": 2,
       "truncated_num_rows": 10,
       "truncated_size_bytes": 240,
       "truncated_string_columns": []
      },
      "display_id": "d2c92c6c-7ff7-423f-93ac-fcc2fcdaf0e1",
      "dx_settings": {
       "ALLOW_NOTEABLE_ATTRS": true,
       "COLUMN_SAMPLING_METHOD": "outer",
       "DB_LOCATION": ":memory:",
       "DEV_MODE": false,
       "DISPLAY_MAX_COLUMNS": 100,
       "DISPLAY_MAX_ROWS": 50000,
       "DISPLAY_MODE": "simple",
       "ENABLE_ASSIGNMENT": true,
       "ENABLE_DATALINK": true,
       "FLATTEN_COLUMN_VALUES": true,
       "FLATTEN_INDEX_VALUES": false,
       "GENERATE_DEX_METADATA": false,
       "HTML_TABLE_SCHEMA": false,
       "LOG_LEVEL": 30,
       "MAX_RENDER_SIZE_BYTES": 104857600,
       "MAX_STRING_LENGTH": 250,
       "NUM_PAST_SAMPLES_TRACKED": 3,
       "RANDOM_STATE": 12648430,
       "RESET_INDEX_VALUES": false,
       "ROW_SAMPLING_METHOD": "random",
       "SAMPLING_FACTOR": 0.1,
       "SAMPLING_METHOD": "random",
       "STRINGIFY_COLUMN_VALUES": true,
       "STRINGIFY_INDEX_VALUES": false
      },
      "sample_history": [],
      "sampling_time": "2023-12-15T11:54:34.800790",
      "user_variable_name": "popular_titles",
      "variable_name": "popular_titles"
     },
     "dae28373-ce5e-4bfb-a72c-ba627ebe0706": {
      "applied_filters": [],
      "dataframe_info": {
       "default_index_used": true,
       "orig_num_cols": 2,
       "orig_num_rows": 10,
       "orig_size_bytes": 240,
       "truncated_num_cols": 2,
       "truncated_num_rows": 10,
       "truncated_size_bytes": 240,
       "truncated_string_columns": []
      },
      "display_id": "dae28373-ce5e-4bfb-a72c-ba627ebe0706",
      "dx_settings": {
       "ALLOW_NOTEABLE_ATTRS": true,
       "COLUMN_SAMPLING_METHOD": "outer",
       "DB_LOCATION": ":memory:",
       "DEV_MODE": false,
       "DISPLAY_MAX_COLUMNS": 100,
       "DISPLAY_MAX_ROWS": 50000,
       "DISPLAY_MODE": "simple",
       "ENABLE_ASSIGNMENT": true,
       "ENABLE_DATALINK": true,
       "FLATTEN_COLUMN_VALUES": true,
       "FLATTEN_INDEX_VALUES": false,
       "GENERATE_DEX_METADATA": false,
       "HTML_TABLE_SCHEMA": false,
       "LOG_LEVEL": 30,
       "MAX_RENDER_SIZE_BYTES": 104857600,
       "MAX_STRING_LENGTH": 250,
       "NUM_PAST_SAMPLES_TRACKED": 3,
       "RANDOM_STATE": 12648430,
       "RESET_INDEX_VALUES": false,
       "ROW_SAMPLING_METHOD": "random",
       "SAMPLING_FACTOR": 0.1,
       "SAMPLING_METHOD": "random",
       "STRINGIFY_COLUMN_VALUES": true,
       "STRINGIFY_INDEX_VALUES": false
      },
      "sample_history": [],
      "sampling_time": "2023-12-15T10:02:47.756641",
      "user_variable_name": "popular_titles",
      "variable_name": "popular_titles"
     },
     "f941d796-b78b-40f8-a5a9-1fa309b8cfff": {
      "applied_filters": [],
      "dataframe_info": {
       "default_index_used": true,
       "orig_num_cols": 2,
       "orig_num_rows": 10,
       "orig_size_bytes": 240,
       "truncated_num_cols": 2,
       "truncated_num_rows": 10,
       "truncated_size_bytes": 240,
       "truncated_string_columns": []
      },
      "display_id": "f941d796-b78b-40f8-a5a9-1fa309b8cfff",
      "dx_settings": {
       "ALLOW_NOTEABLE_ATTRS": true,
       "COLUMN_SAMPLING_METHOD": "outer",
       "DB_LOCATION": ":memory:",
       "DEV_MODE": false,
       "DISPLAY_MAX_COLUMNS": 100,
       "DISPLAY_MAX_ROWS": 50000,
       "DISPLAY_MODE": "simple",
       "ENABLE_ASSIGNMENT": true,
       "ENABLE_DATALINK": true,
       "FLATTEN_COLUMN_VALUES": true,
       "FLATTEN_INDEX_VALUES": false,
       "GENERATE_DEX_METADATA": false,
       "HTML_TABLE_SCHEMA": false,
       "LOG_LEVEL": 30,
       "MAX_RENDER_SIZE_BYTES": 104857600,
       "MAX_STRING_LENGTH": 250,
       "NUM_PAST_SAMPLES_TRACKED": 3,
       "RANDOM_STATE": 12648430,
       "RESET_INDEX_VALUES": false,
       "ROW_SAMPLING_METHOD": "random",
       "SAMPLING_FACTOR": 0.1,
       "SAMPLING_METHOD": "random",
       "STRINGIFY_COLUMN_VALUES": true,
       "STRINGIFY_INDEX_VALUES": false
      },
      "sample_history": [],
      "sampling_time": "2023-12-14T17:56:14.122809",
      "user_variable_name": "popular_titles",
      "variable_name": "popular_titles"
     },
     "fdd68313-8a95-4fbc-a347-7c3a36ad60bb": {
      "applied_filters": [],
      "dataframe_info": {
       "default_index_used": true,
       "orig_num_cols": 2,
       "orig_num_rows": 10,
       "orig_size_bytes": 240,
       "truncated_num_cols": 2,
       "truncated_num_rows": 10,
       "truncated_size_bytes": 240,
       "truncated_string_columns": []
      },
      "display_id": "fdd68313-8a95-4fbc-a347-7c3a36ad60bb",
      "dx_settings": {
       "ALLOW_NOTEABLE_ATTRS": true,
       "COLUMN_SAMPLING_METHOD": "outer",
       "DB_LOCATION": ":memory:",
       "DEV_MODE": false,
       "DISPLAY_MAX_COLUMNS": 100,
       "DISPLAY_MAX_ROWS": 50000,
       "DISPLAY_MODE": "simple",
       "ENABLE_ASSIGNMENT": true,
       "ENABLE_DATALINK": true,
       "FLATTEN_COLUMN_VALUES": true,
       "FLATTEN_INDEX_VALUES": false,
       "GENERATE_DEX_METADATA": false,
       "HTML_TABLE_SCHEMA": false,
       "LOG_LEVEL": 30,
       "MAX_RENDER_SIZE_BYTES": 104857600,
       "MAX_STRING_LENGTH": 250,
       "NUM_PAST_SAMPLES_TRACKED": 3,
       "RANDOM_STATE": 12648430,
       "RESET_INDEX_VALUES": false,
       "ROW_SAMPLING_METHOD": "random",
       "SAMPLING_FACTOR": 0.1,
       "SAMPLING_METHOD": "random",
       "STRINGIFY_COLUMN_VALUES": true,
       "STRINGIFY_INDEX_VALUES": false
      },
      "sample_history": [],
      "sampling_time": "2023-12-14T14:39:02.593000",
      "user_variable_name": "popular_titles",
      "variable_name": "popular_titles"
     }
    },
    "dx": {
     "dashboard": {
      "multiViews": []
     },
     "fieldMetadata": {},
     "updated": 1702564690630,
     "views": [
      {
       "annotationRules": [],
       "chart": {},
       "chartMode": "grid",
       "confoRules": [],
       "decoration": {
        "footer": "",
        "subtitle": "",
        "title": "Table"
       },
       "facets": [],
       "filterSettings": {
        "SHOW_FILTER_PANEL": true,
        "filters": []
       },
       "id": "first-view",
       "isDefault": true,
       "type": "public",
       "userID": ""
      },
      {
       "annotationRules": [],
       "chart": {
        "tableSparklines": false
       },
       "chartMode": "grid",
       "confoRules": [],
       "decoration": {
        "footer": "",
        "subtitle": "",
        "title": "Table"
       },
       "facets": [],
       "filterSettings": {
        "SHOW_FILTER_PANEL": true,
        "filters": []
       },
       "id": "first-view",
       "isDefault": true,
       "isTransitory": true,
       "type": "public",
       "userID": ""
      }
     ]
    },
    "jupyter": {
     "outputs_hidden": false
    },
    "noteable": {
     "assign_results_to": "popular_titles",
     "cell_type": "sql",
     "db_connection": "@noteable",
     "output_collection_id": "a0b518b4-4dc8-48a4-a05a-0bef4c4cae0a"
    }
   },
   "outputs": [],
   "source": [
    "-- Selecting the most frequent job titles in data field\n",
    "SELECT job_title, COUNT(job_title) AS total_job_postings\n",
    "FROM data_cleaned.csv\n",
    "GROUP BY job_title\n",
    "ORDER BY total_job_postings DESC"
   ]
  },
  {
   "cell_type": "code",
   "execution_count": null,
   "id": "7962c077-cd21-4066-9feb-263410a5b2de",
   "metadata": {
    "ExecuteTime": {
     "end_time": "2023-12-15T10:04:45.029977+00:00",
     "start_time": "2023-12-15T10:04:44.843602+00:00"
    },
    "datalink": {
     "072283c6-17e8-4b8d-852d-cce8b5191456": {
      "applied_filters": [],
      "dataframe_info": {
       "default_index_used": false,
       "orig_num_cols": 1,
       "orig_num_rows": 10,
       "orig_size_bytes": 160,
       "truncated_num_cols": 1,
       "truncated_num_rows": 10,
       "truncated_size_bytes": 160,
       "truncated_string_columns": []
      },
      "display_id": "072283c6-17e8-4b8d-852d-cce8b5191456",
      "dx_settings": {
       "ALLOW_NOTEABLE_ATTRS": true,
       "COLUMN_SAMPLING_METHOD": "outer",
       "DB_LOCATION": ":memory:",
       "DEV_MODE": false,
       "DISPLAY_MAX_COLUMNS": 100,
       "DISPLAY_MAX_ROWS": 50000,
       "DISPLAY_MODE": "simple",
       "ENABLE_ASSIGNMENT": true,
       "ENABLE_DATALINK": true,
       "FLATTEN_COLUMN_VALUES": true,
       "FLATTEN_INDEX_VALUES": false,
       "GENERATE_DEX_METADATA": false,
       "HTML_TABLE_SCHEMA": false,
       "LOG_LEVEL": 30,
       "MAX_RENDER_SIZE_BYTES": 104857600,
       "MAX_STRING_LENGTH": 250,
       "NUM_PAST_SAMPLES_TRACKED": 3,
       "RANDOM_STATE": 12648430,
       "RESET_INDEX_VALUES": false,
       "ROW_SAMPLING_METHOD": "random",
       "SAMPLING_FACTOR": 0.1,
       "SAMPLING_METHOD": "random",
       "STRINGIFY_COLUMN_VALUES": true,
       "STRINGIFY_INDEX_VALUES": false
      },
      "sample_history": [],
      "sampling_time": "2023-12-15T10:04:17.904098",
      "user_variable_name": null,
      "variable_name": "unk_dataframe_a5c0fe8d70a342afbd5bbb664cdafd08"
     },
     "3f62278b-b00c-4c14-813a-2b83d7701c34": {
      "applied_filters": [],
      "dataframe_info": {
       "default_index_used": false,
       "orig_num_cols": 1,
       "orig_num_rows": 10,
       "orig_size_bytes": 985,
       "truncated_num_cols": 1,
       "truncated_num_rows": 10,
       "truncated_size_bytes": 985,
       "truncated_string_columns": []
      },
      "display_id": "3f62278b-b00c-4c14-813a-2b83d7701c34",
      "dx_settings": {
       "ALLOW_NOTEABLE_ATTRS": true,
       "COLUMN_SAMPLING_METHOD": "outer",
       "DB_LOCATION": ":memory:",
       "DEV_MODE": false,
       "DISPLAY_MAX_COLUMNS": 100,
       "DISPLAY_MAX_ROWS": 50000,
       "DISPLAY_MODE": "simple",
       "ENABLE_ASSIGNMENT": true,
       "ENABLE_DATALINK": true,
       "FLATTEN_COLUMN_VALUES": true,
       "FLATTEN_INDEX_VALUES": false,
       "GENERATE_DEX_METADATA": false,
       "HTML_TABLE_SCHEMA": false,
       "LOG_LEVEL": 30,
       "MAX_RENDER_SIZE_BYTES": 104857600,
       "MAX_STRING_LENGTH": 250,
       "NUM_PAST_SAMPLES_TRACKED": 3,
       "RANDOM_STATE": 12648430,
       "RESET_INDEX_VALUES": false,
       "ROW_SAMPLING_METHOD": "random",
       "SAMPLING_FACTOR": 0.1,
       "SAMPLING_METHOD": "random",
       "STRINGIFY_COLUMN_VALUES": true,
       "STRINGIFY_INDEX_VALUES": false
      },
      "sample_history": [],
      "sampling_time": "2023-12-15T10:02:53.945041",
      "user_variable_name": null,
      "variable_name": "unk_dataframe_8a2af2b0d4f2454fa07b926260827df2"
     },
     "c20050e7-7a05-4fd7-b083-59793b59c80c": {
      "applied_filters": [],
      "dataframe_info": {
       "default_index_used": false,
       "orig_num_cols": 1,
       "orig_num_rows": 10,
       "orig_size_bytes": 160,
       "truncated_num_cols": 1,
       "truncated_num_rows": 10,
       "truncated_size_bytes": 160,
       "truncated_string_columns": []
      },
      "display_id": "c20050e7-7a05-4fd7-b083-59793b59c80c",
      "dx_settings": {
       "ALLOW_NOTEABLE_ATTRS": true,
       "COLUMN_SAMPLING_METHOD": "outer",
       "DB_LOCATION": ":memory:",
       "DEV_MODE": false,
       "DISPLAY_MAX_COLUMNS": 100,
       "DISPLAY_MAX_ROWS": 50000,
       "DISPLAY_MODE": "simple",
       "ENABLE_ASSIGNMENT": true,
       "ENABLE_DATALINK": true,
       "FLATTEN_COLUMN_VALUES": true,
       "FLATTEN_INDEX_VALUES": false,
       "GENERATE_DEX_METADATA": false,
       "HTML_TABLE_SCHEMA": false,
       "LOG_LEVEL": 30,
       "MAX_RENDER_SIZE_BYTES": 104857600,
       "MAX_STRING_LENGTH": 250,
       "NUM_PAST_SAMPLES_TRACKED": 3,
       "RANDOM_STATE": 12648430,
       "RESET_INDEX_VALUES": false,
       "ROW_SAMPLING_METHOD": "random",
       "SAMPLING_FACTOR": 0.1,
       "SAMPLING_METHOD": "random",
       "STRINGIFY_COLUMN_VALUES": true,
       "STRINGIFY_INDEX_VALUES": false
      },
      "sample_history": [],
      "sampling_time": "2023-12-15T10:04:03.001129",
      "user_variable_name": null,
      "variable_name": "unk_dataframe_3f9aebae2e5e44758126002fb8837d32"
     },
     "d313a58e-ea20-4391-827a-82b530bacdd9": {
      "applied_filters": [],
      "dataframe_info": {
       "default_index_used": false,
       "orig_num_cols": 1,
       "orig_num_rows": 10,
       "orig_size_bytes": 985,
       "truncated_num_cols": 1,
       "truncated_num_rows": 10,
       "truncated_size_bytes": 985,
       "truncated_string_columns": []
      },
      "display_id": "d313a58e-ea20-4391-827a-82b530bacdd9",
      "dx_settings": {
       "ALLOW_NOTEABLE_ATTRS": true,
       "COLUMN_SAMPLING_METHOD": "outer",
       "DB_LOCATION": ":memory:",
       "DEV_MODE": false,
       "DISPLAY_MAX_COLUMNS": 100,
       "DISPLAY_MAX_ROWS": 50000,
       "DISPLAY_MODE": "simple",
       "ENABLE_ASSIGNMENT": true,
       "ENABLE_DATALINK": true,
       "FLATTEN_COLUMN_VALUES": true,
       "FLATTEN_INDEX_VALUES": false,
       "GENERATE_DEX_METADATA": false,
       "HTML_TABLE_SCHEMA": false,
       "LOG_LEVEL": 30,
       "MAX_RENDER_SIZE_BYTES": 104857600,
       "MAX_STRING_LENGTH": 250,
       "NUM_PAST_SAMPLES_TRACKED": 3,
       "RANDOM_STATE": 12648430,
       "RESET_INDEX_VALUES": false,
       "ROW_SAMPLING_METHOD": "random",
       "SAMPLING_FACTOR": 0.1,
       "SAMPLING_METHOD": "random",
       "STRINGIFY_COLUMN_VALUES": true,
       "STRINGIFY_INDEX_VALUES": false
      },
      "sample_history": [],
      "sampling_time": "2023-12-15T10:03:20.329904",
      "user_variable_name": null,
      "variable_name": "unk_dataframe_f851f5b756194a4690ec4f3bc0cdbcad"
     },
     "d78f19fa-a476-471f-9afe-b837b9f1e789": {
      "applied_filters": [],
      "dataframe_info": {
       "default_index_used": false,
       "orig_num_cols": 1,
       "orig_num_rows": 10,
       "orig_size_bytes": 985,
       "truncated_num_cols": 1,
       "truncated_num_rows": 10,
       "truncated_size_bytes": 985,
       "truncated_string_columns": []
      },
      "display_id": "d78f19fa-a476-471f-9afe-b837b9f1e789",
      "dx_settings": {
       "ALLOW_NOTEABLE_ATTRS": true,
       "COLUMN_SAMPLING_METHOD": "outer",
       "DB_LOCATION": ":memory:",
       "DEV_MODE": false,
       "DISPLAY_MAX_COLUMNS": 100,
       "DISPLAY_MAX_ROWS": 50000,
       "DISPLAY_MODE": "simple",
       "ENABLE_ASSIGNMENT": true,
       "ENABLE_DATALINK": true,
       "FLATTEN_COLUMN_VALUES": true,
       "FLATTEN_INDEX_VALUES": false,
       "GENERATE_DEX_METADATA": false,
       "HTML_TABLE_SCHEMA": false,
       "LOG_LEVEL": 30,
       "MAX_RENDER_SIZE_BYTES": 104857600,
       "MAX_STRING_LENGTH": 250,
       "NUM_PAST_SAMPLES_TRACKED": 3,
       "RANDOM_STATE": 12648430,
       "RESET_INDEX_VALUES": false,
       "ROW_SAMPLING_METHOD": "random",
       "SAMPLING_FACTOR": 0.1,
       "SAMPLING_METHOD": "random",
       "STRINGIFY_COLUMN_VALUES": true,
       "STRINGIFY_INDEX_VALUES": false
      },
      "sample_history": [],
      "sampling_time": "2023-12-15T10:03:25.979125",
      "user_variable_name": null,
      "variable_name": "unk_dataframe_48492437708841a88b186d699fdd4d01"
     }
    },
    "noteable": {
     "cell_type": "python",
     "output_collection_id": "47ded9ad-4300-427b-b2e0-69733a47e041"
    }
   },
   "outputs": [],
   "source": [
    "#popular_titles.to_csv('popular_job_titles.csv')\n",
    "#job_titles_pct = df['job_title'].value_counts(normalize=True).round(5)\n",
    "#job_titles_pct.to_csv('popular_job_titles_pct.csv')"
   ]
  },
  {
   "cell_type": "code",
   "execution_count": null,
   "id": "97984c38-35e5-47ca-ac6e-46d37d0d703c",
   "metadata": {
    "ExecuteTime": {
     "end_time": "2023-12-15T10:08:53.815694+00:00",
     "start_time": "2023-12-15T10:08:53.631901+00:00"
    },
    "datalink": {
     "3160c8eb-3634-48cf-bb98-128a2b01e0db": {
      "applied_filters": [],
      "dataframe_info": {
       "default_index_used": false,
       "orig_num_cols": 1,
       "orig_num_rows": 10,
       "orig_size_bytes": 160,
       "truncated_num_cols": 1,
       "truncated_num_rows": 10,
       "truncated_size_bytes": 160,
       "truncated_string_columns": []
      },
      "display_id": "3160c8eb-3634-48cf-bb98-128a2b01e0db",
      "dx_settings": {
       "ALLOW_NOTEABLE_ATTRS": true,
       "COLUMN_SAMPLING_METHOD": "outer",
       "DB_LOCATION": ":memory:",
       "DEV_MODE": false,
       "DISPLAY_MAX_COLUMNS": 100,
       "DISPLAY_MAX_ROWS": 50000,
       "DISPLAY_MODE": "simple",
       "ENABLE_ASSIGNMENT": true,
       "ENABLE_DATALINK": true,
       "FLATTEN_COLUMN_VALUES": true,
       "FLATTEN_INDEX_VALUES": false,
       "GENERATE_DEX_METADATA": false,
       "HTML_TABLE_SCHEMA": false,
       "LOG_LEVEL": 30,
       "MAX_RENDER_SIZE_BYTES": 104857600,
       "MAX_STRING_LENGTH": 250,
       "NUM_PAST_SAMPLES_TRACKED": 3,
       "RANDOM_STATE": 12648430,
       "RESET_INDEX_VALUES": false,
       "ROW_SAMPLING_METHOD": "random",
       "SAMPLING_FACTOR": 0.1,
       "SAMPLING_METHOD": "random",
       "STRINGIFY_COLUMN_VALUES": true,
       "STRINGIFY_INDEX_VALUES": false
      },
      "sample_history": [],
      "sampling_time": "2023-12-15T10:06:58.021486",
      "user_variable_name": null,
      "variable_name": "unk_dataframe_b6f8dc6fa86f4affb48e7b9831438512"
     },
     "72f6170b-68ea-4003-9cec-968a8107d2ee": {
      "applied_filters": [],
      "dataframe_info": {
       "default_index_used": false,
       "orig_num_cols": 1,
       "orig_num_rows": 4429,
       "orig_size_bytes": 70864,
       "truncated_num_cols": 1,
       "truncated_num_rows": 4429,
       "truncated_size_bytes": 70864,
       "truncated_string_columns": []
      },
      "display_id": "72f6170b-68ea-4003-9cec-968a8107d2ee",
      "dx_settings": {
       "ALLOW_NOTEABLE_ATTRS": true,
       "COLUMN_SAMPLING_METHOD": "outer",
       "DB_LOCATION": ":memory:",
       "DEV_MODE": false,
       "DISPLAY_MAX_COLUMNS": 100,
       "DISPLAY_MAX_ROWS": 50000,
       "DISPLAY_MODE": "simple",
       "ENABLE_ASSIGNMENT": true,
       "ENABLE_DATALINK": true,
       "FLATTEN_COLUMN_VALUES": true,
       "FLATTEN_INDEX_VALUES": false,
       "GENERATE_DEX_METADATA": false,
       "HTML_TABLE_SCHEMA": false,
       "LOG_LEVEL": 30,
       "MAX_RENDER_SIZE_BYTES": 104857600,
       "MAX_STRING_LENGTH": 250,
       "NUM_PAST_SAMPLES_TRACKED": 3,
       "RANDOM_STATE": 12648430,
       "RESET_INDEX_VALUES": false,
       "ROW_SAMPLING_METHOD": "random",
       "SAMPLING_FACTOR": 0.1,
       "SAMPLING_METHOD": "random",
       "STRINGIFY_COLUMN_VALUES": true,
       "STRINGIFY_INDEX_VALUES": false
      },
      "sample_history": [],
      "sampling_time": "2023-12-15T10:06:44.170524",
      "user_variable_name": null,
      "variable_name": "unk_dataframe_bfc3e3ec1daa4697bd85cfbc9cd2ae56"
     },
     "7350bdfb-371c-45bb-9570-3025b4776911": {
      "applied_filters": [],
      "dataframe_info": {
       "default_index_used": false,
       "orig_num_cols": 1,
       "orig_num_rows": 10,
       "orig_size_bytes": 160,
       "truncated_num_cols": 1,
       "truncated_num_rows": 10,
       "truncated_size_bytes": 160,
       "truncated_string_columns": []
      },
      "display_id": "7350bdfb-371c-45bb-9570-3025b4776911",
      "dx_settings": {
       "ALLOW_NOTEABLE_ATTRS": true,
       "COLUMN_SAMPLING_METHOD": "outer",
       "DB_LOCATION": ":memory:",
       "DEV_MODE": false,
       "DISPLAY_MAX_COLUMNS": 100,
       "DISPLAY_MAX_ROWS": 50000,
       "DISPLAY_MODE": "simple",
       "ENABLE_ASSIGNMENT": true,
       "ENABLE_DATALINK": true,
       "FLATTEN_COLUMN_VALUES": true,
       "FLATTEN_INDEX_VALUES": false,
       "GENERATE_DEX_METADATA": false,
       "HTML_TABLE_SCHEMA": false,
       "LOG_LEVEL": 30,
       "MAX_RENDER_SIZE_BYTES": 104857600,
       "MAX_STRING_LENGTH": 250,
       "NUM_PAST_SAMPLES_TRACKED": 3,
       "RANDOM_STATE": 12648430,
       "RESET_INDEX_VALUES": false,
       "ROW_SAMPLING_METHOD": "random",
       "SAMPLING_FACTOR": 0.1,
       "SAMPLING_METHOD": "random",
       "STRINGIFY_COLUMN_VALUES": true,
       "STRINGIFY_INDEX_VALUES": false
      },
      "sample_history": [],
      "sampling_time": "2023-12-15T10:08:40.153788",
      "user_variable_name": null,
      "variable_name": "unk_dataframe_1caa12a5d16c421fa4ce74536771973e"
     },
     "bb31b82a-3d55-4925-9b18-8f8297715ae1": {
      "applied_filters": [],
      "dataframe_info": {
       "default_index_used": false,
       "orig_num_cols": 1,
       "orig_num_rows": 10,
       "orig_size_bytes": 160,
       "truncated_num_cols": 1,
       "truncated_num_rows": 10,
       "truncated_size_bytes": 160,
       "truncated_string_columns": []
      },
      "display_id": "bb31b82a-3d55-4925-9b18-8f8297715ae1",
      "dx_settings": {
       "ALLOW_NOTEABLE_ATTRS": true,
       "COLUMN_SAMPLING_METHOD": "outer",
       "DB_LOCATION": ":memory:",
       "DEV_MODE": false,
       "DISPLAY_MAX_COLUMNS": 100,
       "DISPLAY_MAX_ROWS": 50000,
       "DISPLAY_MODE": "simple",
       "ENABLE_ASSIGNMENT": true,
       "ENABLE_DATALINK": true,
       "FLATTEN_COLUMN_VALUES": true,
       "FLATTEN_INDEX_VALUES": false,
       "GENERATE_DEX_METADATA": false,
       "HTML_TABLE_SCHEMA": false,
       "LOG_LEVEL": 30,
       "MAX_RENDER_SIZE_BYTES": 104857600,
       "MAX_STRING_LENGTH": 250,
       "NUM_PAST_SAMPLES_TRACKED": 3,
       "RANDOM_STATE": 12648430,
       "RESET_INDEX_VALUES": false,
       "ROW_SAMPLING_METHOD": "random",
       "SAMPLING_FACTOR": 0.1,
       "SAMPLING_METHOD": "random",
       "STRINGIFY_COLUMN_VALUES": true,
       "STRINGIFY_INDEX_VALUES": false
      },
      "sample_history": [],
      "sampling_time": "2023-12-15T10:08:32.439653",
      "user_variable_name": null,
      "variable_name": "unk_dataframe_d6e4cf791433444093a409938fd579f8"
     }
    },
    "jupyter": {
     "outputs_hidden": false,
     "source_hidden": false
    },
    "noteable": {
     "cell_type": "code",
     "output_collection_id": "4a9f5172-e5c8-473a-b555-99266f5e7791"
    }
   },
   "outputs": [],
   "source": [
    "#job_platforms = df['job_platform'].value_counts(normalize=False).head(10)\n",
    "#job_platforms.to_csv('popular_job_platforms.csv')"
   ]
  },
  {
   "cell_type": "code",
   "execution_count": 72,
   "id": "09773b51-a4c6-4042-b56c-8ebd2c40bb44",
   "metadata": {
    "ExecuteTime": {
     "end_time": "2023-12-15T11:56:00.039021+00:00",
     "start_time": "2023-12-15T11:55:59.587168+00:00"
    },
    "jupyter": {
     "outputs_hidden": false
    },
    "noteable": {
     "cell_type": "python",
     "output_collection_id": "b8745005-bf9f-4e68-b2ed-4d9f972a3231"
    }
   },
   "outputs": [
    {
     "data": {
      "image/png": "[encoded data removed]",
      "text/plain": [
       "<Figure size 1800x1100 with 1 Axes>"
      ]
     },
     "metadata": {},
     "output_type": "display_data"
    }
   ],
   "source": [
    "# Plotting a bar chart for the most frequent job titles\n",
    "\n",
    "# Sorting the DataFrame by 'total_job_postings' in descending order for a horizontal bar graph\n",
    "#df_sorted = popular_titles.sort_values('total_job_postings', ascending=False)\n",
    "\n",
    "# !!! for dark theme use:\n",
    "sns.set(style=\"dark\")\n",
    "plt.style.use(\"dark_background\")\n",
    "\n",
    "plt.figure(figsize=(18,11))\n",
    "palette = sns.color_palette('RdPu_r', n_colors=12) \n",
    "\n",
    "sns.barplot(x='total_job_postings', y='job_title', data=df_jobs, palette=palette, edgecolor='black')\n",
    "plt.title('Most Frequent Job Titles In Data Field', fontsize = 24, color='#d896ff')\n",
    "plt.xlabel('Number of Job Listings', fontsize = 20, color='#d896ff')\n",
    "plt.xticks(fontsize=20, color='#d896ff')\n",
    "plt.yticks(fontsize=14, color='#d896ff')\n",
    "plt.ylabel('')\n",
    "\n",
    "#plt.savefig('../graphs/9.1.3_all_skills_combined_pct.png')\n",
    "\n",
    "plt.show()\n"
   ]
  },
  {
   "cell_type": "markdown",
   "id": "df1f29dc-dbf5-4f9f-9507-4c741ffd13fa",
   "metadata": {
    "noteable": {
     "cell_type": "markdown"
    }
   },
   "source": [
    "## Leading Job Platforms for Data Careers: What are the Most Commonly Used Job Platforms?\n",
    "Analyze which online platforms are most commonly used for posting data-related job vacancies, indicating where job seekers are most likely to find these opportunities."
   ]
  },
  {
   "cell_type": "code",
   "execution_count": null,
   "id": "28cfd322-8e42-49c7-8aef-b20e453f22d1",
   "metadata": {
    "ExecuteTime": {
     "end_time": "2023-12-14T21:00:47.891776+00:00",
     "start_time": "2023-12-14T21:00:45.933236+00:00"
    },
    "datalink": {
     "43d04ee3-6190-4c59-b8af-b3b0bd3f4f35": {
      "applied_filters": [],
      "dataframe_info": {
       "default_index_used": true,
       "orig_num_cols": 2,
       "orig_num_rows": 10,
       "orig_size_bytes": 240,
       "truncated_num_cols": 2,
       "truncated_num_rows": 10,
       "truncated_size_bytes": 240,
       "truncated_string_columns": []
      },
      "display_id": "43d04ee3-6190-4c59-b8af-b3b0bd3f4f35",
      "dx_settings": {
       "ALLOW_NOTEABLE_ATTRS": true,
       "COLUMN_SAMPLING_METHOD": "outer",
       "DB_LOCATION": ":memory:",
       "DEV_MODE": false,
       "DISPLAY_MAX_COLUMNS": 100,
       "DISPLAY_MAX_ROWS": 50000,
       "DISPLAY_MODE": "simple",
       "ENABLE_ASSIGNMENT": true,
       "ENABLE_DATALINK": true,
       "FLATTEN_COLUMN_VALUES": true,
       "FLATTEN_INDEX_VALUES": false,
       "GENERATE_DEX_METADATA": false,
       "HTML_TABLE_SCHEMA": false,
       "LOG_LEVEL": 30,
       "MAX_RENDER_SIZE_BYTES": 104857600,
       "MAX_STRING_LENGTH": 250,
       "NUM_PAST_SAMPLES_TRACKED": 3,
       "RANDOM_STATE": 12648430,
       "RESET_INDEX_VALUES": false,
       "ROW_SAMPLING_METHOD": "random",
       "SAMPLING_FACTOR": 0.1,
       "SAMPLING_METHOD": "random",
       "STRINGIFY_COLUMN_VALUES": true,
       "STRINGIFY_INDEX_VALUES": false
      },
      "sample_history": [],
      "sampling_time": "2023-12-14T21:00:47.731823",
      "user_variable_name": "job_platforms",
      "variable_name": "job_platforms"
     },
     "914680e9-03c8-44c2-a42f-3ac3ce8850d4": {
      "applied_filters": [],
      "dataframe_info": {
       "default_index_used": true,
       "orig_num_cols": 2,
       "orig_num_rows": 10,
       "orig_size_bytes": 240,
       "truncated_num_cols": 2,
       "truncated_num_rows": 10,
       "truncated_size_bytes": 240,
       "truncated_string_columns": []
      },
      "display_id": "914680e9-03c8-44c2-a42f-3ac3ce8850d4",
      "dx_settings": {
       "ALLOW_NOTEABLE_ATTRS": true,
       "COLUMN_SAMPLING_METHOD": "outer",
       "DB_LOCATION": ":memory:",
       "DEV_MODE": false,
       "DISPLAY_MAX_COLUMNS": 100,
       "DISPLAY_MAX_ROWS": 50000,
       "DISPLAY_MODE": "simple",
       "ENABLE_ASSIGNMENT": true,
       "ENABLE_DATALINK": true,
       "FLATTEN_COLUMN_VALUES": true,
       "FLATTEN_INDEX_VALUES": false,
       "GENERATE_DEX_METADATA": false,
       "HTML_TABLE_SCHEMA": false,
       "LOG_LEVEL": 30,
       "MAX_RENDER_SIZE_BYTES": 104857600,
       "MAX_STRING_LENGTH": 250,
       "NUM_PAST_SAMPLES_TRACKED": 3,
       "RANDOM_STATE": 12648430,
       "RESET_INDEX_VALUES": false,
       "ROW_SAMPLING_METHOD": "random",
       "SAMPLING_FACTOR": 0.1,
       "SAMPLING_METHOD": "random",
       "STRINGIFY_COLUMN_VALUES": true,
       "STRINGIFY_INDEX_VALUES": false
      },
      "sample_history": [],
      "sampling_time": "2023-12-14T19:53:22.527942",
      "user_variable_name": "job_platforms",
      "variable_name": "job_platforms"
     },
     "9e6d3f6c-38a3-4965-8bd2-f3832a01d24d": {
      "applied_filters": [],
      "dataframe_info": {
       "default_index_used": true,
       "orig_num_cols": 2,
       "orig_num_rows": 4430,
       "orig_size_bytes": 106320,
       "truncated_num_cols": 2,
       "truncated_num_rows": 4430,
       "truncated_size_bytes": 106320,
       "truncated_string_columns": []
      },
      "display_id": "9e6d3f6c-38a3-4965-8bd2-f3832a01d24d",
      "dx_settings": {
       "ALLOW_NOTEABLE_ATTRS": true,
       "COLUMN_SAMPLING_METHOD": "outer",
       "DB_LOCATION": ":memory:",
       "DEV_MODE": false,
       "DISPLAY_MAX_COLUMNS": 100,
       "DISPLAY_MAX_ROWS": 50000,
       "DISPLAY_MODE": "simple",
       "ENABLE_ASSIGNMENT": true,
       "ENABLE_DATALINK": true,
       "FLATTEN_COLUMN_VALUES": true,
       "FLATTEN_INDEX_VALUES": false,
       "GENERATE_DEX_METADATA": false,
       "HTML_TABLE_SCHEMA": false,
       "LOG_LEVEL": 30,
       "MAX_RENDER_SIZE_BYTES": 104857600,
       "MAX_STRING_LENGTH": 250,
       "NUM_PAST_SAMPLES_TRACKED": 3,
       "RANDOM_STATE": 12648430,
       "RESET_INDEX_VALUES": false,
       "ROW_SAMPLING_METHOD": "random",
       "SAMPLING_FACTOR": 0.1,
       "SAMPLING_METHOD": "random",
       "STRINGIFY_COLUMN_VALUES": true,
       "STRINGIFY_INDEX_VALUES": false
      },
      "sample_history": [],
      "sampling_time": "2023-12-14T17:56:28.322037",
      "user_variable_name": "job_platforms",
      "variable_name": "job_platforms"
     },
     "be9ab086-bbec-46ca-8530-c77176b21e7c": {
      "applied_filters": [],
      "dataframe_info": {
       "default_index_used": true,
       "orig_num_cols": 2,
       "orig_num_rows": 4430,
       "orig_size_bytes": 106320,
       "truncated_num_cols": 2,
       "truncated_num_rows": 4430,
       "truncated_size_bytes": 106320,
       "truncated_string_columns": []
      },
      "display_id": "be9ab086-bbec-46ca-8530-c77176b21e7c",
      "dx_settings": {
       "ALLOW_NOTEABLE_ATTRS": true,
       "COLUMN_SAMPLING_METHOD": "outer",
       "DB_LOCATION": ":memory:",
       "DEV_MODE": false,
       "DISPLAY_MAX_COLUMNS": 100,
       "DISPLAY_MAX_ROWS": 50000,
       "DISPLAY_MODE": "simple",
       "ENABLE_ASSIGNMENT": true,
       "ENABLE_DATALINK": true,
       "FLATTEN_COLUMN_VALUES": true,
       "FLATTEN_INDEX_VALUES": false,
       "GENERATE_DEX_METADATA": false,
       "HTML_TABLE_SCHEMA": false,
       "LOG_LEVEL": 30,
       "MAX_RENDER_SIZE_BYTES": 104857600,
       "MAX_STRING_LENGTH": 250,
       "NUM_PAST_SAMPLES_TRACKED": 3,
       "RANDOM_STATE": 12648430,
       "RESET_INDEX_VALUES": false,
       "ROW_SAMPLING_METHOD": "random",
       "SAMPLING_FACTOR": 0.1,
       "SAMPLING_METHOD": "random",
       "STRINGIFY_COLUMN_VALUES": true,
       "STRINGIFY_INDEX_VALUES": false
      },
      "sample_history": [],
      "sampling_time": "2023-12-14T16:23:57.264253",
      "user_variable_name": "job_platforms",
      "variable_name": "job_platforms"
     },
     "f031b7c5-be32-4cb1-bb6d-1085fbef2e01": {
      "applied_filters": [],
      "dataframe_info": {
       "default_index_used": true,
       "orig_num_cols": 2,
       "orig_num_rows": 10,
       "orig_size_bytes": 240,
       "truncated_num_cols": 2,
       "truncated_num_rows": 10,
       "truncated_size_bytes": 240,
       "truncated_string_columns": []
      },
      "display_id": "f031b7c5-be32-4cb1-bb6d-1085fbef2e01",
      "dx_settings": {
       "ALLOW_NOTEABLE_ATTRS": true,
       "COLUMN_SAMPLING_METHOD": "outer",
       "DB_LOCATION": ":memory:",
       "DEV_MODE": false,
       "DISPLAY_MAX_COLUMNS": 100,
       "DISPLAY_MAX_ROWS": 50000,
       "DISPLAY_MODE": "simple",
       "ENABLE_ASSIGNMENT": true,
       "ENABLE_DATALINK": true,
       "FLATTEN_COLUMN_VALUES": true,
       "FLATTEN_INDEX_VALUES": false,
       "GENERATE_DEX_METADATA": false,
       "HTML_TABLE_SCHEMA": false,
       "LOG_LEVEL": 30,
       "MAX_RENDER_SIZE_BYTES": 104857600,
       "MAX_STRING_LENGTH": 250,
       "NUM_PAST_SAMPLES_TRACKED": 3,
       "RANDOM_STATE": 12648430,
       "RESET_INDEX_VALUES": false,
       "ROW_SAMPLING_METHOD": "random",
       "SAMPLING_FACTOR": 0.1,
       "SAMPLING_METHOD": "random",
       "STRINGIFY_COLUMN_VALUES": true,
       "STRINGIFY_INDEX_VALUES": false
      },
      "sample_history": [],
      "sampling_time": "2023-12-14T18:01:03.531081",
      "user_variable_name": "job_platforms",
      "variable_name": "job_platforms"
     }
    },
    "dx": {
     "fieldMetadata": {},
     "simpleTable": true,
     "updated": 1702583951188,
     "views": []
    },
    "jupyter": {
     "outputs_hidden": false
    },
    "noteable": {
     "assign_results_to": "job_platforms",
     "cell_type": "sql",
     "db_connection": "@noteable",
     "output_collection_id": "f33493e2-4c37-4c4f-b14d-06226d774467"
    }
   },
   "outputs": [],
   "source": [
    "SELECT job_platform, COUNT (job_platform) AS total_job_platforms\n",
    "FROM data_cleaned.csv\n",
    "GROUP BY job_platform\n",
    "ORDER BY total_job_platforms DESC\n",
    "LIMIT 10"
   ]
  },
  {
   "cell_type": "code",
   "execution_count": 73,
   "id": "c752fc41",
   "metadata": {},
   "outputs": [
    {
     "data": {
      "text/html": [
       "<div>\n",
       "<style scoped>\n",
       "    .dataframe tbody tr th:only-of-type {\n",
       "        vertical-align: middle;\n",
       "    }\n",
       "\n",
       "    .dataframe tbody tr th {\n",
       "        vertical-align: top;\n",
       "    }\n",
       "\n",
       "    .dataframe thead th {\n",
       "        text-align: right;\n",
       "    }\n",
       "</style>\n",
       "<table border=\"1\" class=\"dataframe\">\n",
       "  <thead>\n",
       "    <tr style=\"text-align: right;\">\n",
       "      <th></th>\n",
       "      <th>job_platform</th>\n",
       "      <th>job_posts</th>\n",
       "    </tr>\n",
       "  </thead>\n",
       "  <tbody>\n",
       "    <tr>\n",
       "      <th>0</th>\n",
       "      <td>LinkedIn</td>\n",
       "      <td>121690</td>\n",
       "    </tr>\n",
       "    <tr>\n",
       "      <th>1</th>\n",
       "      <td>BeBee</td>\n",
       "      <td>48370</td>\n",
       "    </tr>\n",
       "    <tr>\n",
       "      <th>2</th>\n",
       "      <td>Indeed</td>\n",
       "      <td>28170</td>\n",
       "    </tr>\n",
       "    <tr>\n",
       "      <th>3</th>\n",
       "      <td>Trabajo.org</td>\n",
       "      <td>22126</td>\n",
       "    </tr>\n",
       "    <tr>\n",
       "      <th>4</th>\n",
       "      <td>Recruit.net</td>\n",
       "      <td>17946</td>\n",
       "    </tr>\n",
       "    <tr>\n",
       "      <th>5</th>\n",
       "      <td>ZipRecruiter</td>\n",
       "      <td>17373</td>\n",
       "    </tr>\n",
       "    <tr>\n",
       "      <th>6</th>\n",
       "      <td>Snagajob</td>\n",
       "      <td>13834</td>\n",
       "    </tr>\n",
       "    <tr>\n",
       "      <th>7</th>\n",
       "      <td>BeBee India</td>\n",
       "      <td>8908</td>\n",
       "    </tr>\n",
       "    <tr>\n",
       "      <th>8</th>\n",
       "      <td>BeBee Singapore</td>\n",
       "      <td>6976</td>\n",
       "    </tr>\n",
       "    <tr>\n",
       "      <th>9</th>\n",
       "      <td>Monster</td>\n",
       "      <td>6075</td>\n",
       "    </tr>\n",
       "  </tbody>\n",
       "</table>\n",
       "</div>"
      ],
      "text/plain": [
       "      job_platform  job_posts\n",
       "0         LinkedIn     121690\n",
       "1            BeBee      48370\n",
       "2           Indeed      28170\n",
       "3      Trabajo.org      22126\n",
       "4      Recruit.net      17946\n",
       "5     ZipRecruiter      17373\n",
       "6         Snagajob      13834\n",
       "7      BeBee India       8908\n",
       "8  BeBee Singapore       6976\n",
       "9          Monster       6075"
      ]
     },
     "execution_count": 73,
     "metadata": {},
     "output_type": "execute_result"
    }
   ],
   "source": [
    "df_platforms = pd.read_csv('../exported data/3_popular_job_platforms.csv')\n",
    "df_platforms.head(10)"
   ]
  },
  {
   "cell_type": "code",
   "execution_count": 89,
   "id": "1ff08dee-2b4c-4728-ad49-4df68fc3b02f",
   "metadata": {
    "ExecuteTime": {
     "end_time": "2023-12-14T21:00:51.255123+00:00",
     "start_time": "2023-12-14T21:00:50.727683+00:00"
    },
    "jupyter": {
     "outputs_hidden": false,
     "source_hidden": false
    },
    "noteable": {
     "cell_type": "code",
     "output_collection_id": "8ed76b42-2d21-4f40-ac3a-464facab6ff2"
    }
   },
   "outputs": [
    {
     "data": {
      "image/png": "[encoded data removed]",
      "text/plain": [
       "<Figure size 1600x1000 with 1 Axes>"
      ]
     },
     "metadata": {},
     "output_type": "display_data"
    }
   ],
   "source": [
    "# Plotting a bar chart for the most frequent job platforms\n",
    "\n",
    "sns.set(style=\"dark\")\n",
    "plt.style.use(\"dark_background\")\n",
    "\n",
    "plt.figure(figsize=(16,10))\n",
    "palette = sns.color_palette('winter', n_colors=12) \n",
    "\n",
    "sns.barplot(x='job_posts', y='job_platform', data=df_platforms, palette=palette, edgecolor='black')\n",
    "plt.title('Most Popular Job Platforms For Jobs In Data Field', fontsize = 24, color='#b3cde0')\n",
    "plt.xlabel('Number of Job Posts', fontsize = 20, color='#b3cde0')\n",
    "plt.xticks(fontsize=20, color='#b3cde0')\n",
    "plt.yticks(fontsize=15, color='#b3cde0')\n",
    "plt.ylabel('')\n",
    "\n",
    "#plt.savefig('../graphs/2_popular_job_platforms.png')\n",
    "\n",
    "plt.show()\n"
   ]
  },
  {
   "cell_type": "markdown",
   "id": "3b196869-e0d9-43f3-8d30-4d7f2f05fa4f",
   "metadata": {
    "noteable": {
     "cell_type": "markdown"
    }
   },
   "source": [
    "## Essential Skills for Data Jobs: What are the Most On-Demand Skills in Data Jobs?\n",
    "Extract and prioritize the key skills and qualifications mentioned across job listings to highlight the most in-demand competencies for data professionals."
   ]
  },
  {
   "cell_type": "code",
   "execution_count": null,
   "id": "fb1eb657-4946-4061-bcf9-018c327f4121",
   "metadata": {
    "ExecuteTime": {
     "end_time": "2023-12-15T10:09:50.980900+00:00",
     "start_time": "2023-12-15T10:09:47.861468+00:00"
    },
    "datalink": {
     "33a4ae1e-63a6-4c58-b713-a8994879f484": {
      "applied_filters": [],
      "dataframe_info": {
       "default_index_used": false,
       "orig_num_cols": 1,
       "orig_num_rows": 20,
       "orig_size_bytes": 320,
       "truncated_num_cols": 1,
       "truncated_num_rows": 20,
       "truncated_size_bytes": 320,
       "truncated_string_columns": []
      },
      "display_id": "33a4ae1e-63a6-4c58-b713-a8994879f484",
      "dx_settings": {
       "ALLOW_NOTEABLE_ATTRS": true,
       "COLUMN_SAMPLING_METHOD": "outer",
       "DB_LOCATION": ":memory:",
       "DEV_MODE": false,
       "DISPLAY_MAX_COLUMNS": 100,
       "DISPLAY_MAX_ROWS": 50000,
       "DISPLAY_MODE": "simple",
       "ENABLE_ASSIGNMENT": true,
       "ENABLE_DATALINK": true,
       "FLATTEN_COLUMN_VALUES": true,
       "FLATTEN_INDEX_VALUES": false,
       "GENERATE_DEX_METADATA": false,
       "HTML_TABLE_SCHEMA": false,
       "LOG_LEVEL": 30,
       "MAX_RENDER_SIZE_BYTES": 104857600,
       "MAX_STRING_LENGTH": 250,
       "NUM_PAST_SAMPLES_TRACKED": 3,
       "RANDOM_STATE": 12648430,
       "RESET_INDEX_VALUES": false,
       "ROW_SAMPLING_METHOD": "random",
       "SAMPLING_FACTOR": 0.1,
       "SAMPLING_METHOD": "random",
       "STRINGIFY_COLUMN_VALUES": true,
       "STRINGIFY_INDEX_VALUES": false
      },
      "sample_history": [],
      "sampling_time": "2023-12-14T20:05:50.771119",
      "user_variable_name": null,
      "variable_name": "unk_dataframe_f0229fd3e93342448c2945772e9af90d"
     },
     "9240293e-c859-4402-8d78-11be22b38f33": {
      "applied_filters": [],
      "dataframe_info": {
       "default_index_used": false,
       "orig_num_cols": 1,
       "orig_num_rows": 249,
       "orig_size_bytes": 3984,
       "truncated_num_cols": 1,
       "truncated_num_rows": 249,
       "truncated_size_bytes": 3984,
       "truncated_string_columns": []
      },
      "display_id": "9240293e-c859-4402-8d78-11be22b38f33",
      "dx_settings": {
       "ALLOW_NOTEABLE_ATTRS": true,
       "COLUMN_SAMPLING_METHOD": "outer",
       "DB_LOCATION": ":memory:",
       "DEV_MODE": false,
       "DISPLAY_MAX_COLUMNS": 100,
       "DISPLAY_MAX_ROWS": 50000,
       "DISPLAY_MODE": "simple",
       "ENABLE_ASSIGNMENT": true,
       "ENABLE_DATALINK": true,
       "FLATTEN_COLUMN_VALUES": true,
       "FLATTEN_INDEX_VALUES": false,
       "GENERATE_DEX_METADATA": false,
       "HTML_TABLE_SCHEMA": false,
       "LOG_LEVEL": 30,
       "MAX_RENDER_SIZE_BYTES": 104857600,
       "MAX_STRING_LENGTH": 250,
       "NUM_PAST_SAMPLES_TRACKED": 3,
       "RANDOM_STATE": 12648430,
       "RESET_INDEX_VALUES": false,
       "ROW_SAMPLING_METHOD": "random",
       "SAMPLING_FACTOR": 0.1,
       "SAMPLING_METHOD": "random",
       "STRINGIFY_COLUMN_VALUES": true,
       "STRINGIFY_INDEX_VALUES": false
      },
      "sample_history": [],
      "sampling_time": "2023-12-14T20:07:03.180258",
      "user_variable_name": "skill_frequency",
      "variable_name": "skill_frequency"
     },
     "bcf312fe-8919-41de-a6f7-f02285f6691f": {
      "applied_filters": [],
      "dataframe_info": {
       "default_index_used": false,
       "orig_num_cols": 1,
       "orig_num_rows": 249,
       "orig_size_bytes": 3984,
       "truncated_num_cols": 1,
       "truncated_num_rows": 249,
       "truncated_size_bytes": 3984,
       "truncated_string_columns": []
      },
      "display_id": "bcf312fe-8919-41de-a6f7-f02285f6691f",
      "dx_settings": {
       "ALLOW_NOTEABLE_ATTRS": true,
       "COLUMN_SAMPLING_METHOD": "outer",
       "DB_LOCATION": ":memory:",
       "DEV_MODE": false,
       "DISPLAY_MAX_COLUMNS": 100,
       "DISPLAY_MAX_ROWS": 50000,
       "DISPLAY_MODE": "simple",
       "ENABLE_ASSIGNMENT": true,
       "ENABLE_DATALINK": true,
       "FLATTEN_COLUMN_VALUES": true,
       "FLATTEN_INDEX_VALUES": false,
       "GENERATE_DEX_METADATA": false,
       "HTML_TABLE_SCHEMA": false,
       "LOG_LEVEL": 30,
       "MAX_RENDER_SIZE_BYTES": 104857600,
       "MAX_STRING_LENGTH": 250,
       "NUM_PAST_SAMPLES_TRACKED": 3,
       "RANDOM_STATE": 12648430,
       "RESET_INDEX_VALUES": false,
       "ROW_SAMPLING_METHOD": "random",
       "SAMPLING_FACTOR": 0.1,
       "SAMPLING_METHOD": "random",
       "STRINGIFY_COLUMN_VALUES": true,
       "STRINGIFY_INDEX_VALUES": false
      },
      "sample_history": [],
      "sampling_time": "2023-12-14T20:05:16.244808",
      "user_variable_name": "skill_frequency",
      "variable_name": "skill_frequency"
     }
    },
    "dx": {
     "fieldMetadata": {},
     "simpleTable": true,
     "simpleTableExpanded": true,
     "updated": 1702584339641,
     "views": []
    },
    "jupyter": {
     "source_hidden": false
    },
    "noteable": {
     "cell_type": "python",
     "output_collection_id": "cb8dd492-5965-42ad-bd89-6166cf8c3ac1"
    }
   },
   "outputs": [],
   "source": [
    "# Splitting the skills in each row and calculating the frequency of each individual skill\n",
    "skill_frequency = df['skill'].str.split(', ', expand=True).stack().value_counts()"
   ]
  },
  {
   "cell_type": "code",
   "execution_count": null,
   "id": "25399045-c05a-44a0-8073-e32de349e6e3",
   "metadata": {
    "ExecuteTime": {
     "end_time": "2023-12-15T10:19:53.663938+00:00",
     "start_time": "2023-12-15T10:19:52.587731+00:00"
    },
    "datalink": {
     "5103d88e-ac1a-4e19-81f4-60863f0b173e": {
      "applied_filters": [],
      "dataframe_info": {
       "default_index_used": false,
       "orig_num_cols": 1,
       "orig_num_rows": 249,
       "orig_size_bytes": 3984,
       "truncated_num_cols": 1,
       "truncated_num_rows": 249,
       "truncated_size_bytes": 3984,
       "truncated_string_columns": []
      },
      "display_id": "5103d88e-ac1a-4e19-81f4-60863f0b173e",
      "dx_settings": {
       "ALLOW_NOTEABLE_ATTRS": true,
       "COLUMN_SAMPLING_METHOD": "outer",
       "DB_LOCATION": ":memory:",
       "DEV_MODE": false,
       "DISPLAY_MAX_COLUMNS": 100,
       "DISPLAY_MAX_ROWS": 50000,
       "DISPLAY_MODE": "simple",
       "ENABLE_ASSIGNMENT": true,
       "ENABLE_DATALINK": true,
       "FLATTEN_COLUMN_VALUES": true,
       "FLATTEN_INDEX_VALUES": false,
       "GENERATE_DEX_METADATA": false,
       "HTML_TABLE_SCHEMA": false,
       "LOG_LEVEL": 30,
       "MAX_RENDER_SIZE_BYTES": 104857600,
       "MAX_STRING_LENGTH": 250,
       "NUM_PAST_SAMPLES_TRACKED": 3,
       "RANDOM_STATE": 12648430,
       "RESET_INDEX_VALUES": false,
       "ROW_SAMPLING_METHOD": "random",
       "SAMPLING_FACTOR": 0.1,
       "SAMPLING_METHOD": "random",
       "STRINGIFY_COLUMN_VALUES": true,
       "STRINGIFY_INDEX_VALUES": false
      },
      "sample_history": [],
      "sampling_time": "2023-12-15T10:19:53.504879",
      "user_variable_name": "skill_frequency",
      "variable_name": "skill_frequency"
     }
    },
    "dx": {
     "fieldMetadata": {},
     "simpleTable": true,
     "updated": 1702640439144,
     "views": []
    },
    "jupyter": {
     "outputs_hidden": false,
     "source_hidden": false
    },
    "noteable": {
     "cell_type": "code",
     "output_collection_id": "ea5ba42c-dba5-4b81-a380-d677158f49ad"
    }
   },
   "outputs": [],
   "source": [
    "skill_frequency"
   ]
  },
  {
   "cell_type": "code",
   "execution_count": 7,
   "id": "5cfef7e6",
   "metadata": {},
   "outputs": [],
   "source": [
    "df = pd.read_csv('../exported data/5_popular_skills.csv')\n",
    "df2 = df.head(10)"
   ]
  },
  {
   "cell_type": "code",
   "execution_count": 86,
   "id": "03aa2f06-e277-44c0-83af-0bbad349e9f7",
   "metadata": {
    "ExecuteTime": {
     "end_time": "2023-12-14T20:58:56.559590+00:00",
     "start_time": "2023-12-14T20:58:56.055712+00:00"
    },
    "noteable": {
     "cell_type": "code",
     "output_collection_id": "148c3827-764e-4798-81df-e6afe30a0ddd"
    }
   },
   "outputs": [
    {
     "data": {
      "image/png": "[encoded data removed]",
      "text/plain": [
       "<Figure size 1600x1000 with 1 Axes>"
      ]
     },
     "metadata": {},
     "output_type": "display_data"
    }
   ],
   "source": [
    "# Plotting Top 10 Most Frequent Skills\n",
    "#top_skills = skill_frequency.head(10)\n",
    "\n",
    "sns.set(style=\"dark\") \n",
    "plt.style.use(\"dark_background\")\n",
    "plt.figure(figsize=(16,10))\n",
    "\n",
    "palette = sns.color_palette('PuRd_r', n_colors=16) \n",
    "\n",
    "sns.barplot(x='skill', y='frequency', data=df2, palette=palette, edgecolor='black')\n",
    "plt.title('Most Popular Skills In Data Field', fontsize=26, color='#ff93ac')\n",
    "plt.xlabel('', fontsize=14, color='#ff93ac')\n",
    "plt.ylabel('Number Of Job Listings', fontsize=20, color='#ff93ac')\n",
    "plt.xticks(fontsize=20, color='#ff93ac')\n",
    "plt.yticks(fontsize=20, color='#ff93ac')\n",
    "\n",
    "plt.savefig('../graphs//3_popular_skills.png')\n",
    "\n",
    "\n",
    "plt.show()"
   ]
  },
  {
   "cell_type": "markdown",
   "id": "68d18394-2a3c-4837-80a7-e5988645bcb4",
   "metadata": {
    "noteable": {
     "cell_type": "markdown"
    }
   },
   "source": [
    "## Comparing Salaries Across Data Roles\n",
    "- A comparative analysis of salary offerings for different data-related job titles to understand compensation trends in the field.\n",
    "- The number of missing values for each job title is too high to draw reliable conclusions.\n",
    "- Despite the significant number of missing values, this analysis can still provide insights into which job titles are generally associated with higher earnings.\n"
   ]
  },
  {
   "cell_type": "code",
   "execution_count": null,
   "id": "23b015d4-8f3e-4ecd-9f97-4c35b4abe8c1",
   "metadata": {
    "ExecuteTime": {
     "end_time": "2023-12-15T12:32:27.338690+00:00",
     "start_time": "2023-12-15T12:32:26.950364+00:00"
    },
    "jupyter": {
     "outputs_hidden": false,
     "source_hidden": false
    },
    "noteable": {
     "cell_type": "code",
     "output_collection_id": "621ac6a5-fee6-409d-959f-ea847d8beae6"
    }
   },
   "outputs": [],
   "source": [
    "# Checking the null value count per each job title\n",
    "## The number of missing values for each job title is too high to draw reliable conclusions.\n",
    "## Despite the significant number of missing values, this analysis can still provide insights into which job titles are generally associated with higher earnings\n",
    "\n",
    "job_title_null_count = df[df['salary'].isnull()].groupby('job_title').size()\n",
    "total_counts = df.groupby('job_title').size()\n",
    "\n",
    "# Combining the counts into a single DataFrame\n",
    "summary = pd.DataFrame({'Total Count': total_counts, 'Null Count': job_title_null_count})\n",
    "\n",
    "# Filling NaN values with 0, as NaN indicates no null values for that job title\n",
    "summary = summary.fillna(0)\n",
    "\n",
    "# Converting Null Count to integer for cleaner presentation\n",
    "summary['Null Count'] = summary['Null Count'].astype(int)\n",
    "\n",
    "print(summary)\n"
   ]
  },
  {
   "cell_type": "markdown",
   "id": "e77f2e17-302d-4376-97dd-50c842485818",
   "metadata": {
    "noteable": {
     "cell_type": "markdown"
    }
   },
   "source": [
    "### Average Salaries by Job Title"
   ]
  },
  {
   "cell_type": "code",
   "execution_count": null,
   "id": "1815d20b-7799-4ae0-a806-60f1bed482b4",
   "metadata": {
    "ExecuteTime": {
     "end_time": "2023-12-15T11:56:14.649176+00:00",
     "start_time": "2023-12-15T11:56:12.859399+00:00"
    },
    "datalink": {
     "27fe4fa7-3d68-4661-9cfe-7094a9d4682b": {
      "applied_filters": [],
      "dataframe_info": {
       "default_index_used": true,
       "orig_num_cols": 2,
       "orig_num_rows": 10,
       "orig_size_bytes": 240,
       "truncated_num_cols": 2,
       "truncated_num_rows": 10,
       "truncated_size_bytes": 240,
       "truncated_string_columns": []
      },
      "display_id": "27fe4fa7-3d68-4661-9cfe-7094a9d4682b",
      "dx_settings": {
       "ALLOW_NOTEABLE_ATTRS": true,
       "COLUMN_SAMPLING_METHOD": "outer",
       "DB_LOCATION": ":memory:",
       "DEV_MODE": false,
       "DISPLAY_MAX_COLUMNS": 100,
       "DISPLAY_MAX_ROWS": 50000,
       "DISPLAY_MODE": "simple",
       "ENABLE_ASSIGNMENT": true,
       "ENABLE_DATALINK": true,
       "FLATTEN_COLUMN_VALUES": true,
       "FLATTEN_INDEX_VALUES": false,
       "GENERATE_DEX_METADATA": false,
       "HTML_TABLE_SCHEMA": false,
       "LOG_LEVEL": 30,
       "MAX_RENDER_SIZE_BYTES": 104857600,
       "MAX_STRING_LENGTH": 250,
       "NUM_PAST_SAMPLES_TRACKED": 3,
       "RANDOM_STATE": 12648430,
       "RESET_INDEX_VALUES": false,
       "ROW_SAMPLING_METHOD": "random",
       "SAMPLING_FACTOR": 0.1,
       "SAMPLING_METHOD": "random",
       "STRINGIFY_COLUMN_VALUES": true,
       "STRINGIFY_INDEX_VALUES": false
      },
      "sample_history": [],
      "sampling_time": "2023-12-15T11:56:14.489742",
      "user_variable_name": "salary_avg",
      "variable_name": "salary_avg"
     },
     "31f09778-8e0a-46fa-9dec-89478b87783d": {
      "applied_filters": [],
      "dataframe_info": {
       "default_index_used": true,
       "orig_num_cols": 2,
       "orig_num_rows": 10,
       "orig_size_bytes": 240,
       "truncated_num_cols": 2,
       "truncated_num_rows": 10,
       "truncated_size_bytes": 240,
       "truncated_string_columns": []
      },
      "display_id": "31f09778-8e0a-46fa-9dec-89478b87783d",
      "dx_settings": {
       "ALLOW_NOTEABLE_ATTRS": true,
       "COLUMN_SAMPLING_METHOD": "outer",
       "DB_LOCATION": ":memory:",
       "DEV_MODE": false,
       "DISPLAY_MAX_COLUMNS": 100,
       "DISPLAY_MAX_ROWS": 50000,
       "DISPLAY_MODE": "simple",
       "ENABLE_ASSIGNMENT": true,
       "ENABLE_DATALINK": true,
       "FLATTEN_COLUMN_VALUES": true,
       "FLATTEN_INDEX_VALUES": false,
       "GENERATE_DEX_METADATA": false,
       "HTML_TABLE_SCHEMA": false,
       "LOG_LEVEL": 30,
       "MAX_RENDER_SIZE_BYTES": 104857600,
       "MAX_STRING_LENGTH": 250,
       "NUM_PAST_SAMPLES_TRACKED": 3,
       "RANDOM_STATE": 12648430,
       "RESET_INDEX_VALUES": false,
       "ROW_SAMPLING_METHOD": "random",
       "SAMPLING_FACTOR": 0.1,
       "SAMPLING_METHOD": "random",
       "STRINGIFY_COLUMN_VALUES": true,
       "STRINGIFY_INDEX_VALUES": false
      },
      "sample_history": [],
      "sampling_time": "2023-12-15T10:34:23.750941",
      "user_variable_name": "sql_df_2",
      "variable_name": "sql_df_2"
     },
     "800071ba-42c2-4fcd-ba09-3d8f240e1ee8": {
      "applied_filters": [],
      "dataframe_info": {
       "default_index_used": true,
       "orig_num_cols": 2,
       "orig_num_rows": 10,
       "orig_size_bytes": 240,
       "truncated_num_cols": 2,
       "truncated_num_rows": 10,
       "truncated_size_bytes": 240,
       "truncated_string_columns": []
      },
      "display_id": "800071ba-42c2-4fcd-ba09-3d8f240e1ee8",
      "dx_settings": {
       "ALLOW_NOTEABLE_ATTRS": true,
       "COLUMN_SAMPLING_METHOD": "outer",
       "DB_LOCATION": ":memory:",
       "DEV_MODE": false,
       "DISPLAY_MAX_COLUMNS": 100,
       "DISPLAY_MAX_ROWS": 50000,
       "DISPLAY_MODE": "simple",
       "ENABLE_ASSIGNMENT": true,
       "ENABLE_DATALINK": true,
       "FLATTEN_COLUMN_VALUES": true,
       "FLATTEN_INDEX_VALUES": false,
       "GENERATE_DEX_METADATA": false,
       "HTML_TABLE_SCHEMA": false,
       "LOG_LEVEL": 30,
       "MAX_RENDER_SIZE_BYTES": 104857600,
       "MAX_STRING_LENGTH": 250,
       "NUM_PAST_SAMPLES_TRACKED": 3,
       "RANDOM_STATE": 12648430,
       "RESET_INDEX_VALUES": false,
       "ROW_SAMPLING_METHOD": "random",
       "SAMPLING_FACTOR": 0.1,
       "SAMPLING_METHOD": "random",
       "STRINGIFY_COLUMN_VALUES": true,
       "STRINGIFY_INDEX_VALUES": false
      },
      "sample_history": [],
      "sampling_time": "2023-12-15T10:33:27.181709",
      "user_variable_name": "sql_df_2",
      "variable_name": "sql_df_2"
     },
     "92480fdd-6cf9-4cb6-85fd-61c75916380c": {
      "applied_filters": [],
      "dataframe_info": {
       "default_index_used": true,
       "orig_num_cols": 2,
       "orig_num_rows": 10,
       "orig_size_bytes": 240,
       "truncated_num_cols": 2,
       "truncated_num_rows": 10,
       "truncated_size_bytes": 240,
       "truncated_string_columns": []
      },
      "display_id": "92480fdd-6cf9-4cb6-85fd-61c75916380c",
      "dx_settings": {
       "ALLOW_NOTEABLE_ATTRS": true,
       "COLUMN_SAMPLING_METHOD": "outer",
       "DB_LOCATION": ":memory:",
       "DEV_MODE": false,
       "DISPLAY_MAX_COLUMNS": 100,
       "DISPLAY_MAX_ROWS": 50000,
       "DISPLAY_MODE": "simple",
       "ENABLE_ASSIGNMENT": true,
       "ENABLE_DATALINK": true,
       "FLATTEN_COLUMN_VALUES": true,
       "FLATTEN_INDEX_VALUES": false,
       "GENERATE_DEX_METADATA": false,
       "HTML_TABLE_SCHEMA": false,
       "LOG_LEVEL": 30,
       "MAX_RENDER_SIZE_BYTES": 104857600,
       "MAX_STRING_LENGTH": 250,
       "NUM_PAST_SAMPLES_TRACKED": 3,
       "RANDOM_STATE": 12648430,
       "RESET_INDEX_VALUES": false,
       "ROW_SAMPLING_METHOD": "random",
       "SAMPLING_FACTOR": 0.1,
       "SAMPLING_METHOD": "random",
       "STRINGIFY_COLUMN_VALUES": true,
       "STRINGIFY_INDEX_VALUES": false
      },
      "sample_history": [],
      "sampling_time": "2023-12-15T10:30:54.079423",
      "user_variable_name": "sql_df_2",
      "variable_name": "sql_df_2"
     },
     "cf4313b3-4999-4f9a-8cf8-349672b4809b": {
      "applied_filters": [],
      "dataframe_info": {
       "default_index_used": true,
       "orig_num_cols": 2,
       "orig_num_rows": 10,
       "orig_size_bytes": 240,
       "truncated_num_cols": 2,
       "truncated_num_rows": 10,
       "truncated_size_bytes": 240,
       "truncated_string_columns": []
      },
      "display_id": "cf4313b3-4999-4f9a-8cf8-349672b4809b",
      "dx_settings": {
       "ALLOW_NOTEABLE_ATTRS": true,
       "COLUMN_SAMPLING_METHOD": "outer",
       "DB_LOCATION": ":memory:",
       "DEV_MODE": false,
       "DISPLAY_MAX_COLUMNS": 100,
       "DISPLAY_MAX_ROWS": 50000,
       "DISPLAY_MODE": "simple",
       "ENABLE_ASSIGNMENT": true,
       "ENABLE_DATALINK": true,
       "FLATTEN_COLUMN_VALUES": true,
       "FLATTEN_INDEX_VALUES": false,
       "GENERATE_DEX_METADATA": false,
       "HTML_TABLE_SCHEMA": false,
       "LOG_LEVEL": 30,
       "MAX_RENDER_SIZE_BYTES": 104857600,
       "MAX_STRING_LENGTH": 250,
       "NUM_PAST_SAMPLES_TRACKED": 3,
       "RANDOM_STATE": 12648430,
       "RESET_INDEX_VALUES": false,
       "ROW_SAMPLING_METHOD": "random",
       "SAMPLING_FACTOR": 0.1,
       "SAMPLING_METHOD": "random",
       "STRINGIFY_COLUMN_VALUES": true,
       "STRINGIFY_INDEX_VALUES": false
      },
      "sample_history": [],
      "sampling_time": "2023-12-15T11:44:03.445333",
      "user_variable_name": "salary_avg",
      "variable_name": "salary_avg"
     },
     "ee6b4807-a3ed-4783-ae23-0170e962c39f": {
      "applied_filters": [],
      "dataframe_info": {
       "default_index_used": true,
       "orig_num_cols": 2,
       "orig_num_rows": 10,
       "orig_size_bytes": 240,
       "truncated_num_cols": 2,
       "truncated_num_rows": 10,
       "truncated_size_bytes": 240,
       "truncated_string_columns": []
      },
      "display_id": "ee6b4807-a3ed-4783-ae23-0170e962c39f",
      "dx_settings": {
       "ALLOW_NOTEABLE_ATTRS": true,
       "COLUMN_SAMPLING_METHOD": "outer",
       "DB_LOCATION": ":memory:",
       "DEV_MODE": false,
       "DISPLAY_MAX_COLUMNS": 100,
       "DISPLAY_MAX_ROWS": 50000,
       "DISPLAY_MODE": "simple",
       "ENABLE_ASSIGNMENT": true,
       "ENABLE_DATALINK": true,
       "FLATTEN_COLUMN_VALUES": true,
       "FLATTEN_INDEX_VALUES": false,
       "GENERATE_DEX_METADATA": false,
       "HTML_TABLE_SCHEMA": false,
       "LOG_LEVEL": 30,
       "MAX_RENDER_SIZE_BYTES": 104857600,
       "MAX_STRING_LENGTH": 250,
       "NUM_PAST_SAMPLES_TRACKED": 3,
       "RANDOM_STATE": 12648430,
       "RESET_INDEX_VALUES": false,
       "ROW_SAMPLING_METHOD": "random",
       "SAMPLING_FACTOR": 0.1,
       "SAMPLING_METHOD": "random",
       "STRINGIFY_COLUMN_VALUES": true,
       "STRINGIFY_INDEX_VALUES": false
      },
      "sample_history": [],
      "sampling_time": "2023-12-15T10:35:09.723340",
      "user_variable_name": "salary_avg",
      "variable_name": "salary_avg"
     }
    },
    "dx": {
     "dashboard": {
      "multiViews": []
     },
     "fieldMetadata": {},
     "simpleTable": true,
     "updated": 1702640352949,
     "views": [
      {
       "annotationRules": [],
       "chart": {},
       "chartMode": "grid",
       "confoRules": [],
       "decoration": {
        "footer": "",
        "subtitle": "",
        "title": "Table"
       },
       "facets": [],
       "filterSettings": {
        "SHOW_FILTER_PANEL": true,
        "filters": []
       },
       "id": "first-view",
       "isDefault": true,
       "type": "public",
       "userID": ""
      },
      {
       "annotationRules": [],
       "chart": {
        "tableSparklines": false
       },
       "chartMode": "grid",
       "confoRules": [],
       "decoration": {
        "footer": "",
        "subtitle": "",
        "title": "Table"
       },
       "facets": [],
       "filterSettings": {
        "SHOW_FILTER_PANEL": true,
        "filters": []
       },
       "id": "first-view",
       "isDefault": true,
       "isTransitory": true,
       "type": "public",
       "userID": ""
      }
     ]
    },
    "jupyter": {
     "outputs_hidden": false
    },
    "noteable": {
     "assign_results_to": "salary_avg",
     "cell_type": "sql",
     "db_connection": "@noteable",
     "output_collection_id": "6d875f82-cb4f-419e-8089-cb8ff59d622a"
    }
   },
   "outputs": [],
   "source": [
    "-- Calculating the average salary by job title and with the 'CAST' function, converting the results to integers for an easier readibility\n",
    "SELECT job_title, CAST(AVG(salary) AS INT) AS avg_salary\n",
    "FROM data_cleaned.csv\n",
    "GROUP BY job_title\n",
    "ORDER BY avg_salary DESC"
   ]
  },
  {
   "cell_type": "code",
   "execution_count": null,
   "id": "45bda54f-7db1-44fe-8381-ac235253df8d",
   "metadata": {
    "ExecuteTime": {
     "end_time": "2023-12-15T11:56:21.575903+00:00",
     "start_time": "2023-12-15T11:56:20.997168+00:00"
    },
    "jupyter": {
     "outputs_hidden": false,
     "source_hidden": false
    },
    "noteable": {
     "cell_type": "code",
     "output_collection_id": "41660c0a-bd44-418b-8971-29ebf08f5b15"
    }
   },
   "outputs": [],
   "source": [
    "# Plotting a bar chart for average salaries in USA\n",
    "df_sorted = salary_avg.sort_values('avg_salary', ascending=False)\n",
    "\n",
    "# !!! for dark theme use:\n",
    "#sns.set(style=\"darkgrid\")\n",
    "#plt.style.use(\"dark_background\")\n",
    "\n",
    "sns.set_style(style=\"whitegrid\") \n",
    "plt.style.use(\"default\")\n",
    "plt.figure(figsize=(16,10))\n",
    "palette = sns.color_palette('Spectral_r', n_colors=12) \n",
    "\n",
    "sns.barplot(x='avg_salary', y='job_title', data=df_sorted, palette=palette)\n",
    "plt.title('Average Salaries for Data Jobs in United States', fontsize = 16)\n",
    "plt.xlabel('Average Salary (USD) ', fontsize = 14)\n",
    "plt.xticks(fontsize=14)\n",
    "plt.yticks(fontsize=12)\n",
    "plt.ylabel('')\n",
    "\n",
    "#plt.savefig('9_average_salaries.png')\n",
    "\n",
    "plt.show()\n"
   ]
  },
  {
   "cell_type": "code",
   "execution_count": null,
   "id": "8156381b-ae06-4e4e-95d2-057f207c033c",
   "metadata": {
    "ExecuteTime": {
     "end_time": "2023-12-15T10:45:55.783831+00:00",
     "start_time": "2023-12-15T10:45:55.627352+00:00"
    },
    "jupyter": {
     "outputs_hidden": false,
     "source_hidden": false
    },
    "noteable": {
     "cell_type": "code",
     "output_collection_id": "58b68e5b-cbd0-490a-9c0b-6bf1f1d0a3da"
    }
   },
   "outputs": [],
   "source": [
    "#salary_avg.to_csv('7_average_salaries.csv')"
   ]
  },
  {
   "cell_type": "markdown",
   "id": "3e777e15-fee5-4cdd-b240-c8d22dc5f0df",
   "metadata": {
    "noteable": {
     "cell_type": "markdown"
    }
   },
   "source": [
    "### Median Salaries by Job Title"
   ]
  },
  {
   "cell_type": "code",
   "execution_count": 95,
   "id": "207a662f",
   "metadata": {},
   "outputs": [
    {
     "data": {
      "text/html": [
       "<div>\n",
       "<style scoped>\n",
       "    .dataframe tbody tr th:only-of-type {\n",
       "        vertical-align: middle;\n",
       "    }\n",
       "\n",
       "    .dataframe tbody tr th {\n",
       "        vertical-align: top;\n",
       "    }\n",
       "\n",
       "    .dataframe thead th {\n",
       "        text-align: right;\n",
       "    }\n",
       "</style>\n",
       "<table border=\"1\" class=\"dataframe\">\n",
       "  <thead>\n",
       "    <tr style=\"text-align: right;\">\n",
       "      <th></th>\n",
       "      <th>job_title</th>\n",
       "      <th>median_salary</th>\n",
       "    </tr>\n",
       "  </thead>\n",
       "  <tbody>\n",
       "    <tr>\n",
       "      <th>0</th>\n",
       "      <td>Senior Data Engineer</td>\n",
       "      <td>155000</td>\n",
       "    </tr>\n",
       "    <tr>\n",
       "      <th>1</th>\n",
       "      <td>Senior Data Scientist</td>\n",
       "      <td>135144</td>\n",
       "    </tr>\n",
       "    <tr>\n",
       "      <th>2</th>\n",
       "      <td>Data Engineer</td>\n",
       "      <td>130000</td>\n",
       "    </tr>\n",
       "    <tr>\n",
       "      <th>3</th>\n",
       "      <td>Data Scientist</td>\n",
       "      <td>125000</td>\n",
       "    </tr>\n",
       "    <tr>\n",
       "      <th>4</th>\n",
       "      <td>M. Learning Engineer</td>\n",
       "      <td>124750</td>\n",
       "    </tr>\n",
       "    <tr>\n",
       "      <th>5</th>\n",
       "      <td>Software Engineer</td>\n",
       "      <td>100000</td>\n",
       "    </tr>\n",
       "    <tr>\n",
       "      <th>6</th>\n",
       "      <td>Senior Data Analyst</td>\n",
       "      <td>98650</td>\n",
       "    </tr>\n",
       "    <tr>\n",
       "      <th>7</th>\n",
       "      <td>Cloud Engineer</td>\n",
       "      <td>97984</td>\n",
       "    </tr>\n",
       "    <tr>\n",
       "      <th>8</th>\n",
       "      <td>Business Analyst</td>\n",
       "      <td>95000</td>\n",
       "    </tr>\n",
       "    <tr>\n",
       "      <th>9</th>\n",
       "      <td>Data Analyst</td>\n",
       "      <td>90000</td>\n",
       "    </tr>\n",
       "  </tbody>\n",
       "</table>\n",
       "</div>"
      ],
      "text/plain": [
       "               job_title  median_salary\n",
       "0   Senior Data Engineer         155000\n",
       "1  Senior Data Scientist         135144\n",
       "2          Data Engineer         130000\n",
       "3         Data Scientist         125000\n",
       "4   M. Learning Engineer         124750\n",
       "5      Software Engineer         100000\n",
       "6    Senior Data Analyst          98650\n",
       "7         Cloud Engineer          97984\n",
       "8       Business Analyst          95000\n",
       "9           Data Analyst          90000"
      ]
     },
     "execution_count": 95,
     "metadata": {},
     "output_type": "execute_result"
    }
   ],
   "source": [
    "df3 = pd.read_csv('../exported data/8_median_salaries.csv')\n",
    "median_salary = df3.head(10)\n",
    "median_salary"
   ]
  },
  {
   "cell_type": "code",
   "execution_count": null,
   "id": "655b4b86-c684-4a99-811c-fa967a960f0b",
   "metadata": {
    "ExecuteTime": {
     "end_time": "2023-12-15T11:58:14.364535+00:00",
     "start_time": "2023-12-15T11:58:12.711669+00:00"
    },
    "datalink": {
     "641f3c6c-0563-40c6-8b93-51621ddf806a": {
      "applied_filters": [],
      "dataframe_info": {
       "default_index_used": false,
       "orig_num_cols": 1,
       "orig_num_rows": 10,
       "orig_size_bytes": 160,
       "truncated_num_cols": 1,
       "truncated_num_rows": 10,
       "truncated_size_bytes": 160,
       "truncated_string_columns": []
      },
      "display_id": "641f3c6c-0563-40c6-8b93-51621ddf806a",
      "dx_settings": {
       "ALLOW_NOTEABLE_ATTRS": true,
       "COLUMN_SAMPLING_METHOD": "outer",
       "DB_LOCATION": ":memory:",
       "DEV_MODE": false,
       "DISPLAY_MAX_COLUMNS": 100,
       "DISPLAY_MAX_ROWS": 50000,
       "DISPLAY_MODE": "simple",
       "ENABLE_ASSIGNMENT": true,
       "ENABLE_DATALINK": true,
       "FLATTEN_COLUMN_VALUES": true,
       "FLATTEN_INDEX_VALUES": false,
       "GENERATE_DEX_METADATA": false,
       "HTML_TABLE_SCHEMA": false,
       "LOG_LEVEL": 30,
       "MAX_RENDER_SIZE_BYTES": 104857600,
       "MAX_STRING_LENGTH": 250,
       "NUM_PAST_SAMPLES_TRACKED": 3,
       "RANDOM_STATE": 12648430,
       "RESET_INDEX_VALUES": false,
       "ROW_SAMPLING_METHOD": "random",
       "SAMPLING_FACTOR": 0.1,
       "SAMPLING_METHOD": "random",
       "STRINGIFY_COLUMN_VALUES": true,
       "STRINGIFY_INDEX_VALUES": false
      },
      "sample_history": [],
      "sampling_time": "2023-12-15T10:45:06.356053",
      "user_variable_name": null,
      "variable_name": "unk_dataframe_5b2d1b7a66534f73b45abac8fd786787"
     },
     "825cf750-af8e-4469-b7e2-641c743fd7ed": {
      "applied_filters": [],
      "dataframe_info": {
       "default_index_used": false,
       "orig_num_cols": 1,
       "orig_num_rows": 10,
       "orig_size_bytes": 160,
       "truncated_num_cols": 1,
       "truncated_num_rows": 10,
       "truncated_size_bytes": 160,
       "truncated_string_columns": []
      },
      "display_id": "825cf750-af8e-4469-b7e2-641c743fd7ed",
      "dx_settings": {
       "ALLOW_NOTEABLE_ATTRS": true,
       "COLUMN_SAMPLING_METHOD": "outer",
       "DB_LOCATION": ":memory:",
       "DEV_MODE": false,
       "DISPLAY_MAX_COLUMNS": 100,
       "DISPLAY_MAX_ROWS": 50000,
       "DISPLAY_MODE": "simple",
       "ENABLE_ASSIGNMENT": true,
       "ENABLE_DATALINK": true,
       "FLATTEN_COLUMN_VALUES": true,
       "FLATTEN_INDEX_VALUES": false,
       "GENERATE_DEX_METADATA": false,
       "HTML_TABLE_SCHEMA": false,
       "LOG_LEVEL": 30,
       "MAX_RENDER_SIZE_BYTES": 104857600,
       "MAX_STRING_LENGTH": 250,
       "NUM_PAST_SAMPLES_TRACKED": 3,
       "RANDOM_STATE": 12648430,
       "RESET_INDEX_VALUES": false,
       "ROW_SAMPLING_METHOD": "random",
       "SAMPLING_FACTOR": 0.1,
       "SAMPLING_METHOD": "random",
       "STRINGIFY_COLUMN_VALUES": true,
       "STRINGIFY_INDEX_VALUES": false
      },
      "sample_history": [],
      "sampling_time": "2023-12-15T10:42:42.637206",
      "user_variable_name": null,
      "variable_name": "unk_dataframe_53015e528b3a4ffbb9eeefea4ef94340"
     },
     "84d3d0b9-1aeb-4ff3-a228-9c832d37af7b": {
      "applied_filters": [],
      "dataframe_info": {
       "default_index_used": false,
       "orig_num_cols": 1,
       "orig_num_rows": 10,
       "orig_size_bytes": 160,
       "truncated_num_cols": 1,
       "truncated_num_rows": 10,
       "truncated_size_bytes": 160,
       "truncated_string_columns": []
      },
      "display_id": "84d3d0b9-1aeb-4ff3-a228-9c832d37af7b",
      "dx_settings": {
       "ALLOW_NOTEABLE_ATTRS": true,
       "COLUMN_SAMPLING_METHOD": "outer",
       "DB_LOCATION": ":memory:",
       "DEV_MODE": false,
       "DISPLAY_MAX_COLUMNS": 100,
       "DISPLAY_MAX_ROWS": 50000,
       "DISPLAY_MODE": "simple",
       "ENABLE_ASSIGNMENT": true,
       "ENABLE_DATALINK": true,
       "FLATTEN_COLUMN_VALUES": true,
       "FLATTEN_INDEX_VALUES": false,
       "GENERATE_DEX_METADATA": false,
       "HTML_TABLE_SCHEMA": false,
       "LOG_LEVEL": 30,
       "MAX_RENDER_SIZE_BYTES": 104857600,
       "MAX_STRING_LENGTH": 250,
       "NUM_PAST_SAMPLES_TRACKED": 3,
       "RANDOM_STATE": 12648430,
       "RESET_INDEX_VALUES": false,
       "ROW_SAMPLING_METHOD": "random",
       "SAMPLING_FACTOR": 0.1,
       "SAMPLING_METHOD": "random",
       "STRINGIFY_COLUMN_VALUES": true,
       "STRINGIFY_INDEX_VALUES": false
      },
      "sample_history": [],
      "sampling_time": "2023-12-15T11:58:14.205503",
      "user_variable_name": null,
      "variable_name": "unk_dataframe_e56375b3b9c24ff894eb44afc47f9741"
     },
     "d9bdd436-382a-4d15-a7b0-dfc7a689b2e2": {
      "applied_filters": [],
      "dataframe_info": {
       "default_index_used": false,
       "orig_num_cols": 1,
       "orig_num_rows": 10,
       "orig_size_bytes": 160,
       "truncated_num_cols": 1,
       "truncated_num_rows": 10,
       "truncated_size_bytes": 160,
       "truncated_string_columns": []
      },
      "display_id": "d9bdd436-382a-4d15-a7b0-dfc7a689b2e2",
      "dx_settings": {
       "ALLOW_NOTEABLE_ATTRS": true,
       "COLUMN_SAMPLING_METHOD": "outer",
       "DB_LOCATION": ":memory:",
       "DEV_MODE": false,
       "DISPLAY_MAX_COLUMNS": 100,
       "DISPLAY_MAX_ROWS": 50000,
       "DISPLAY_MODE": "simple",
       "ENABLE_ASSIGNMENT": true,
       "ENABLE_DATALINK": true,
       "FLATTEN_COLUMN_VALUES": true,
       "FLATTEN_INDEX_VALUES": false,
       "GENERATE_DEX_METADATA": false,
       "HTML_TABLE_SCHEMA": false,
       "LOG_LEVEL": 30,
       "MAX_RENDER_SIZE_BYTES": 104857600,
       "MAX_STRING_LENGTH": 250,
       "NUM_PAST_SAMPLES_TRACKED": 3,
       "RANDOM_STATE": 12648430,
       "RESET_INDEX_VALUES": false,
       "ROW_SAMPLING_METHOD": "random",
       "SAMPLING_FACTOR": 0.1,
       "SAMPLING_METHOD": "random",
       "STRINGIFY_COLUMN_VALUES": true,
       "STRINGIFY_INDEX_VALUES": false
      },
      "sample_history": [],
      "sampling_time": "2023-12-15T10:40:41.940027",
      "user_variable_name": "median_salary",
      "variable_name": "median_salary"
     },
     "e3509c62-4589-4a1b-b62f-be17e00a645a": {
      "applied_filters": [],
      "dataframe_info": {
       "default_index_used": false,
       "orig_num_cols": 1,
       "orig_num_rows": 4,
       "orig_size_bytes": 64,
       "truncated_num_cols": 1,
       "truncated_num_rows": 4,
       "truncated_size_bytes": 64,
       "truncated_string_columns": []
      },
      "display_id": "e3509c62-4589-4a1b-b62f-be17e00a645a",
      "dx_settings": {
       "ALLOW_NOTEABLE_ATTRS": true,
       "COLUMN_SAMPLING_METHOD": "outer",
       "DB_LOCATION": ":memory:",
       "DEV_MODE": false,
       "DISPLAY_MAX_COLUMNS": 100,
       "DISPLAY_MAX_ROWS": 50000,
       "DISPLAY_MODE": "simple",
       "ENABLE_ASSIGNMENT": true,
       "ENABLE_DATALINK": true,
       "FLATTEN_COLUMN_VALUES": true,
       "FLATTEN_INDEX_VALUES": false,
       "GENERATE_DEX_METADATA": false,
       "HTML_TABLE_SCHEMA": false,
       "LOG_LEVEL": 30,
       "MAX_RENDER_SIZE_BYTES": 104857600,
       "MAX_STRING_LENGTH": 250,
       "NUM_PAST_SAMPLES_TRACKED": 3,
       "RANDOM_STATE": 12648430,
       "RESET_INDEX_VALUES": false,
       "ROW_SAMPLING_METHOD": "random",
       "SAMPLING_FACTOR": 0.1,
       "SAMPLING_METHOD": "random",
       "STRINGIFY_COLUMN_VALUES": true,
       "STRINGIFY_INDEX_VALUES": false
      },
      "sample_history": [],
      "sampling_time": "2023-12-15T10:39:15.821365",
      "user_variable_name": null,
      "variable_name": "unk_dataframe_be21e9e1be934c59af0cefa5aca27d98"
     }
    },
    "dx": {
     "fieldMetadata": {},
     "simpleTable": true,
     "updated": 1702640356635,
     "views": []
    },
    "jupyter": {
     "outputs_hidden": false
    },
    "noteable": {
     "cell_type": "python",
     "output_collection_id": "b3b84bc5-e9b8-4bd4-b18f-49d1b6ef04c1"
    }
   },
   "outputs": [],
   "source": [
    "# Calculating the median salary by job title and converting the results to integers for an easier readibility\n",
    "median_salary = df.groupby('job_title')['salary'].median()\n",
    "median_salary_int = median_salary.astype(int)\n",
    "median_salary_int.sort_values(ascending=False)"
   ]
  },
  {
   "cell_type": "code",
   "execution_count": 102,
   "id": "5f211102-2616-43c1-8cc4-4d268b0f33f1",
   "metadata": {
    "ExecuteTime": {
     "end_time": "2023-12-15T12:04:46.909525+00:00",
     "start_time": "2023-12-15T12:04:46.335209+00:00"
    },
    "jupyter": {
     "outputs_hidden": false,
     "source_hidden": false
    },
    "noteable": {
     "cell_type": "code",
     "output_collection_id": "3360e8de-62ec-43a1-9a50-4a921be3bccd"
    },
    "scrolled": false
   },
   "outputs": [
    {
     "data": {
      "image/png": "[encoded data removed]",
      "text/plain": [
       "<Figure size 1700x1000 with 1 Axes>"
      ]
     },
     "metadata": {},
     "output_type": "display_data"
    }
   ],
   "source": [
    "# Plotting a bar chart for the median salaries in USA\n",
    "\n",
    "# !!! for dark theme use:\n",
    "sns.set(style=\"dark\")\n",
    "plt.style.use(\"dark_background\")\n",
    "\n",
    "#sns.set_style(style=\"whitegrid\") \n",
    "#plt.style.use(\"default\")\n",
    "plt.figure(figsize=(17,10))\n",
    "palette = sns.color_palette('Spectral_r', n_colors=12) \n",
    "\n",
    "sns.barplot(x='median_salary', y='job_title', data=median_salary, palette=palette, edgecolor='black')\n",
    "plt.title('Median Salary For Data Jobs In The US', fontsize = 24)\n",
    "plt.xlabel('Median Salary (USD) ', fontsize = 20)\n",
    "plt.xticks(fontsize=20)\n",
    "plt.yticks(fontsize=14)\n",
    "plt.ylabel('')\n",
    "\n",
    "plt.savefig('../graphs//5.2_median_salary.png')\n",
    "\n",
    "plt.show()"
   ]
  },
  {
   "cell_type": "code",
   "execution_count": 103,
   "id": "732eec1a",
   "metadata": {},
   "outputs": [
    {
     "data": {
      "text/html": [
       "<div>\n",
       "<style scoped>\n",
       "    .dataframe tbody tr th:only-of-type {\n",
       "        vertical-align: middle;\n",
       "    }\n",
       "\n",
       "    .dataframe tbody tr th {\n",
       "        vertical-align: top;\n",
       "    }\n",
       "\n",
       "    .dataframe thead th {\n",
       "        text-align: right;\n",
       "    }\n",
       "</style>\n",
       "<table border=\"1\" class=\"dataframe\">\n",
       "  <thead>\n",
       "    <tr style=\"text-align: right;\">\n",
       "      <th></th>\n",
       "      <th>job_title</th>\n",
       "      <th>country</th>\n",
       "      <th>salary</th>\n",
       "      <th>job_platform</th>\n",
       "      <th>skill</th>\n",
       "    </tr>\n",
       "  </thead>\n",
       "  <tbody>\n",
       "    <tr>\n",
       "      <th>0</th>\n",
       "      <td>Senior Data Engineer</td>\n",
       "      <td>United States</td>\n",
       "      <td>NaN</td>\n",
       "      <td>KHON2 Jobs</td>\n",
       "      <td>AWS, Spark, Kafka, Java, Scala, Python, SQL</td>\n",
       "    </tr>\n",
       "    <tr>\n",
       "      <th>1</th>\n",
       "      <td>Data Scientist</td>\n",
       "      <td>United States</td>\n",
       "      <td>NaN</td>\n",
       "      <td>ViewAndApply</td>\n",
       "      <td>Python, SQL, R, pySpark, databricks, scikit-le...</td>\n",
       "    </tr>\n",
       "  </tbody>\n",
       "</table>\n",
       "</div>"
      ],
      "text/plain": [
       "              job_title        country  salary  job_platform  \\\n",
       "0  Senior Data Engineer  United States     NaN    KHON2 Jobs   \n",
       "1        Data Scientist  United States     NaN  ViewAndApply   \n",
       "\n",
       "                                               skill  \n",
       "0        AWS, Spark, Kafka, Java, Scala, Python, SQL  \n",
       "1  Python, SQL, R, pySpark, databricks, scikit-le...  "
      ]
     },
     "execution_count": 103,
     "metadata": {},
     "output_type": "execute_result"
    }
   ],
   "source": [
    "salary = pd.read_csv('../data/data_cleaned.csv')\n",
    "salary.head(2)"
   ]
  },
  {
   "cell_type": "code",
   "execution_count": 115,
   "id": "a39eecdb",
   "metadata": {},
   "outputs": [
    {
     "data": {
      "image/png": "[encoded data removed]",
      "text/plain": [
       "<Figure size 1600x1000 with 1 Axes>"
      ]
     },
     "metadata": {},
     "output_type": "display_data"
    }
   ],
   "source": [
    "sns.set_style(style=\"dark\") \n",
    "plt.style.use(\"dark_background\")\n",
    "plt.figure(figsize=(16,10))\n",
    "\n",
    "plt.hist(salary['salary'], bins=34, range=(0, 400000), color='#ff6f69', edgecolor='black')\n",
    "\n",
    "plt.title('Distribution of Yearly Salaries In The US', fontsize=24, color='#ff9e99')\n",
    "plt.xlabel('Salary (USD)', fontsize=20, color='#ff9e99')\n",
    "plt.ylabel('Frequency', fontsize=20, color='#ff9e99')\n",
    "plt.xticks(fontsize=20, color='#ff9e99')\n",
    "plt.yticks(fontsize=20, color='#ff9e99')\n",
    "\n",
    "plt.savefig('../graphs/4.5_salary_dist.png')\n",
    "plt.show()"
   ]
  }
 ],
 "metadata": {
  "kernel_info": {
   "name": "python3.9-noteable"
  },
  "kernelspec": {
   "display_name": "Python 3 (ipykernel)",
   "language": "python",
   "name": "python3"
  },
  "language_info": {
   "codemirror_mode": {
    "name": "ipython",
    "version": 3
   },
   "file_extension": ".py",
   "mimetype": "text/x-python",
   "name": "python",
   "nbconvert_exporter": "python",
   "pygments_lexer": "ipython3",
   "version": "3.11.5"
  },
  "noteable": {
   "db_connection": "@noteable"
  },
  "selected_hardware_size": "small"
 },
 "nbformat": 4,
 "nbformat_minor": 5
}
