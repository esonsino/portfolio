{
 "cells": [
  {
   "cell_type": "markdown",
   "id": "6ce5c9cf-d42b-4560-b312-0ff991a447dc",
   "metadata": {
    "noteable": {
     "cell_type": "markdown"
    }
   },
   "source": [
    "# WHAT ARE THE MOST FREQUENTLY USED SKILLS IN THE DATA FIELD\n",
    "- Most Popular Skills for Data Analysts\n",
    "- Most Popular Skills for Data Scientists\n",
    "- Most Popular Skills for Data Engineers\n",
    "- Most Popular Skills Combined"
   ]
  },
  {
   "cell_type": "code",
   "execution_count": null,
   "id": "d4a76f6f-19e3-4a8c-a2ca-ab3c97cf6c15",
   "metadata": {
    "ExecuteTime": {
     "end_time": "2023-12-15T14:17:40.824506+00:00",
     "start_time": "2023-12-15T14:17:39.823423+00:00"
    },
    "jupyter": {
     "outputs_hidden": false,
     "source_hidden": false
    },
    "noteable": {
     "cell_type": "code",
     "output_collection_id": "d3e09777-ccbb-4918-906a-898ee0c21267"
    }
   },
   "outputs": [],
   "source": [
    "import pandas as pd\n",
    "import matplotlib.pyplot as plt\n",
    "import seaborn as sns"
   ]
  },
  {
   "cell_type": "code",
   "execution_count": null,
   "id": "8467eebd-9844-4777-b472-8a6f043a16d4",
   "metadata": {
    "ExecuteTime": {
     "end_time": "2023-12-15T14:17:45.917643+00:00",
     "start_time": "2023-12-15T14:17:44.471313+00:00"
    },
    "datalink": {
     "3930e400-915f-4c24-84d4-bda068954216": {
      "applied_filters": [],
      "dataframe_info": {
       "default_index_used": true,
       "orig_num_cols": 2,
       "orig_num_rows": 122051,
       "orig_size_bytes": 2929224,
       "truncated_num_cols": 2,
       "truncated_num_rows": 50000,
       "truncated_size_bytes": 1200000,
       "truncated_string_columns": [
        "skill"
       ]
      },
      "display_id": "3930e400-915f-4c24-84d4-bda068954216",
      "dx_settings": {
       "ALLOW_NOTEABLE_ATTRS": true,
       "COLUMN_SAMPLING_METHOD": "outer",
       "DB_LOCATION": ":memory:",
       "DEV_MODE": false,
       "DISPLAY_MAX_COLUMNS": 100,
       "DISPLAY_MAX_ROWS": 50000,
       "DISPLAY_MODE": "simple",
       "ENABLE_ASSIGNMENT": true,
       "ENABLE_DATALINK": true,
       "FLATTEN_COLUMN_VALUES": true,
       "FLATTEN_INDEX_VALUES": false,
       "GENERATE_DEX_METADATA": false,
       "HTML_TABLE_SCHEMA": false,
       "LOG_LEVEL": 30,
       "MAX_RENDER_SIZE_BYTES": 104857600,
       "MAX_STRING_LENGTH": 250,
       "NUM_PAST_SAMPLES_TRACKED": 3,
       "RANDOM_STATE": 12648430,
       "RESET_INDEX_VALUES": false,
       "ROW_SAMPLING_METHOD": "random",
       "SAMPLING_FACTOR": 0.1,
       "SAMPLING_METHOD": "random",
       "STRINGIFY_COLUMN_VALUES": true,
       "STRINGIFY_INDEX_VALUES": false
      },
      "sample_history": [],
      "sampling_time": "2023-12-15T12:45:08.723892",
      "user_variable_name": "data_analyst",
      "variable_name": "data_analyst"
     },
     "80caffd2-6cc1-4b7f-9d6f-e18ea5d88d19": {
      "applied_filters": [],
      "dataframe_info": {
       "default_index_used": true,
       "orig_num_cols": 2,
       "orig_num_rows": 122051,
       "orig_size_bytes": 2929224,
       "truncated_num_cols": 2,
       "truncated_num_rows": 50000,
       "truncated_size_bytes": 1200000,
       "truncated_string_columns": [
        "skill"
       ]
      },
      "display_id": "80caffd2-6cc1-4b7f-9d6f-e18ea5d88d19",
      "dx_settings": {
       "ALLOW_NOTEABLE_ATTRS": true,
       "COLUMN_SAMPLING_METHOD": "outer",
       "DB_LOCATION": ":memory:",
       "DEV_MODE": false,
       "DISPLAY_MAX_COLUMNS": 100,
       "DISPLAY_MAX_ROWS": 50000,
       "DISPLAY_MODE": "simple",
       "ENABLE_ASSIGNMENT": true,
       "ENABLE_DATALINK": true,
       "FLATTEN_COLUMN_VALUES": true,
       "FLATTEN_INDEX_VALUES": false,
       "GENERATE_DEX_METADATA": false,
       "HTML_TABLE_SCHEMA": false,
       "LOG_LEVEL": 30,
       "MAX_RENDER_SIZE_BYTES": 104857600,
       "MAX_STRING_LENGTH": 250,
       "NUM_PAST_SAMPLES_TRACKED": 3,
       "RANDOM_STATE": 12648430,
       "RESET_INDEX_VALUES": false,
       "ROW_SAMPLING_METHOD": "random",
       "SAMPLING_FACTOR": 0.1,
       "SAMPLING_METHOD": "random",
       "STRINGIFY_COLUMN_VALUES": true,
       "STRINGIFY_INDEX_VALUES": false
      },
      "sample_history": [],
      "sampling_time": "2023-12-15T14:17:45.654065",
      "user_variable_name": "data_analyst",
      "variable_name": "data_analyst"
     },
     "87d7be87-2e47-44fc-a626-6546825b9a73": {
      "applied_filters": [],
      "dataframe_info": {
       "default_index_used": true,
       "orig_num_cols": 2,
       "orig_num_rows": 122051,
       "orig_size_bytes": 2929224,
       "truncated_num_cols": 2,
       "truncated_num_rows": 50000,
       "truncated_size_bytes": 1200000,
       "truncated_string_columns": [
        "skill"
       ]
      },
      "display_id": "87d7be87-2e47-44fc-a626-6546825b9a73",
      "dx_settings": {
       "ALLOW_NOTEABLE_ATTRS": true,
       "COLUMN_SAMPLING_METHOD": "outer",
       "DB_LOCATION": ":memory:",
       "DEV_MODE": false,
       "DISPLAY_MAX_COLUMNS": 100,
       "DISPLAY_MAX_ROWS": 50000,
       "DISPLAY_MODE": "simple",
       "ENABLE_ASSIGNMENT": true,
       "ENABLE_DATALINK": true,
       "FLATTEN_COLUMN_VALUES": true,
       "FLATTEN_INDEX_VALUES": false,
       "GENERATE_DEX_METADATA": false,
       "HTML_TABLE_SCHEMA": false,
       "LOG_LEVEL": 30,
       "MAX_RENDER_SIZE_BYTES": 104857600,
       "MAX_STRING_LENGTH": 250,
       "NUM_PAST_SAMPLES_TRACKED": 3,
       "RANDOM_STATE": 12648430,
       "RESET_INDEX_VALUES": false,
       "ROW_SAMPLING_METHOD": "random",
       "SAMPLING_FACTOR": 0.1,
       "SAMPLING_METHOD": "random",
       "STRINGIFY_COLUMN_VALUES": true,
       "STRINGIFY_INDEX_VALUES": false
      },
      "sample_history": [],
      "sampling_time": "2023-12-15T13:02:17.561712",
      "user_variable_name": "data_analyst",
      "variable_name": "data_analyst"
     }
    },
    "dx": {
     "dashboard": {
      "multiViews": []
     },
     "fieldMetadata": {},
     "simpleTable": true,
     "updated": 1702644320950,
     "views": [
      {
       "annotationRules": [],
       "chart": {},
       "chartMode": "grid",
       "confoRules": [],
       "decoration": {
        "footer": "",
        "subtitle": "",
        "title": "Table"
       },
       "facets": [],
       "filterSettings": {
        "SHOW_FILTER_PANEL": true,
        "filters": []
       },
       "id": "first-view",
       "isDefault": true,
       "type": "public",
       "userID": ""
      },
      {
       "annotationRules": [],
       "chart": {
        "tableSparklines": false
       },
       "chartMode": "grid",
       "confoRules": [],
       "decoration": {
        "footer": "",
        "subtitle": "",
        "title": "Table"
       },
       "facets": [],
       "filterSettings": {
        "SHOW_FILTER_PANEL": true,
        "filters": []
       },
       "id": "first-view",
       "isDefault": true,
       "isTransitory": true,
       "type": "public",
       "userID": ""
      }
     ]
    },
    "noteable": {
     "assign_results_to": "data_analyst",
     "cell_type": "sql",
     "db_connection": "@noteable",
     "output_collection_id": "2ad0330b-bfbb-4d13-b3e8-4de4efde0251"
    }
   },
   "outputs": [],
   "source": [
    "SELECT\n",
    "    job_title,\n",
    "    skill\n",
    "FROM data_cleaned.csv\n",
    "WHERE job_title = 'Data Analyst'"
   ]
  },
  {
   "cell_type": "markdown",
   "id": "72408448-4fb7-493b-9a94-e963b868299b",
   "metadata": {
    "noteable": {
     "cell_type": "markdown"
    }
   },
   "source": [
    "## Most Popular Skills for Data Analysts\n",
    "\n",
    "Utilize frequency analysis on job postings to identify and rank the top technical and analytical skills essential for a Data Analyst role, such as SQL, Excel, and data visualization tools."
   ]
  },
  {
   "cell_type": "code",
   "execution_count": null,
   "id": "6bb099b7-8dd2-4737-9656-62a4e32ffcf1",
   "metadata": {
    "ExecuteTime": {
     "end_time": "2023-12-15T12:57:13.562327+00:00",
     "start_time": "2023-12-15T12:57:13.376700+00:00"
    },
    "jupyter": {
     "outputs_hidden": false,
     "source_hidden": false
    },
    "noteable": {
     "cell_type": "code",
     "output_collection_id": "0b1cabfd-9d78-443b-908f-2801b90308db"
    }
   },
   "outputs": [],
   "source": [
    "data_analyst.info()"
   ]
  },
  {
   "cell_type": "code",
   "execution_count": null,
   "id": "bcd98680-9934-4aa4-87ed-867e9588ef43",
   "metadata": {
    "ExecuteTime": {
     "end_time": "2023-12-15T14:44:06.802474+00:00",
     "start_time": "2023-12-15T14:44:05.964144+00:00"
    },
    "jupyter": {
     "outputs_hidden": false,
     "source_hidden": false
    },
    "noteable": {
     "cell_type": "code",
     "output_collection_id": "cf954cf4-89eb-483a-abc5-d9258045ffbc"
    }
   },
   "outputs": [],
   "source": [
    "# Splitting the skills in each row and calculating the frequency of each individual skill\n",
    "da_skill_frequency = data_analyst['skill'].str.split(', ', expand=True).stack().value_counts()\n",
    "\n",
    "da_top_10_skills = da_skill_frequency.head(10)"
   ]
  },
  {
   "cell_type": "code",
   "execution_count": null,
   "id": "08b4cf8e-e349-4bcc-b191-6390b835360b",
   "metadata": {
    "jupyter": {
     "outputs_hidden": false,
     "source_hidden": false
    },
    "noteable": {
     "cell_type": "code"
    }
   },
   "outputs": [],
   "source": [
    "#da_top_10_skills.to_csv('9_da_top_skills.csv')"
   ]
  },
  {
   "cell_type": "code",
   "execution_count": null,
   "id": "1bf7c349-0fdd-4b5b-a18e-3da8a091b91c",
   "metadata": {
    "ExecuteTime": {
     "end_time": "2023-12-15T14:44:34.954309+00:00",
     "start_time": "2023-12-15T14:44:34.674263+00:00"
    },
    "datalink": {
     "05e7ba51-63a0-4312-90c5-0ed85eb59df2": {
      "applied_filters": [],
      "dataframe_info": {
       "default_index_used": false,
       "orig_num_cols": 1,
       "orig_num_rows": 10,
       "orig_size_bytes": 160,
       "truncated_num_cols": 1,
       "truncated_num_rows": 10,
       "truncated_size_bytes": 160,
       "truncated_string_columns": []
      },
      "display_id": "05e7ba51-63a0-4312-90c5-0ed85eb59df2",
      "dx_settings": {
       "ALLOW_NOTEABLE_ATTRS": true,
       "COLUMN_SAMPLING_METHOD": "outer",
       "DB_LOCATION": ":memory:",
       "DEV_MODE": false,
       "DISPLAY_MAX_COLUMNS": 100,
       "DISPLAY_MAX_ROWS": 50000,
       "DISPLAY_MODE": "simple",
       "ENABLE_ASSIGNMENT": true,
       "ENABLE_DATALINK": true,
       "FLATTEN_COLUMN_VALUES": true,
       "FLATTEN_INDEX_VALUES": false,
       "GENERATE_DEX_METADATA": false,
       "HTML_TABLE_SCHEMA": false,
       "LOG_LEVEL": 30,
       "MAX_RENDER_SIZE_BYTES": 104857600,
       "MAX_STRING_LENGTH": 250,
       "NUM_PAST_SAMPLES_TRACKED": 3,
       "RANDOM_STATE": 12648430,
       "RESET_INDEX_VALUES": false,
       "ROW_SAMPLING_METHOD": "random",
       "SAMPLING_FACTOR": 0.1,
       "SAMPLING_METHOD": "random",
       "STRINGIFY_COLUMN_VALUES": true,
       "STRINGIFY_INDEX_VALUES": false
      },
      "sample_history": [],
      "sampling_time": "2023-12-15T14:20:02.984608",
      "user_variable_name": null,
      "variable_name": "unk_dataframe_1cbd3ff25e814c9186476cec2072e91f"
     },
     "571132e2-0da8-4873-a826-d0c869b3cb1e": {
      "applied_filters": [],
      "dataframe_info": {
       "default_index_used": false,
       "orig_num_cols": 1,
       "orig_num_rows": 10,
       "orig_size_bytes": 160,
       "truncated_num_cols": 1,
       "truncated_num_rows": 10,
       "truncated_size_bytes": 160,
       "truncated_string_columns": []
      },
      "display_id": "571132e2-0da8-4873-a826-d0c869b3cb1e",
      "dx_settings": {
       "ALLOW_NOTEABLE_ATTRS": true,
       "COLUMN_SAMPLING_METHOD": "outer",
       "DB_LOCATION": ":memory:",
       "DEV_MODE": false,
       "DISPLAY_MAX_COLUMNS": 100,
       "DISPLAY_MAX_ROWS": 50000,
       "DISPLAY_MODE": "simple",
       "ENABLE_ASSIGNMENT": true,
       "ENABLE_DATALINK": true,
       "FLATTEN_COLUMN_VALUES": true,
       "FLATTEN_INDEX_VALUES": false,
       "GENERATE_DEX_METADATA": false,
       "HTML_TABLE_SCHEMA": false,
       "LOG_LEVEL": 30,
       "MAX_RENDER_SIZE_BYTES": 104857600,
       "MAX_STRING_LENGTH": 250,
       "NUM_PAST_SAMPLES_TRACKED": 3,
       "RANDOM_STATE": 12648430,
       "RESET_INDEX_VALUES": false,
       "ROW_SAMPLING_METHOD": "random",
       "SAMPLING_FACTOR": 0.1,
       "SAMPLING_METHOD": "random",
       "STRINGIFY_COLUMN_VALUES": true,
       "STRINGIFY_INDEX_VALUES": false
      },
      "sample_history": [],
      "sampling_time": "2023-12-15T12:58:32.533912",
      "user_variable_name": null,
      "variable_name": "unk_dataframe_0950ce2082e048969bac0f628a84774a"
     },
     "8ccf98aa-419d-4392-8c3e-498783401b26": {
      "applied_filters": [],
      "dataframe_info": {
       "default_index_used": false,
       "orig_num_cols": 1,
       "orig_num_rows": 10,
       "orig_size_bytes": 160,
       "truncated_num_cols": 1,
       "truncated_num_rows": 10,
       "truncated_size_bytes": 160,
       "truncated_string_columns": []
      },
      "display_id": "8ccf98aa-419d-4392-8c3e-498783401b26",
      "dx_settings": {
       "ALLOW_NOTEABLE_ATTRS": true,
       "COLUMN_SAMPLING_METHOD": "outer",
       "DB_LOCATION": ":memory:",
       "DEV_MODE": false,
       "DISPLAY_MAX_COLUMNS": 100,
       "DISPLAY_MAX_ROWS": 50000,
       "DISPLAY_MODE": "simple",
       "ENABLE_ASSIGNMENT": true,
       "ENABLE_DATALINK": true,
       "FLATTEN_COLUMN_VALUES": true,
       "FLATTEN_INDEX_VALUES": false,
       "GENERATE_DEX_METADATA": false,
       "HTML_TABLE_SCHEMA": false,
       "LOG_LEVEL": 30,
       "MAX_RENDER_SIZE_BYTES": 104857600,
       "MAX_STRING_LENGTH": 250,
       "NUM_PAST_SAMPLES_TRACKED": 3,
       "RANDOM_STATE": 12648430,
       "RESET_INDEX_VALUES": false,
       "ROW_SAMPLING_METHOD": "random",
       "SAMPLING_FACTOR": 0.1,
       "SAMPLING_METHOD": "random",
       "STRINGIFY_COLUMN_VALUES": true,
       "STRINGIFY_INDEX_VALUES": false
      },
      "sample_history": [],
      "sampling_time": "2023-12-15T12:57:36.659914",
      "user_variable_name": null,
      "variable_name": "unk_dataframe_54d7cbba28194d9faa9234c782fc7454"
     },
     "91a4717d-2714-47a0-a424-8f0aecc66fbf": {
      "applied_filters": [],
      "dataframe_info": {
       "default_index_used": false,
       "orig_num_cols": 1,
       "orig_num_rows": 235,
       "orig_size_bytes": 3760,
       "truncated_num_cols": 1,
       "truncated_num_rows": 235,
       "truncated_size_bytes": 3760,
       "truncated_string_columns": []
      },
      "display_id": "91a4717d-2714-47a0-a424-8f0aecc66fbf",
      "dx_settings": {
       "ALLOW_NOTEABLE_ATTRS": true,
       "COLUMN_SAMPLING_METHOD": "outer",
       "DB_LOCATION": ":memory:",
       "DEV_MODE": false,
       "DISPLAY_MAX_COLUMNS": 100,
       "DISPLAY_MAX_ROWS": 50000,
       "DISPLAY_MODE": "simple",
       "ENABLE_ASSIGNMENT": true,
       "ENABLE_DATALINK": true,
       "FLATTEN_COLUMN_VALUES": true,
       "FLATTEN_INDEX_VALUES": false,
       "GENERATE_DEX_METADATA": false,
       "HTML_TABLE_SCHEMA": false,
       "LOG_LEVEL": 30,
       "MAX_RENDER_SIZE_BYTES": 104857600,
       "MAX_STRING_LENGTH": 250,
       "NUM_PAST_SAMPLES_TRACKED": 3,
       "RANDOM_STATE": 12648430,
       "RESET_INDEX_VALUES": false,
       "ROW_SAMPLING_METHOD": "random",
       "SAMPLING_FACTOR": 0.1,
       "SAMPLING_METHOD": "random",
       "STRINGIFY_COLUMN_VALUES": true,
       "STRINGIFY_INDEX_VALUES": false
      },
      "sample_history": [],
      "sampling_time": "2023-12-15T12:51:25.372322",
      "user_variable_name": "da_skill_frequency",
      "variable_name": "da_skill_frequency"
     },
     "b777b097-dcdb-416e-809c-af4c95dc57a5": {
      "applied_filters": [],
      "dataframe_info": {
       "default_index_used": true,
       "orig_num_cols": 2,
       "orig_num_rows": 10,
       "orig_size_bytes": 240,
       "truncated_num_cols": 2,
       "truncated_num_rows": 10,
       "truncated_size_bytes": 240,
       "truncated_string_columns": []
      },
      "display_id": "b777b097-dcdb-416e-809c-af4c95dc57a5",
      "dx_settings": {
       "ALLOW_NOTEABLE_ATTRS": true,
       "COLUMN_SAMPLING_METHOD": "outer",
       "DB_LOCATION": ":memory:",
       "DEV_MODE": false,
       "DISPLAY_MAX_COLUMNS": 100,
       "DISPLAY_MAX_ROWS": 50000,
       "DISPLAY_MODE": "simple",
       "ENABLE_ASSIGNMENT": true,
       "ENABLE_DATALINK": true,
       "FLATTEN_COLUMN_VALUES": true,
       "FLATTEN_INDEX_VALUES": false,
       "GENERATE_DEX_METADATA": false,
       "HTML_TABLE_SCHEMA": false,
       "LOG_LEVEL": 30,
       "MAX_RENDER_SIZE_BYTES": 104857600,
       "MAX_STRING_LENGTH": 250,
       "NUM_PAST_SAMPLES_TRACKED": 3,
       "RANDOM_STATE": 12648430,
       "RESET_INDEX_VALUES": false,
       "ROW_SAMPLING_METHOD": "random",
       "SAMPLING_FACTOR": 0.1,
       "SAMPLING_METHOD": "random",
       "STRINGIFY_COLUMN_VALUES": true,
       "STRINGIFY_INDEX_VALUES": false
      },
      "sample_history": [],
      "sampling_time": "2023-12-15T14:44:34.794102",
      "user_variable_name": "da_top_10_skills_df",
      "variable_name": "da_top_10_skills_df"
     }
    },
    "dx": {
     "dashboard": {
      "multiViews": []
     },
     "fieldMetadata": {},
     "simpleTable": true,
     "updated": 1702645049376,
     "views": [
      {
       "annotationRules": [],
       "chart": {},
       "chartMode": "grid",
       "confoRules": [],
       "decoration": {
        "footer": "",
        "subtitle": "",
        "title": "Table"
       },
       "facets": [],
       "filterSettings": {
        "SHOW_FILTER_PANEL": true,
        "filters": []
       },
       "id": "first-view",
       "isDefault": true,
       "type": "public",
       "userID": ""
      },
      {
       "annotationRules": [],
       "chart": {
        "tableSparklines": false
       },
       "chartMode": "grid",
       "confoRules": [],
       "decoration": {
        "footer": "",
        "subtitle": "",
        "title": "Table"
       },
       "facets": [],
       "filterSettings": {
        "SHOW_FILTER_PANEL": true,
        "filters": []
       },
       "id": "first-view",
       "isDefault": true,
       "isTransitory": true,
       "type": "public",
       "userID": ""
      }
     ]
    },
    "jupyter": {
     "outputs_hidden": true
    },
    "noteable": {
     "cell_type": "python",
     "output_collection_id": "1e9ee823-ff80-49db-a481-2deeee97aafb"
    }
   },
   "outputs": [],
   "source": [
    "# Converting the counts in 'da_top_10_skills' to percentages\n",
    "da_top_10_skills_percentage = da_top_10_skills / 122051 * 100\n",
    "\n",
    "# Converting the numerical values in 'da_top_10_skills_percentage' to integers\n",
    "da_top_10_skills_pct = da_top_10_skills_percentage.astype(int)\n",
    "\n",
    "# Converting the series 'da_top_10_skills_pct' to a DataFrame\n",
    "da_top_10_skills_df = da_top_10_skills_pct.reset_index()\n",
    "da_top_10_skills_df.columns = ['skill', 'freq_in_pct']\n",
    "\n",
    "da_top_10_skills_df"
   ]
  },
  {
   "cell_type": "code",
   "execution_count": null,
   "id": "a3a9f0f5-5125-4586-a474-4d6b37525dac",
   "metadata": {
    "jupyter": {
     "outputs_hidden": false,
     "source_hidden": false
    },
    "noteable": {
     "cell_type": "code"
    }
   },
   "outputs": [],
   "source": [
    "#da_top_10_skills_df.to_csv('10_da_top_skills.csv')"
   ]
  },
  {
   "cell_type": "code",
   "execution_count": null,
   "id": "25a40991-09ed-4e41-af93-27ce71ff85a2",
   "metadata": {
    "ExecuteTime": {
     "end_time": "2023-12-15T14:26:37.836675+00:00",
     "start_time": "2023-12-15T14:26:37.409327+00:00"
    },
    "jupyter": {
     "outputs_hidden": false,
     "source_hidden": false
    },
    "noteable": {
     "cell_type": "code",
     "output_collection_id": "f1790ae2-bcd4-4985-bdd0-7f95756eabbb"
    }
   },
   "outputs": [],
   "source": [
    "# Plotting a bar chart for the most frequent skills in 'Data Analyst' job posts\n",
    "df_sorted_da = da_top_10_skills_df.sort_values('freq_in_pct', ascending=False)\n",
    "\n",
    "sns.set_style(style=\"whitegrid\") \n",
    "plt.style.use(\"default\")\n",
    "plt.figure(figsize=(16,10))\n",
    "#palette = sns.color_palette('#ff6f69', n_colors=10) \n",
    "\n",
    "sns.barplot(x='freq_in_pct', y='skill', data=df_sorted_da, color='#ff6f69')\n",
    "plt.title('Top 10 Skills for Data Analysts', fontsize = 16)\n",
    "plt.xlabel(\"Percetage of Appearance in 'Data Analyst' Job Postings\" , fontsize = 14)\n",
    "plt.xticks(fontsize=14)\n",
    "plt.yticks(fontsize=12)\n",
    "plt.ylabel('')\n",
    "\n",
    "#plt.savefig('6_da_top_skills_pct.png')\n",
    "plt.show()"
   ]
  },
  {
   "cell_type": "markdown",
   "id": "97286d0e-42e4-4d17-99e9-aa3426795d7f",
   "metadata": {
    "noteable": {
     "cell_type": "markdown"
    }
   },
   "source": [
    "## Most Popular Skills for Data Scientists\n",
    "Analyze the data to determine the most frequently demanded skills for Data Scientists, focusing on areas like machine learning, statistical analysis, and programming languages like Python and R."
   ]
  },
  {
   "cell_type": "code",
   "execution_count": null,
   "id": "f12db9b8-91e5-41e7-9925-404e51f2d925",
   "metadata": {
    "ExecuteTime": {
     "end_time": "2023-12-15T14:31:18.617118+00:00",
     "start_time": "2023-12-15T14:31:17.101889+00:00"
    },
    "datalink": {
     "38641af8-a876-4acf-9012-8b814d7651ef": {
      "applied_filters": [],
      "dataframe_info": {
       "default_index_used": false,
       "orig_num_cols": 2,
       "orig_num_rows": 0,
       "orig_size_bytes": 0,
       "truncated_num_cols": 2,
       "truncated_num_rows": 0,
       "truncated_size_bytes": 0,
       "truncated_string_columns": []
      },
      "display_id": "38641af8-a876-4acf-9012-8b814d7651ef",
      "dx_settings": {
       "ALLOW_NOTEABLE_ATTRS": true,
       "COLUMN_SAMPLING_METHOD": "outer",
       "DB_LOCATION": ":memory:",
       "DEV_MODE": false,
       "DISPLAY_MAX_COLUMNS": 100,
       "DISPLAY_MAX_ROWS": 50000,
       "DISPLAY_MODE": "simple",
       "ENABLE_ASSIGNMENT": true,
       "ENABLE_DATALINK": true,
       "FLATTEN_COLUMN_VALUES": true,
       "FLATTEN_INDEX_VALUES": false,
       "GENERATE_DEX_METADATA": false,
       "HTML_TABLE_SCHEMA": false,
       "LOG_LEVEL": 30,
       "MAX_RENDER_SIZE_BYTES": 104857600,
       "MAX_STRING_LENGTH": 250,
       "NUM_PAST_SAMPLES_TRACKED": 3,
       "RANDOM_STATE": 12648430,
       "RESET_INDEX_VALUES": false,
       "ROW_SAMPLING_METHOD": "random",
       "SAMPLING_FACTOR": 0.1,
       "SAMPLING_METHOD": "random",
       "STRINGIFY_COLUMN_VALUES": true,
       "STRINGIFY_INDEX_VALUES": false
      },
      "sample_history": [],
      "sampling_time": "2023-12-15T14:30:43.707100",
      "user_variable_name": "sql_df_1",
      "variable_name": "sql_df_1"
     },
     "a99c8ba0-bda5-4195-8166-0561d6211fe1": {
      "applied_filters": [],
      "dataframe_info": {
       "default_index_used": true,
       "orig_num_cols": 2,
       "orig_num_rows": 121911,
       "orig_size_bytes": 2925864,
       "truncated_num_cols": 2,
       "truncated_num_rows": 50000,
       "truncated_size_bytes": 1200000,
       "truncated_string_columns": [
        "skill"
       ]
      },
      "display_id": "a99c8ba0-bda5-4195-8166-0561d6211fe1",
      "dx_settings": {
       "ALLOW_NOTEABLE_ATTRS": true,
       "COLUMN_SAMPLING_METHOD": "outer",
       "DB_LOCATION": ":memory:",
       "DEV_MODE": false,
       "DISPLAY_MAX_COLUMNS": 100,
       "DISPLAY_MAX_ROWS": 50000,
       "DISPLAY_MODE": "simple",
       "ENABLE_ASSIGNMENT": true,
       "ENABLE_DATALINK": true,
       "FLATTEN_COLUMN_VALUES": true,
       "FLATTEN_INDEX_VALUES": false,
       "GENERATE_DEX_METADATA": false,
       "HTML_TABLE_SCHEMA": false,
       "LOG_LEVEL": 30,
       "MAX_RENDER_SIZE_BYTES": 104857600,
       "MAX_STRING_LENGTH": 250,
       "NUM_PAST_SAMPLES_TRACKED": 3,
       "RANDOM_STATE": 12648430,
       "RESET_INDEX_VALUES": false,
       "ROW_SAMPLING_METHOD": "random",
       "SAMPLING_FACTOR": 0.1,
       "SAMPLING_METHOD": "random",
       "STRINGIFY_COLUMN_VALUES": true,
       "STRINGIFY_INDEX_VALUES": false
      },
      "sample_history": [],
      "sampling_time": "2023-12-15T14:31:18.352046",
      "user_variable_name": "data_scientist",
      "variable_name": "data_scientist"
     },
     "bc224d10-8ac8-4e82-89c6-3235d002f24d": {
      "applied_filters": [],
      "dataframe_info": {
       "default_index_used": true,
       "orig_num_cols": 2,
       "orig_num_rows": 121911,
       "orig_size_bytes": 2925864,
       "truncated_num_cols": 2,
       "truncated_num_rows": 50000,
       "truncated_size_bytes": 1200000,
       "truncated_string_columns": [
        "skill"
       ]
      },
      "display_id": "bc224d10-8ac8-4e82-89c6-3235d002f24d",
      "dx_settings": {
       "ALLOW_NOTEABLE_ATTRS": true,
       "COLUMN_SAMPLING_METHOD": "outer",
       "DB_LOCATION": ":memory:",
       "DEV_MODE": false,
       "DISPLAY_MAX_COLUMNS": 100,
       "DISPLAY_MAX_ROWS": 50000,
       "DISPLAY_MODE": "simple",
       "ENABLE_ASSIGNMENT": true,
       "ENABLE_DATALINK": true,
       "FLATTEN_COLUMN_VALUES": true,
       "FLATTEN_INDEX_VALUES": false,
       "GENERATE_DEX_METADATA": false,
       "HTML_TABLE_SCHEMA": false,
       "LOG_LEVEL": 30,
       "MAX_RENDER_SIZE_BYTES": 104857600,
       "MAX_STRING_LENGTH": 250,
       "NUM_PAST_SAMPLES_TRACKED": 3,
       "RANDOM_STATE": 12648430,
       "RESET_INDEX_VALUES": false,
       "ROW_SAMPLING_METHOD": "random",
       "SAMPLING_FACTOR": 0.1,
       "SAMPLING_METHOD": "random",
       "STRINGIFY_COLUMN_VALUES": true,
       "STRINGIFY_INDEX_VALUES": false
      },
      "sample_history": [],
      "sampling_time": "2023-12-15T14:30:53.943048",
      "user_variable_name": "sql_df_1",
      "variable_name": "sql_df_1"
     }
    },
    "dx": {
     "dashboard": {
      "multiViews": []
     },
     "fieldMetadata": {},
     "updated": 1702650659165,
     "views": [
      {
       "annotationRules": [],
       "chart": {},
       "chartMode": "grid",
       "confoRules": [],
       "decoration": {
        "footer": "",
        "subtitle": "",
        "title": "Table"
       },
       "facets": [],
       "filterSettings": {
        "SHOW_FILTER_PANEL": true,
        "filters": []
       },
       "id": "first-view",
       "isDefault": true,
       "type": "public",
       "userID": ""
      },
      {
       "annotationRules": [],
       "chart": {
        "tableSparklines": false
       },
       "chartMode": "grid",
       "confoRules": [],
       "decoration": {
        "footer": "",
        "subtitle": "",
        "title": "Table"
       },
       "facets": [],
       "filterSettings": {
        "SHOW_FILTER_PANEL": true,
        "filters": []
       },
       "id": "first-view",
       "isDefault": true,
       "isTransitory": true,
       "type": "public",
       "userID": ""
      }
     ]
    },
    "jupyter": {
     "outputs_hidden": true
    },
    "noteable": {
     "assign_results_to": "data_scientist",
     "cell_type": "sql",
     "db_connection": "@noteable",
     "output_collection_id": "2e04bda5-3ce8-4081-9070-6fb69a40cb95"
    }
   },
   "outputs": [],
   "source": [
    "SELECT\n",
    "    job_title,\n",
    "    skill\n",
    "FROM data_cleaned.csv\n",
    "WHERE job_title = 'Data Scientist'"
   ]
  },
  {
   "cell_type": "code",
   "execution_count": null,
   "id": "5f8861f4-5b8d-4763-a875-ecf2991f5e1e",
   "metadata": {
    "ExecuteTime": {
     "end_time": "2023-12-15T14:31:40.854857+00:00",
     "start_time": "2023-12-15T14:31:40.655351+00:00"
    },
    "jupyter": {
     "outputs_hidden": false,
     "source_hidden": false
    },
    "noteable": {
     "cell_type": "code",
     "output_collection_id": "2c07731a-f4b9-48f5-b6e3-099e73a21fdd"
    }
   },
   "outputs": [],
   "source": [
    "data_scientist.info()"
   ]
  },
  {
   "cell_type": "code",
   "execution_count": null,
   "id": "59d0f49b-c2fc-43e5-bf30-6d824a6e3f96",
   "metadata": {
    "ExecuteTime": {
     "end_time": "2023-12-15T14:41:42.552770+00:00",
     "start_time": "2023-12-15T14:41:41.627851+00:00"
    },
    "jupyter": {
     "outputs_hidden": false,
     "source_hidden": false
    },
    "noteable": {
     "cell_type": "code",
     "output_collection_id": "0fa51901-bef2-4df1-924a-2ebdd5887c36"
    }
   },
   "outputs": [],
   "source": [
    "# Splitting the skills in each row and calculating the frequency of each individual skill\n",
    "ds_skill_frequency = data_scientist['skill'].str.split(', ', expand=True).stack().value_counts()\n",
    "\n",
    "ds_top_10_skills = ds_skill_frequency.head(10)"
   ]
  },
  {
   "cell_type": "code",
   "execution_count": null,
   "id": "34ae10fd-97ad-4b78-b3f3-d3f0c27a1c9c",
   "metadata": {
    "ExecuteTime": {
     "end_time": "2023-12-15T14:42:18.634785+00:00",
     "start_time": "2023-12-15T14:42:18.478380+00:00"
    },
    "jupyter": {
     "outputs_hidden": false,
     "source_hidden": false
    },
    "noteable": {
     "cell_type": "code",
     "output_collection_id": "b72b72d2-7a12-437f-a052-b9902b8f28eb"
    }
   },
   "outputs": [],
   "source": [
    "#ds_top_10_skills.to_csv('11_ds_top_skills.csv')"
   ]
  },
  {
   "cell_type": "code",
   "execution_count": null,
   "id": "3efac25c-1d3a-47ab-a59f-8b7f2b69cfef",
   "metadata": {
    "ExecuteTime": {
     "end_time": "2023-12-15T14:39:24.386047+00:00",
     "start_time": "2023-12-15T14:39:23.334476+00:00"
    },
    "datalink": {
     "a80cff7e-06fd-4726-91e3-39694d395423": {
      "applied_filters": [],
      "dataframe_info": {
       "default_index_used": true,
       "orig_num_cols": 2,
       "orig_num_rows": 10,
       "orig_size_bytes": 240,
       "truncated_num_cols": 2,
       "truncated_num_rows": 10,
       "truncated_size_bytes": 240,
       "truncated_string_columns": []
      },
      "display_id": "a80cff7e-06fd-4726-91e3-39694d395423",
      "dx_settings": {
       "ALLOW_NOTEABLE_ATTRS": true,
       "COLUMN_SAMPLING_METHOD": "outer",
       "DB_LOCATION": ":memory:",
       "DEV_MODE": false,
       "DISPLAY_MAX_COLUMNS": 100,
       "DISPLAY_MAX_ROWS": 50000,
       "DISPLAY_MODE": "simple",
       "ENABLE_ASSIGNMENT": true,
       "ENABLE_DATALINK": true,
       "FLATTEN_COLUMN_VALUES": true,
       "FLATTEN_INDEX_VALUES": false,
       "GENERATE_DEX_METADATA": false,
       "HTML_TABLE_SCHEMA": false,
       "LOG_LEVEL": 30,
       "MAX_RENDER_SIZE_BYTES": 104857600,
       "MAX_STRING_LENGTH": 250,
       "NUM_PAST_SAMPLES_TRACKED": 3,
       "RANDOM_STATE": 12648430,
       "RESET_INDEX_VALUES": false,
       "ROW_SAMPLING_METHOD": "random",
       "SAMPLING_FACTOR": 0.1,
       "SAMPLING_METHOD": "random",
       "STRINGIFY_COLUMN_VALUES": true,
       "STRINGIFY_INDEX_VALUES": false
      },
      "sample_history": [],
      "sampling_time": "2023-12-15T14:37:46.693087",
      "user_variable_name": "ds_top_10_skills_df",
      "variable_name": "ds_top_10_skills_df"
     },
     "bb11f93a-531e-44c0-bfa4-db77595a1653": {
      "applied_filters": [],
      "dataframe_info": {
       "default_index_used": true,
       "orig_num_cols": 2,
       "orig_num_rows": 10,
       "orig_size_bytes": 240,
       "truncated_num_cols": 2,
       "truncated_num_rows": 10,
       "truncated_size_bytes": 240,
       "truncated_string_columns": []
      },
      "display_id": "bb11f93a-531e-44c0-bfa4-db77595a1653",
      "dx_settings": {
       "ALLOW_NOTEABLE_ATTRS": true,
       "COLUMN_SAMPLING_METHOD": "outer",
       "DB_LOCATION": ":memory:",
       "DEV_MODE": false,
       "DISPLAY_MAX_COLUMNS": 100,
       "DISPLAY_MAX_ROWS": 50000,
       "DISPLAY_MODE": "simple",
       "ENABLE_ASSIGNMENT": true,
       "ENABLE_DATALINK": true,
       "FLATTEN_COLUMN_VALUES": true,
       "FLATTEN_INDEX_VALUES": false,
       "GENERATE_DEX_METADATA": false,
       "HTML_TABLE_SCHEMA": false,
       "LOG_LEVEL": 30,
       "MAX_RENDER_SIZE_BYTES": 104857600,
       "MAX_STRING_LENGTH": 250,
       "NUM_PAST_SAMPLES_TRACKED": 3,
       "RANDOM_STATE": 12648430,
       "RESET_INDEX_VALUES": false,
       "ROW_SAMPLING_METHOD": "random",
       "SAMPLING_FACTOR": 0.1,
       "SAMPLING_METHOD": "random",
       "STRINGIFY_COLUMN_VALUES": true,
       "STRINGIFY_INDEX_VALUES": false
      },
      "sample_history": [],
      "sampling_time": "2023-12-15T14:39:06.914180",
      "user_variable_name": "ds_top_10_skills_df",
      "variable_name": "ds_top_10_skills_df"
     },
     "d7c70ec2-3a03-4b23-8c77-9c059d0e850b": {
      "applied_filters": [],
      "dataframe_info": {
       "default_index_used": true,
       "orig_num_cols": 2,
       "orig_num_rows": 10,
       "orig_size_bytes": 240,
       "truncated_num_cols": 2,
       "truncated_num_rows": 10,
       "truncated_size_bytes": 240,
       "truncated_string_columns": []
      },
      "display_id": "d7c70ec2-3a03-4b23-8c77-9c059d0e850b",
      "dx_settings": {
       "ALLOW_NOTEABLE_ATTRS": true,
       "COLUMN_SAMPLING_METHOD": "outer",
       "DB_LOCATION": ":memory:",
       "DEV_MODE": false,
       "DISPLAY_MAX_COLUMNS": 100,
       "DISPLAY_MAX_ROWS": 50000,
       "DISPLAY_MODE": "simple",
       "ENABLE_ASSIGNMENT": true,
       "ENABLE_DATALINK": true,
       "FLATTEN_COLUMN_VALUES": true,
       "FLATTEN_INDEX_VALUES": false,
       "GENERATE_DEX_METADATA": false,
       "HTML_TABLE_SCHEMA": false,
       "LOG_LEVEL": 30,
       "MAX_RENDER_SIZE_BYTES": 104857600,
       "MAX_STRING_LENGTH": 250,
       "NUM_PAST_SAMPLES_TRACKED": 3,
       "RANDOM_STATE": 12648430,
       "RESET_INDEX_VALUES": false,
       "ROW_SAMPLING_METHOD": "random",
       "SAMPLING_FACTOR": 0.1,
       "SAMPLING_METHOD": "random",
       "STRINGIFY_COLUMN_VALUES": true,
       "STRINGIFY_INDEX_VALUES": false
      },
      "sample_history": [],
      "sampling_time": "2023-12-15T14:39:24.227047",
      "user_variable_name": "ds_top_10_skills_df",
      "variable_name": "ds_top_10_skills_df"
     }
    },
    "dx": {
     "fieldMetadata": {},
     "simpleTable": true,
     "updated": 1702651116361,
     "views": []
    },
    "jupyter": {
     "outputs_hidden": true,
     "source_hidden": false
    },
    "noteable": {
     "cell_type": "code",
     "output_collection_id": "968107d8-5317-4333-8131-8ea468520974"
    }
   },
   "outputs": [],
   "source": [
    "# Converting the counts in 'ds_top_10_skills' to percentages\n",
    "ds_top_10_skills_percentage = ds_top_10_skills / 121911 * 100\n",
    "\n",
    "# Converting the numerical values in 'ds_top_10_skills_percentage' to integers\n",
    "ds_top_10_skills_pct = ds_top_10_skills_percentage.astype(int)\n",
    "\n",
    "# Converting the series 'ds_top_10_skills_pct' to a DataFrame\n",
    "ds_top_10_skills_df = ds_top_10_skills_pct.reset_index()\n",
    "ds_top_10_skills_df.columns = ['skill', 'freq_in_pct']\n",
    "\n",
    "ds_top_10_skills_df"
   ]
  },
  {
   "cell_type": "code",
   "execution_count": null,
   "id": "2a108264-e9b8-4339-8cea-220902f4f98c",
   "metadata": {
    "ExecuteTime": {
     "end_time": "2023-12-15T14:40:55.257808+00:00",
     "start_time": "2023-12-15T14:40:55.101930+00:00"
    },
    "jupyter": {
     "outputs_hidden": false,
     "source_hidden": false
    },
    "noteable": {
     "cell_type": "code",
     "output_collection_id": "b9ca249e-d72d-4f6a-966b-02a3d15e2037"
    }
   },
   "outputs": [],
   "source": [
    "#ds_top_10_skills_df.to_csv('12_ds_top_skills_pct.csv')"
   ]
  },
  {
   "cell_type": "code",
   "execution_count": null,
   "id": "de98d9da-0cb9-460c-8ce8-f6620dc6a2e7",
   "metadata": {
    "ExecuteTime": {
     "end_time": "2023-12-15T14:47:30.044847+00:00",
     "start_time": "2023-12-15T14:47:29.465564+00:00"
    },
    "jupyter": {
     "outputs_hidden": false,
     "source_hidden": false
    },
    "noteable": {
     "cell_type": "code",
     "output_collection_id": "e31fcd1c-b052-4ef4-9ad1-2469a4a034cb"
    }
   },
   "outputs": [],
   "source": [
    "# Plotting a bar chart for the most frequent skills in 'Data Scientist' job posts\n",
    "df_sorted_ds = ds_top_10_skills_df.sort_values('freq_in_pct', ascending=False)\n",
    "\n",
    "sns.set_style(style=\"whitegrid\") \n",
    "plt.style.use(\"default\")\n",
    "plt.figure(figsize=(16,10))\n",
    "\n",
    "sns.barplot(x='freq_in_pct', y='skill', data=df_sorted_ds, color='#005b96')\n",
    "plt.title('Top 10 Skills for Data Scientists', fontsize = 16)\n",
    "plt.xlabel(\"Percetage of Appearance in 'Data Scientist' Job Postings\" , fontsize = 14)\n",
    "plt.xticks(fontsize=14)\n",
    "plt.yticks(fontsize=12)\n",
    "plt.ylabel('')\n",
    "\n",
    "plt.savefig('7_ds_top_skills_pct.png')\n",
    "plt.show()"
   ]
  },
  {
   "cell_type": "markdown",
   "id": "d589af7a-c0da-4847-9539-da181345392c",
   "metadata": {
    "noteable": {
     "cell_type": "markdown"
    }
   },
   "source": [
    "## Most Popular Skills for Data Engineers\n",
    "Data analysis to identify the key skills needed for Data Engineers, such as expertise in database management, ETL processes, and big data technologies Spark."
   ]
  },
  {
   "cell_type": "code",
   "execution_count": null,
   "id": "9adede96-29d3-43b5-ba7f-e0450c22305a",
   "metadata": {
    "ExecuteTime": {
     "end_time": "2023-12-15T14:49:48.193532+00:00",
     "start_time": "2023-12-15T14:49:46.565245+00:00"
    },
    "datalink": {
     "273cd705-2671-4134-b760-ed887b42263f": {
      "applied_filters": [],
      "dataframe_info": {
       "default_index_used": true,
       "orig_num_cols": 2,
       "orig_num_rows": 112251,
       "orig_size_bytes": 2694024,
       "truncated_num_cols": 2,
       "truncated_num_rows": 50000,
       "truncated_size_bytes": 1200000,
       "truncated_string_columns": [
        "skill"
       ]
      },
      "display_id": "273cd705-2671-4134-b760-ed887b42263f",
      "dx_settings": {
       "ALLOW_NOTEABLE_ATTRS": true,
       "COLUMN_SAMPLING_METHOD": "outer",
       "DB_LOCATION": ":memory:",
       "DEV_MODE": false,
       "DISPLAY_MAX_COLUMNS": 100,
       "DISPLAY_MAX_ROWS": 50000,
       "DISPLAY_MODE": "simple",
       "ENABLE_ASSIGNMENT": true,
       "ENABLE_DATALINK": true,
       "FLATTEN_COLUMN_VALUES": true,
       "FLATTEN_INDEX_VALUES": false,
       "GENERATE_DEX_METADATA": false,
       "HTML_TABLE_SCHEMA": false,
       "LOG_LEVEL": 30,
       "MAX_RENDER_SIZE_BYTES": 104857600,
       "MAX_STRING_LENGTH": 250,
       "NUM_PAST_SAMPLES_TRACKED": 3,
       "RANDOM_STATE": 12648430,
       "RESET_INDEX_VALUES": false,
       "ROW_SAMPLING_METHOD": "random",
       "SAMPLING_FACTOR": 0.1,
       "SAMPLING_METHOD": "random",
       "STRINGIFY_COLUMN_VALUES": true,
       "STRINGIFY_INDEX_VALUES": false
      },
      "sample_history": [],
      "sampling_time": "2023-12-15T14:49:47.922373",
      "user_variable_name": "data_engineer",
      "variable_name": "data_engineer"
     }
    },
    "dx": {
     "dashboard": {
      "multiViews": []
     },
     "fieldMetadata": {},
     "updated": 1702651793467,
     "views": [
      {
       "annotationRules": [],
       "chart": {},
       "chartMode": "grid",
       "confoRules": [],
       "decoration": {
        "footer": "",
        "subtitle": "",
        "title": "Table"
       },
       "facets": [],
       "filterSettings": {
        "SHOW_FILTER_PANEL": true,
        "filters": []
       },
       "id": "first-view",
       "isDefault": true,
       "type": "public",
       "userID": ""
      },
      {
       "annotationRules": [],
       "chart": {
        "tableSparklines": false
       },
       "chartMode": "grid",
       "confoRules": [],
       "decoration": {
        "footer": "",
        "subtitle": "",
        "title": "Table"
       },
       "facets": [],
       "filterSettings": {
        "SHOW_FILTER_PANEL": true,
        "filters": []
       },
       "id": "first-view",
       "isDefault": true,
       "isTransitory": true,
       "type": "public",
       "userID": ""
      }
     ]
    },
    "jupyter": {
     "outputs_hidden": true
    },
    "noteable": {
     "assign_results_to": "data_engineer",
     "cell_type": "sql",
     "db_connection": "@noteable",
     "output_collection_id": "fe5a4995-d13d-4b5c-b289-a158c9c0e27b"
    }
   },
   "outputs": [],
   "source": [
    "SELECT \n",
    "    job_title,\n",
    "    skill\n",
    "FROM data_cleaned.csv\n",
    "WHERE job_title = 'Data Engineer'"
   ]
  },
  {
   "cell_type": "code",
   "execution_count": null,
   "id": "c8a56fdf-6076-460b-a2ef-29b77fadf88d",
   "metadata": {
    "ExecuteTime": {
     "end_time": "2023-12-15T14:50:11.044503+00:00",
     "start_time": "2023-12-15T14:50:10.843852+00:00"
    },
    "noteable": {
     "cell_type": "python",
     "output_collection_id": "d52c1bab-8ac1-48d4-9ecb-cd1fc565a5dc"
    }
   },
   "outputs": [],
   "source": [
    "data_engineer.info()"
   ]
  },
  {
   "cell_type": "code",
   "execution_count": null,
   "id": "6464a8f8-2da3-4276-a73a-1c4f2291ea37",
   "metadata": {
    "ExecuteTime": {
     "end_time": "2023-12-15T14:55:30.625216+00:00",
     "start_time": "2023-12-15T14:55:29.897956+00:00"
    },
    "jupyter": {
     "outputs_hidden": false,
     "source_hidden": false
    },
    "noteable": {
     "cell_type": "code",
     "output_collection_id": "512ccbcf-8d19-4414-9e88-5bd2ffa08eb7"
    }
   },
   "outputs": [],
   "source": [
    "# Splitting the skills in each row and calculating the frequency of each individual skill\n",
    "de_skill_frequency = data_engineer['skill'].str.split(', ', expand=True).stack().value_counts()\n",
    "\n",
    "de_top_10_skills = de_skill_frequency.head(10)"
   ]
  },
  {
   "cell_type": "code",
   "execution_count": null,
   "id": "6a62cbb0-fc6e-4023-838a-2ec1ad93b8bc",
   "metadata": {
    "ExecuteTime": {
     "end_time": "2023-12-15T14:55:33.121092+00:00",
     "start_time": "2023-12-15T14:55:32.963440+00:00"
    },
    "jupyter": {
     "outputs_hidden": false,
     "source_hidden": false
    },
    "noteable": {
     "cell_type": "code",
     "output_collection_id": "77b63c46-52db-4a0e-822c-a4f036aeb318"
    }
   },
   "outputs": [],
   "source": [
    "de_top_10_skills.to_csv('13_de_top_skills.csv')"
   ]
  },
  {
   "cell_type": "code",
   "execution_count": null,
   "id": "4572ef8c-991d-4aa4-b6d4-dafd362baaef",
   "metadata": {
    "ExecuteTime": {
     "end_time": "2023-12-15T14:55:55.025298+00:00",
     "start_time": "2023-12-15T14:55:54.738671+00:00"
    },
    "datalink": {
     "2beae9e2-45b4-4cdd-bb53-868e5f128e6b": {
      "applied_filters": [],
      "dataframe_info": {
       "default_index_used": true,
       "orig_num_cols": 2,
       "orig_num_rows": 10,
       "orig_size_bytes": 240,
       "truncated_num_cols": 2,
       "truncated_num_rows": 10,
       "truncated_size_bytes": 240,
       "truncated_string_columns": []
      },
      "display_id": "2beae9e2-45b4-4cdd-bb53-868e5f128e6b",
      "dx_settings": {
       "ALLOW_NOTEABLE_ATTRS": true,
       "COLUMN_SAMPLING_METHOD": "outer",
       "DB_LOCATION": ":memory:",
       "DEV_MODE": false,
       "DISPLAY_MAX_COLUMNS": 100,
       "DISPLAY_MAX_ROWS": 50000,
       "DISPLAY_MODE": "simple",
       "ENABLE_ASSIGNMENT": true,
       "ENABLE_DATALINK": true,
       "FLATTEN_COLUMN_VALUES": true,
       "FLATTEN_INDEX_VALUES": false,
       "GENERATE_DEX_METADATA": false,
       "HTML_TABLE_SCHEMA": false,
       "LOG_LEVEL": 30,
       "MAX_RENDER_SIZE_BYTES": 104857600,
       "MAX_STRING_LENGTH": 250,
       "NUM_PAST_SAMPLES_TRACKED": 3,
       "RANDOM_STATE": 12648430,
       "RESET_INDEX_VALUES": false,
       "ROW_SAMPLING_METHOD": "random",
       "SAMPLING_FACTOR": 0.1,
       "SAMPLING_METHOD": "random",
       "STRINGIFY_COLUMN_VALUES": true,
       "STRINGIFY_INDEX_VALUES": false
      },
      "sample_history": [],
      "sampling_time": "2023-12-15T14:54:48.516700",
      "user_variable_name": "ds_top_10_skills_df",
      "variable_name": "ds_top_10_skills_df"
     },
     "63dff1d4-a444-4386-9883-62e95d23a0bc": {
      "applied_filters": [],
      "dataframe_info": {
       "default_index_used": true,
       "orig_num_cols": 2,
       "orig_num_rows": 10,
       "orig_size_bytes": 240,
       "truncated_num_cols": 2,
       "truncated_num_rows": 10,
       "truncated_size_bytes": 240,
       "truncated_string_columns": []
      },
      "display_id": "63dff1d4-a444-4386-9883-62e95d23a0bc",
      "dx_settings": {
       "ALLOW_NOTEABLE_ATTRS": true,
       "COLUMN_SAMPLING_METHOD": "outer",
       "DB_LOCATION": ":memory:",
       "DEV_MODE": false,
       "DISPLAY_MAX_COLUMNS": 100,
       "DISPLAY_MAX_ROWS": 50000,
       "DISPLAY_MODE": "simple",
       "ENABLE_ASSIGNMENT": true,
       "ENABLE_DATALINK": true,
       "FLATTEN_COLUMN_VALUES": true,
       "FLATTEN_INDEX_VALUES": false,
       "GENERATE_DEX_METADATA": false,
       "HTML_TABLE_SCHEMA": false,
       "LOG_LEVEL": 30,
       "MAX_RENDER_SIZE_BYTES": 104857600,
       "MAX_STRING_LENGTH": 250,
       "NUM_PAST_SAMPLES_TRACKED": 3,
       "RANDOM_STATE": 12648430,
       "RESET_INDEX_VALUES": false,
       "ROW_SAMPLING_METHOD": "random",
       "SAMPLING_FACTOR": 0.1,
       "SAMPLING_METHOD": "random",
       "STRINGIFY_COLUMN_VALUES": true,
       "STRINGIFY_INDEX_VALUES": false
      },
      "sample_history": [],
      "sampling_time": "2023-12-15T14:55:54.866049",
      "user_variable_name": "de_top_10_skills_df",
      "variable_name": "de_top_10_skills_df"
     }
    },
    "dx": {
     "fieldMetadata": {},
     "simpleTable": true,
     "updated": 1702652091286,
     "views": []
    },
    "jupyter": {
     "outputs_hidden": true,
     "source_hidden": false
    },
    "noteable": {
     "cell_type": "code",
     "output_collection_id": "2ba5fb8b-3c04-4d64-bb1d-55168404fcf4"
    }
   },
   "outputs": [],
   "source": [
    "# Converting the counts in 'de_top_10_skills' to percentages\n",
    "de_top_10_skills_percentage = de_top_10_skills / 121911 * 100\n",
    "\n",
    "# Converting the numerical values in 'de_top_10_skills_percentage' to integers\n",
    "de_top_10_skills_pct = de_top_10_skills_percentage.astype(int)\n",
    "\n",
    "# Converting the series 'de_top_10_skills_pct' to a DataFrame\n",
    "de_top_10_skills_df = de_top_10_skills_pct.reset_index()\n",
    "de_top_10_skills_df.columns = ['skill', 'freq_in_pct']\n",
    "\n",
    "de_top_10_skills_df"
   ]
  },
  {
   "cell_type": "code",
   "execution_count": null,
   "id": "42a1055f-c571-4218-8697-f4c238fa54b9",
   "metadata": {
    "ExecuteTime": {
     "end_time": "2023-12-15T14:56:25.917749+00:00",
     "start_time": "2023-12-15T14:56:25.762045+00:00"
    },
    "jupyter": {
     "outputs_hidden": false,
     "source_hidden": false
    },
    "noteable": {
     "cell_type": "code",
     "output_collection_id": "3f260c23-0931-4cdc-8df5-8d6d153841dd"
    }
   },
   "outputs": [],
   "source": [
    "#de_top_10_skills_df.to_csv('14_de_top_skills_pct.csv')"
   ]
  },
  {
   "cell_type": "code",
   "execution_count": null,
   "id": "b01ed572-cd1d-4a68-b3ad-950b511ce630",
   "metadata": {
    "ExecuteTime": {
     "end_time": "2023-12-15T14:58:13.207174+00:00",
     "start_time": "2023-12-15T14:58:12.661965+00:00"
    },
    "jupyter": {
     "outputs_hidden": false,
     "source_hidden": false
    },
    "noteable": {
     "cell_type": "code",
     "output_collection_id": "e586359f-4bcf-4364-930b-f937bee62bf6"
    }
   },
   "outputs": [],
   "source": [
    "# Plotting a bar chart for the most frequent skills in 'Data Engineer' job posts\n",
    "df_sorted_de = de_top_10_skills_df.sort_values('freq_in_pct', ascending=False)\n",
    "\n",
    "sns.set_style(style=\"whitegrid\") \n",
    "plt.style.use(\"default\")\n",
    "plt.figure(figsize=(16,10))\n",
    "\n",
    "sns.barplot(x='freq_in_pct', y='skill', data=df_sorted_de, color='#ffcc5c')\n",
    "plt.title('Top 10 Skills for Data Engineers', fontsize = 16)\n",
    "plt.xlabel(\"Percetage of Appearance in 'Data Engineer' Job Postings\" , fontsize = 14)\n",
    "plt.xticks(fontsize=14)\n",
    "plt.yticks(fontsize=12)\n",
    "plt.ylabel('')\n",
    "\n",
    "plt.savefig('8_de_top_skills_pct.png')\n",
    "plt.show()"
   ]
  },
  {
   "cell_type": "markdown",
   "id": "acfb2614-a7ba-4df6-891b-ce5c0838fbda",
   "metadata": {
    "noteable": {
     "cell_type": "markdown"
    }
   },
   "source": [
    "## Most Popular Skills Combined\n",
    "Perform a comparative analysis of skill requirements across diverse data-centric roles to isolate valuable skills."
   ]
  },
  {
   "cell_type": "code",
   "execution_count": null,
   "id": "6f0654e4-2f10-4b39-9c7f-3e6d17ec4114",
   "metadata": {
    "ExecuteTime": {
     "end_time": "2023-12-15T15:22:05.063298+00:00",
     "start_time": "2023-12-15T15:22:04.182489+00:00"
    },
    "jupyter": {
     "outputs_hidden": false,
     "source_hidden": true
    },
    "noteable": {
     "cell_type": "code",
     "output_collection_id": "77a5eea2-30da-4e81-a58c-36dff25f53a1"
    }
   },
   "outputs": [],
   "source": [
    "## GETTING A CSV FILE OF ALL SKILL PERCENTAGES FOR DATA ANALYST\n",
    "# Splitting the skills in each row and calculating the frequency of each individual skill\n",
    "da_all_skill_frequency = data_analyst['skill'].str.split(', ', expand=True).stack().value_counts()\n",
    "\n",
    "da_all_skills = da_all_skill_frequency\n",
    "\n",
    "da_all_skills_percentage = da_all_skills / 122051 * 100\n",
    "\n",
    "da_all_skills_pct = da_all_skills_percentage.astype(int)\n",
    "\n",
    "da_all_skills_df = da_all_skills_pct.reset_index()\n",
    "da_all_skills_df.columns = ['skill', 'freq_in_pct']\n",
    "\n",
    "#da_all_skills_df.to_csv('1_da_all_skills_pct.csv')"
   ]
  },
  {
   "cell_type": "code",
   "execution_count": null,
   "id": "05869a67-a7cd-4302-92e3-844b3ea1d9a2",
   "metadata": {
    "ExecuteTime": {
     "end_time": "2023-12-15T15:27:59.493951+00:00",
     "start_time": "2023-12-15T15:27:58.541076+00:00"
    },
    "jupyter": {
     "outputs_hidden": false,
     "source_hidden": true
    },
    "noteable": {
     "cell_type": "code",
     "output_collection_id": "16a99ab4-cf86-40a7-847d-14d941a48030"
    }
   },
   "outputs": [],
   "source": [
    "## GETTING A CSV FILE OF ALL SKILL PERCENTAGES FOR DATA SCIENTIST\n",
    "# Splitting the skills in each row and calculating the frequency of each individual skill\n",
    "ds_all_skill_frequency = data_scientist['skill'].str.split(', ', expand=True).stack().value_counts()\n",
    "\n",
    "ds_all_skills = ds_all_skill_frequency\n",
    "\n",
    "ds_all_skills_percentage = ds_all_skills / 121911 * 100\n",
    "\n",
    "ds_all_skills_pct = ds_all_skills_percentage.astype(int)\n",
    "\n",
    "ds_all_skills_df = ds_all_skills_pct.reset_index()\n",
    "ds_all_skills_df.columns = ['skill', 'freq_in_pct']\n",
    "\n",
    "#ds_all_skills_df.to_csv('2_ds_all_skills_pct.csv')"
   ]
  },
  {
   "cell_type": "code",
   "execution_count": null,
   "id": "147ce6b8-6d16-4674-91c4-89a0f4fe80f8",
   "metadata": {
    "ExecuteTime": {
     "end_time": "2023-12-15T15:30:47.597983+00:00",
     "start_time": "2023-12-15T15:30:46.629099+00:00"
    },
    "jupyter": {
     "outputs_hidden": false,
     "source_hidden": true
    },
    "noteable": {
     "cell_type": "code",
     "output_collection_id": "94ebe0b3-e1ad-4ea6-81ee-e054d2daaea4"
    }
   },
   "outputs": [],
   "source": [
    "## GETTING A CSV FILE OF ALL SKILL PERCENTAGES FOR DATA ENGINEER\n",
    "# Splitting the skills in each row and calculating the frequency of each individual skill\n",
    "de_all_skill_frequency = data_engineer['skill'].str.split(', ', expand=True).stack().value_counts()\n",
    "\n",
    "de_all_skills = de_all_skill_frequency\n",
    "\n",
    "de_all_skills_percentage = de_all_skills / 112251 * 100\n",
    "\n",
    "de_all_skills_pct = de_all_skills_percentage.astype(int)\n",
    "\n",
    "de_all_skills_df = de_all_skills_pct.reset_index()\n",
    "de_all_skills_df.columns = ['skill', 'freq_in_pct']\n",
    "\n",
    "#de_all_skills_df.to_csv('3_de_all_skills_pct.csv')"
   ]
  },
  {
   "cell_type": "code",
   "execution_count": null,
   "id": "d509b803-6493-4576-93d6-8b9c68fcd0b4",
   "metadata": {
    "ExecuteTime": {
     "end_time": "2023-12-15T15:34:20.118405+00:00",
     "start_time": "2023-12-15T15:34:19.959420+00:00"
    },
    "noteable": {
     "cell_type": "python",
     "output_collection_id": "ad7b5f8f-f2af-44f5-8946-ee12aeff8e90"
    }
   },
   "outputs": [],
   "source": [
    "analyst = pd.read_csv(r'/Users/eytansonsino/Documents/Data Analizi/Projects/Capstone Project - Data Skills/exported data/all skills combined/1_da_all_skills_pct.csv')\n",
    "scientist = pd.read_csv(r'/Users/eytansonsino/Documents/Data Analizi/Projects/Capstone Project - Data Skills/exported data/all skills combined/2_ds_all_skills_pct.csv')\n",
    "engineer = pd.read_csv(r'/Users/eytansonsino/Documents/Data Analizi/Projects/Capstone Project - Data Skills/exported data/all skills combined/3_de_all_skills_pct.csv')"
   ]
  },
  {
   "cell_type": "code",
   "execution_count": null,
   "id": "08ddee20-f05b-47dc-8acb-2e2115dc3670",
   "metadata": {
    "ExecuteTime": {
     "end_time": "2023-12-15T16:23:13.524633+00:00",
     "start_time": "2023-12-15T16:23:12.862835+00:00"
    },
    "jupyter": {
     "outputs_hidden": false,
     "source_hidden": false
    },
    "noteable": {
     "cell_type": "code",
     "output_collection_id": "32fb1935-9fdd-46fe-9879-f792d4ae264f"
    }
   },
   "outputs": [],
   "source": [
    "# Merging the three dataframes for a combined plot\n",
    "combined_skills = pd.concat([analyst.assign(Role='Data Analyst'),\n",
    "                            scientist.assign(Role='Data Scientist'),\n",
    "                            engineer.assign(Role='Data Engineer')])\n",
    "\n",
    "# Define a custom sort order for the 'Role' and 'skill' columns\n",
    "combined_skills['Role'] = pd.Categorical(combined_skills['Role'], \n",
    "                                         [\"Data Analyst\", \"Data Scientist\", \"Data Engineer\"])\n",
    "custom_skill_order = [\"SQL\", \"Python\", \"R\", \"Tableau\", \"AWS\", \"Excel\", \"Azure\", \"Spark\", \"Power BI\", \"Java\"]\n",
    "combined_skills['skill'] = pd.Categorical(combined_skills['skill'], custom_skill_order)\n",
    "\n",
    "# Sorting the DataFrame by 'Role' and then by 'skill' in the defined order\n",
    "combined_skills_sorted = combined_skills.sort_values(by=['Role', 'skill'])\n",
    "\n",
    "plt.figure(figsize=(16, 10))\n",
    "sns.barplot(x='freq_in_pct', y='skill', hue='Role', data=combined_skills_sorted, palette=['#ff6f69', '#005b96', '#ffcc5c'])\n",
    "\n",
    "plt.title('Top Skills Across Data Roles', fontsize=16)\n",
    "plt.xlabel('Percentage of Appearance in Job Postings', fontsize=14)\n",
    "plt.ylabel('', fontsize=14)\n",
    "plt.legend(fontsize='large', loc='lower right')\n",
    "plt.xticks(fontsize=14)\n",
    "plt.yticks(fontsize=12)\n",
    "\n",
    "# plt.savefig('9_all_skills_combined_pct')\n",
    "plt.show()\n"
   ]
  },
  {
   "cell_type": "markdown",
   "id": "335abf97-38f0-430d-8afe-4bcac80839a2",
   "metadata": {
    "noteable": {
     "cell_type": "markdown"
    }
   },
   "source": [
    "### Most Popular Skills - Descending Order for Data Analyst"
   ]
  },
  {
   "cell_type": "code",
   "execution_count": null,
   "id": "a6dc6332-ae0a-408f-8a92-814c2250114e",
   "metadata": {
    "ExecuteTime": {
     "end_time": "2023-12-15T16:27:55.406721+00:00",
     "start_time": "2023-12-15T16:27:54.755803+00:00"
    },
    "jupyter": {
     "outputs_hidden": false,
     "source_hidden": false
    },
    "noteable": {
     "cell_type": "code",
     "output_collection_id": "a5d6e4ef-ffc7-4e2b-8edb-2d8bd2b195b5"
    }
   },
   "outputs": [],
   "source": [
    "# Merging the three dataframes for a combined plot\n",
    "combined_skills = pd.concat([analyst.assign(Role='Data Analyst'),\n",
    "                            scientist.assign(Role='Data Scientist'),\n",
    "                            engineer.assign(Role='Data Engineer')])\n",
    "\n",
    "# Define a custom sort order for the 'Role' column\n",
    "combined_skills['Role'] = pd.Categorical(combined_skills['Role'], \n",
    "                                         [\"Data Analyst\", \"Data Scientist\", \"Data Engineer\"])\n",
    "\n",
    "# Sorting the skills in descending order\n",
    "combined_skills_sorted = combined_skills.sort_values(by=['Role', 'freq_in_pct'], ascending=[True, False])\n",
    "\n",
    "plt.figure(figsize=(16, 10))\n",
    "sns.barplot(x='freq_in_pct', y='skill', hue='Role', data=combined_skills_sorted, palette=['#ff6f69', '#005b96', '#ffcc5c'])\n",
    "\n",
    "plt.title(\"Top Skills Across Data Roles - 'Data Analyst' Prioritized\", fontsize=16)\n",
    "plt.xlabel('Percetage of Appearance in Job Postings', fontsize=14)\n",
    "plt.ylabel('', fontsize=14)\n",
    "plt.legend(fontsize='large', loc='lower right')\n",
    "plt.xticks(fontsize=14)\n",
    "plt.yticks(fontsize=12)\n",
    "\n",
    "#plt.savefig('10_da_all_skills_combined_pct.png')\n",
    "plt.show()\n"
   ]
  },
  {
   "cell_type": "code",
   "execution_count": null,
   "id": "5543990a-2d18-4216-82cc-ccb659689935",
   "metadata": {
    "noteable": {
     "assign_results_to": "sql_df_1",
     "cell_type": "sql",
     "db_connection": "@noteable"
    }
   },
   "outputs": [],
   "source": [
    "SELECT \n",
    "    job_title,\n",
    "    skill\n",
    "FROM data_cleaned.csv\n",
    "WHERE job_title IN ('Data Analyst', 'Data Scientist', 'Data Engineer')"
   ]
  }
 ],
 "metadata": {
  "kernel_info": {
   "name": "python3.9-noteable"
  },
  "kernelspec": {
   "display_name": "Python 3 (ipykernel)",
   "language": "python",
   "name": "python3"
  },
  "language_info": {
   "codemirror_mode": {
    "name": "ipython",
    "version": 3
   },
   "file_extension": ".py",
   "mimetype": "text/x-python",
   "name": "python",
   "nbconvert_exporter": "python",
   "pygments_lexer": "ipython3",
   "version": "3.11.5"
  },
  "noteable": {
   "db_connection": "@noteable"
  },
  "selected_hardware_size": "small"
 },
 "nbformat": 4,
 "nbformat_minor": 5
}
